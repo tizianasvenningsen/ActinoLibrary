{
 "cells": [
  {
   "cell_type": "markdown",
   "metadata": {
    "kernel": "SoS"
   },
   "source": [
    "Jupyter notebook to do clustering, k-means, on data from image identification. The only required input is an excel file with all the data."
   ]
  },
  {
   "cell_type": "markdown",
   "metadata": {
    "kernel": "SoS"
   },
   "source": [
    "You need to have installed:\n",
    "* numpy\n",
    "* pandas\n",
    "* sklearn\n",
    "* plotly"
   ]
  },
  {
   "cell_type": "code",
   "execution_count": 3,
   "metadata": {
    "kernel": "SoS"
   },
   "outputs": [],
   "source": [
    "%matplotlib inline  \n",
    "\n",
    "#modules required for analysis\n",
    "import matplotlib.pyplot as plt\n",
    "from mpl_toolkits.mplot3d import Axes3D # <--- This is important for 3d plotting \n",
    "import numpy as np\n",
    "from sklearn.preprocessing import normalize\n",
    "\n",
    "#Pandas for data manipulation\n",
    "import pandas as pd\n",
    "\n",
    "#To standardise\n",
    "from sklearn.preprocessing import StandardScaler\n",
    "\n",
    "#For clustering\n",
    "from sklearn.cluster import KMeans\n",
    "\n",
    "#For bioactivity predictor model \n",
    "from sklearn.linear_model import LogisticRegression\n",
    "from sklearn import metrics\n",
    "from sklearn.model_selection import train_test_split\n",
    "\n",
    "#To plotly\n",
    "import plotly.express as px\n",
    "\n",
    "#To heatmap\n",
    "import plotly.graph_objects as go\n",
    "\n",
    "#To PCA\n",
    "from sklearn.decomposition import PCA\n",
    "from sklearn.preprocessing import StandardScaler\n",
    "\n",
    "# For sqrt\n",
    "from math import sqrt\n",
    "\n",
    "#Metrics\n",
    "from sklearn import metrics\n",
    "from sklearn.metrics import pairwise_distances\n",
    "from sklearn.metrics import davies_bouldin_score\n",
    "\n",
    "#Plotting\n",
    "import plotly.express as px\n"
   ]
  },
  {
   "cell_type": "code",
   "execution_count": 4,
   "metadata": {
    "kernel": "SoS"
   },
   "outputs": [],
   "source": [
    "#Contributions to PCA \n",
    "def contribution(vector):\n",
    "    vector_sq  = vector**2\n",
    "    vector_sq_sum = sum(vector_sq)\n",
    "    vector_sum = np.true_divide(vector_sq, vector_sq_sum)\n",
    "    new_vector = [x * y for x, y in zip(vector_sum, np.sign(vector))]\n",
    "    return new_vector"
   ]
  },
  {
   "cell_type": "code",
   "execution_count": 5,
   "metadata": {},
   "outputs": [],
   "source": [
    "#Find what datapoints to connect arrows with for the \"clustering over time\"\n",
    "def getArrows(data):\n",
    "    arrows = []\n",
    "    for i in range(len(data)):\n",
    "        for j in range(len(data)):\n",
    "            label1 = data[\"sample\"][i].replace('.tif','')\n",
    "            label2 = data[\"sample\"][j].replace('.tif','')\n",
    "            prefix1 = label1[0:label1.rfind('_')]\n",
    "            prefix2 = label2[0:label2.rfind('_')]\n",
    "            if prefix1 == prefix2:\n",
    "                suffix1 = label1[label1.rfind(' ')+1:]\n",
    "                suffix2 = label2[label2.rfind(' ')+1:]\n",
    "                if (suffix1 == 'im1' and suffix2 == 'im2') or (suffix1 == 'im2' and suffix2 == 'im3'):\n",
    "                    arrows.append((i,j))\n",
    "\n",
    "    return arrows\n",
    "\n",
    "#Function that draws the scatterplot \n",
    "def scatterPlots():\n",
    "    #Calculates the standard derivation for PCA \n",
    "    pc1dev = np.sqrt(stddev**2 @ pca.components_[0]**2)\n",
    "    pc2dev = np.sqrt(stddev**2 @ pca.components_[1]**2)\n",
    "    pc3dev = np.sqrt(stddev**2 @ pca.components_[2]**2)\n",
    "    \n",
    "    #Save data\n",
    "    pcvar = pd.DataFrame(data = np.array([pc1dev, pc2dev, pc3dev]).T\n",
    "                 , columns = [\"pc1var\", \"pc2var\", \"pc3var\"])\n",
    "    principalDf = pd.DataFrame(data = principalComponents[:, 0:2]\n",
    "                 , columns = [pc1label, pc2label])\n",
    "    if plot_stddev:\n",
    "        print(\"The 1D plot explains \"+str(int(pca.explained_variance_ratio_[0]*100))+\"% of the data.\")\n",
    "        print(\"This 2D plot explains \" + str(int((pca.explained_variance_ratio_[0] + pca.explained_variance_ratio_[1])*100))+\"% of the data.\")\n",
    "        dataandClusters = pd.concat([dataAll, clustersNum, principalDf, pcvar], axis=1)\n",
    "        dataandClusters[\"cluster\"] = dataandClusters[\"cluster\"].astype(str)\n",
    "        fig = px.scatter(dataandClusters, hover_name='sample', x=pc1label, y=pc2label, error_x=\"pc1var\", error_y=\"pc2var\", color=\"cluster\")\n",
    "        if track_colony_days:\n",
    "            print(\"Tracking colony changes.\")\n",
    "            for (i,j) in getArrows(dataandClusters):\n",
    "                fig.add_annotation(x=principalComponents[j,0],y=principalComponents[j,1],ax=principalComponents[i,0],ay=principalComponents[i,1],axref=\"x\",ayref=\"y\",arrowhead=3,arrowsize=1,arrowwidth=1,arrowcolor='black',showarrow=True,xanchor=\"center\",yanchor=\"top\" if principalComponents[i,1]<principalComponents[j,1] else \"bottom\")\n",
    "        else:\n",
    "            print(\"Not tracking colony changes.\")\n",
    "        fig.show()\n",
    "    else:\n",
    "        print(\"The 1D plot explains \"+str(int(pca.explained_variance_ratio_[0]*100))+\"% of the data.\")\n",
    "        print(\"This 2D plot explains \" + str(int((pca.explained_variance_ratio_[0] + pca.explained_variance_ratio_[1])*100))+\"% of the data.\")\n",
    "        dataandClusters = pd.concat([dataAll, clustersNum, principalDf], axis=1)\n",
    "        dataandClusters[\"cluster\"] = dataandClusters[\"cluster\"].astype(str)\n",
    "        fig = px.scatter(dataandClusters, hover_name='sample', x=pc1label, y=pc2label, color=\"cluster\", color_discrete_map={\"0\": \"#EE553B\", \"1\": \"#0ECC96\", \"2\": \"#636FFC\"})\n",
    "        if track_colony_days:\n",
    "            print(\"Tracking colony changes.\")\n",
    "            for (i,j) in getArrows(dataandClusters):\n",
    "                fig.add_annotation(x=principalComponents[j,0],y=principalComponents[j,1],ax=principalComponents[i,0],ay=principalComponents[i,1],axref=\"x\",ayref=\"y\",arrowhead=3,arrowsize=1,arrowwidth=1,arrowcolor='black',showarrow=True,xanchor=\"center\",yanchor=\"top\" if principalComponents[i,1]<principalComponents[j,1] else \"bottom\")\n",
    "        else:\n",
    "            print(\"Not tracking colony changes.\")\n",
    "        fig.show()\n",
    "\n",
    "        \n",
    "    #Makes the 3D PCA plot \n",
    "    principalDf = pd.DataFrame(data = principalComponents[:, 0:3]\n",
    "                 , columns = [pc1label, pc2label, pc3label])\n",
    "    if plot_stddev:\n",
    "        print(\"This 3D plot explains \" + str(int((pca.explained_variance_ratio_[0] + pca.explained_variance_ratio_[1]++ pca.explained_variance_ratio_[2])*100))+\"% of the data.\")\n",
    "        dataandClusters = pd.concat([dataAll, clustersNum, principalDf, pcvar], axis=1)\n",
    "        dataandClusters[\"cluster\"] = dataandClusters[\"cluster\"].astype(str)\n",
    "        fig = px.scatter_3d(dataandClusters, x=pc1label, y=pc2label, z=pc3label, error_x=\"pc1var\", error_y=\"pc2var\", error_z=\"pc3var\", color=\"cluster\", opacity=0.7)\n",
    "        fig.show()\n",
    "    else:\n",
    "        print(\"This 3D plot explains \" + str(int((pca.explained_variance_ratio_[0] + pca.explained_variance_ratio_[1]++ pca.explained_variance_ratio_[2])*100))+\"% of the data.\")\n",
    "        dataandClusters = pd.concat([dataAll, clustersNum, principalDf], axis=1)\n",
    "        dataandClusters[\"cluster\"] = dataandClusters[\"cluster\"].astype(str)\n",
    "        fig = px.scatter_3d(dataandClusters, x=pc1label, y=pc2label, z=pc3label, color=\"cluster\", opacity=0.7)\n",
    "        fig.show()"
   ]
  },
  {
   "cell_type": "markdown",
   "metadata": {
    "kernel": "SoS"
   },
   "source": [
    "# Getting your data"
   ]
  },
  {
   "cell_type": "code",
   "execution_count": 6,
   "metadata": {
    "kernel": "SoS"
   },
   "outputs": [],
   "source": [
    "# Input timestamp of the data you want\n",
    "timestamp = \"4_maj_time_travel_alle\" #change to your timestamp\n",
    "\n",
    "dataAll = pd.read_excel('means_'+timestamp+'.xls') \n",
    "stddevsAll = pd.read_excel('stddev_'+timestamp+'.xls')\n",
    "\n",
    "dataAll.reset_index(drop=True, inplace=True)\n",
    "stddevsAll.reset_index(drop=True, inplace=True)\n",
    "assert dataAll.shape == stddevsAll.shape"
   ]
  },
  {
   "cell_type": "markdown",
   "metadata": {
    "kernel": "SoS"
   },
   "source": [
    "# Selecting number of clusters (k)"
   ]
  },
  {
   "cell_type": "markdown",
   "metadata": {
    "kernel": "SoS"
   },
   "source": [
    "For number of cluster selection we need to extract only the morphological features (28 in total) and normalized the values. We will use k-means clustering algorithm. For more information:\n",
    "https://scikit-learn.org/stable/modules/generated/sklearn.cluster.k_means.html?highlight=k%20means#sklearn.cluster.k_means"
   ]
  },
  {
   "cell_type": "code",
   "execution_count": 7,
   "metadata": {
    "kernel": "SoS"
   },
   "outputs": [],
   "source": [
    "#Selection and extraction of features - After this only 28/34 features are included\n",
    "features = ['peaks', 'height_peaks', 'circularity','eccentricity', \n",
    "            'RGB_mean_1', 'RGB_mean_2', 'RGB_mean_3', 'RGB_std_1',\n",
    "            'RGB_std_2', 'RGB_std_3', 'RGBt_mean_1', 'RGBt_mean_2', \n",
    "            'RGBt_mean_3', 'RGBt_std_1', 'RGBt_std_2', 'RGBt_std_3', \n",
    "            'Lab_mean_1', 'Lab_mean_2', 'Lab_mean_3', 'Lab_std_1', \n",
    "            'Lab_std_2', 'Lab_std_3', 'Labt_mean_1','Labt_mean_2', \n",
    "            'Labt_mean_3', 'Labt_std_1', 'Labt_std_2', 'Labt_std_3']\n",
    "data = dataAll.loc[:,features]\n",
    "stddevs = stddevsAll.loc[:,features]\n",
    "assert data.shape == stddevs.shape"
   ]
  },
  {
   "cell_type": "code",
   "execution_count": 8,
   "metadata": {
    "kernel": "SoS"
   },
   "outputs": [],
   "source": [
    "#Normalization of data\n",
    "x = StandardScaler().fit_transform(data)\n",
    "scaler = StandardScaler(with_mean=False)\n",
    "scaler.fit(data)\n",
    "stddev = scaler.transform(stddevs)"
   ]
  },
  {
   "cell_type": "markdown",
   "metadata": {
    "kernel": "SoS"
   },
   "source": [
    "## Metrics to define the best number of clusters, (k)"
   ]
  },
  {
   "cell_type": "markdown",
   "metadata": {
    "kernel": "SoS"
   },
   "source": [
    "In this example, it seems that the best number of clusters is around 10. We will use this window of number of clusters to go to the next step of the analysis. Here we are using three different metrics:Silhouette Coefficient, Calisnki-Harabasz Index and Davies-Bouldin Index.\n",
    "The Silhouette Coefficient has a range between -1 and +1, the higher the score the denser and more separated are the clusters. In the case of the Calisnki-Harabasz Index, dense and well separated clusters, compute a higher score. The third index, Davies-Bouldin Index, compares the distance between the clusters - the closer to zero the better the partition. \n",
    "For more info: https://scikit-learn.org/stable/modules/clustering.html#davies-bouldin-index"
   ]
  },
  {
   "cell_type": "code",
   "execution_count": 9,
   "metadata": {
    "kernel": "SoS"
   },
   "outputs": [],
   "source": [
    "#Keep the window from previous step\n",
    "m=15\n",
    "n_clusters = np.arange(2, m, 1) \n",
    "#Generate empty arrays to save the values\n",
    "silhouette_values = np.zeros((10, len(n_clusters)))\n",
    "calinski_values = np.zeros((10, len(n_clusters)))\n",
    "davies_values = np.zeros((10, len(n_clusters)))\n",
    "\n",
    "#Calculate each value for each k 10 times to get the mean at the end\n",
    "for index, i in enumerate(n_clusters):\n",
    "    for j in np.arange(10):\n",
    "        #calculate clusters\n",
    "        clusters = KMeans(n_clusters=i, random_state=10).fit(x)\n",
    "        cluster_labels = clusters.labels_\n",
    "    \n",
    "        #compute silhouette scores\n",
    "        silhouette_values[j, index] = metrics.silhouette_score(x, cluster_labels, metric='euclidean')\n",
    "        calinski_values[j, index] = metrics.calinski_harabasz_score(x, cluster_labels)\n",
    "        davies_values[j, index] = davies_bouldin_score(x, cluster_labels)"
   ]
  },
  {
   "cell_type": "code",
   "execution_count": 10,
   "metadata": {
    "kernel": "SoS"
   },
   "outputs": [
    {
     "data": {
      "text/plain": [
       "<ErrorbarContainer object of 3 artists>"
      ]
     },
     "execution_count": 10,
     "metadata": {},
     "output_type": "execute_result"
    },
    {
     "data": {
      "image/png": "[encoded data removed]",
      "text/plain": [
       "<Figure size 720x720 with 3 Axes>"
      ]
     },
     "metadata": {
      "needs_background": "light"
     },
     "output_type": "display_data"
    }
   ],
   "source": [
    "# Plotting the 3 metrics \n",
    "plt.figure(figsize=(10,10))\n",
    "\n",
    "plt.subplot(311)\n",
    "plt.title('Change of metrics with # of clusters K-means')\n",
    "plt.ylabel('Silhouette score')\n",
    "plt.errorbar(n_clusters, silhouette_values.mean(axis=0), yerr=silhouette_values.std(axis=0))\n",
    "\n",
    "plt.subplot(312)\n",
    "plt.ylabel('Calinski score')\n",
    "plt.errorbar(n_clusters, calinski_values.mean(axis=0), yerr=calinski_values.std(axis=0))\n",
    "\n",
    "plt.subplot(313)\n",
    "plt.xlabel('# clusters K-means')\n",
    "plt.ylabel('Davies score')\n",
    "plt.errorbar(n_clusters, davies_values.mean(axis=0), yerr=davies_values.std(axis=0))"
   ]
  },
  {
   "cell_type": "markdown",
   "metadata": {
    "kernel": "SoS"
   },
   "source": [
    "# Clustering"
   ]
  },
  {
   "cell_type": "code",
   "execution_count": 11,
   "metadata": {
    "kernel": "SoS"
   },
   "outputs": [],
   "source": [
    "#k value to use, number of clusters\n",
    "k=3#change\n",
    "clustering = KMeans(n_clusters=k, random_state=10).fit(x)\n",
    "\n",
    "d = {'cluster':clustering.labels_}\n",
    "clustersNum = pd.DataFrame(data=d)"
   ]
  },
  {
   "cell_type": "markdown",
   "metadata": {
    "kernel": "SoS"
   },
   "source": [
    "# PCA implementation\n",
    "For visualization the data needs to be reduce in dimensionallity, where each variable is one dimension. With PCA we can go from 28 dimensions (number of features used for clustering) to 2."
   ]
  },
  {
   "cell_type": "code",
   "execution_count": 12,
   "metadata": {
    "kernel": "SoS"
   },
   "outputs": [],
   "source": [
    "pca = PCA()\n",
    "principalComponents = pca.fit_transform(x)\n",
    "\n",
    "# Turn this ON (True) or OFF (False) to display error bars\n",
    "plot_stddev = False\n",
    "\n",
    "# Turn this ON (True) or OFF (False) to show how colonies move over time\n",
    "track_colony_days = True"
   ]
  },
  {
   "cell_type": "markdown",
   "metadata": {
    "kernel": "SoS"
   },
   "source": [
    "# Plot"
   ]
  },
  {
   "cell_type": "code",
   "execution_count": 14,
   "metadata": {
    "kernel": "SoS"
   },
   "outputs": [
    {
     "name": "stdout",
     "output_type": "stream",
     "text": [
      "The 1D plot explains 48% of the data.\n",
      "This 2D plot explains 69% of the data.\n",
      "Tracking colony changes.\n"
     ]
    },
    {
     "data": {
      "application/vnd.plotly.v1+json": {
       "config": {
        "plotlyServerURL": "https://plot.ly"
       },
       "data": [
        {
         "hovertemplate": "<b>%{hovertext}</b><br><br>cluster=1<br>Darkness=%{x}<br>Purpleness=%{y}<extra></extra>",
         "hovertext": [
          "TSA-1 10-4 im1",
          "40-3-9 10-5 im3",
          "ISP2-16 10-6 im1",
          "ISP2-6 10-5 im1",
          "ISP2-1 10-7 im2",
          "ISP2-14 10-3 im2",
          "ISP2-14 10-3 im3",
          "40-4-9 10-4 im2",
          "40-4-9 10-4 im3",
          "40-5-8 10-2 im3",
          "ISP2-15 10-7 im1",
          "ISP2-7 10-6 im2",
          "ISP2-7 10-6 im3",
          "ISP2-8 10-7 im1",
          "40-1-6 10-6 im3",
          "20-3-8 10-4 im3",
          "20-3-8 10-4 im2",
          "ISP2-9 10-7 im1",
          "20-3-11 10-6 im1",
          "20-2-4 10-4 im2",
          "20-2-4 10-4 im3",
          "20-4-1 10-5 im3",
          "20-4-1 10-5 im2",
          "HavSE8 10-3 im3",
          "20-5-5 10-4 im3",
          "20-5-5 10-4 im2",
          "ISP2-1 10-7 im1",
          "ISP2-13 10-6 im2",
          "40-5-8 10-2 im1",
          "TSA-1 10-4 im2",
          "TSA-1 10-4 im3",
          "ISP2-10 10-5 im1",
          "40-4-10 10-3 im3",
          "40-4-10 10-3 im2",
          "40-5-6 10-2 im2",
          "40-2-2 10-5 im2",
          "40-5-6 10-2 im3",
          "40-2-2 10-5 im3",
          "40-5-6 10-5 im2",
          "40-5-6 10-5 im3",
          "ISP2-16 10-6 im3",
          "ISP2-16 10-6 im2",
          "100-3-1 10-4 im2",
          "100-3-1 10-4 im3",
          "100-2-1 10-4 im3",
          "100-2-1 10-4 im2",
          "ISP2-3 10-6 im1",
          "100-2-11 10-4 im3",
          "100-2-11 10-4 im2",
          "ISP2-8 10-7 im3",
          "ISP2-8 10-7 im2",
          "ISP2-4 10-2 im3.tif",
          "ISP2-4 10-2 im2",
          "20-3-7 10-3 im2",
          "ISP2-15 10-7 im3"
         ],
         "legendgroup": "1",
         "marker": {
          "color": "#0ECC96",
          "symbol": "circle"
         },
         "mode": "markers",
         "name": "1",
         "orientation": "v",
         "showlegend": true,
         "type": "scatter",
         "x": [
          -4.84161759904805,
          -3.5424850253738414,
          -3.614005519273559,
          0.25806538638578913,
          -6.913083872415633,
          -0.24312194921369912,
          -3.7162481329189476,
          -2.5853549535749543,
          -2.1620693266536315,
          -0.6124375895333427,
          -5.344282246220721,
          -5.1095018526281955,
          -3.49425211823055,
          -1.67005619585758,
          -2.7845032087811075,
          -1.7592291851090753,
          -1.9810834567656062,
          -4.968879514696019,
          -1.0758147153163853,
          -2.2273135547203267,
          -2.2707799270350084,
          -3.0365818287379436,
          -2.010565684346796,
          -0.05260172332557683,
          -2.3433278571690295,
          -1.8119777760785212,
          -3.295499021800521,
          0.14023185595248056,
          0.026887269669251153,
          0.36316033238315276,
          0.5198185562981691,
          -3.075776012466798,
          -2.2576420200959437,
          -2.3768260424012957,
          0.007565599484268374,
          -3.181947647214836,
          -0.1569874062471095,
          -2.335759773903857,
          -1.9944356932459153,
          -2.53958246863114,
          -1.324301338643765,
          -3.794284933982792,
          -1.9739275100971432,
          -2.2381432137165445,
          -1.9391495829556404,
          -1.782745549889739,
          -3.399118255273221,
          -0.17144777429528726,
          -0.09580445499853078,
          -4.3510372463177855,
          -4.162923221541716,
          -3.131344587606633,
          1.0126179052188324,
          -2.916678893380604,
          -0.696866453379731
         ],
         "xaxis": "x",
         "y": [
          2.9015324147396986,
          3.92464088948881,
          1.0690657461256974,
          -0.3311392258835231,
          1.0989436556834031,
          1.1855221563262144,
          0.9965433759978393,
          0.6923775717364568,
          2.444227676250785,
          2.8260551877514697,
          1.1604990639660997,
          0.07755280895797809,
          -0.4776340574012586,
          2.2751674204289656,
          2.221499040545529,
          3.8116351364032215,
          0.742649830484237,
          1.436783396328411,
          1.0257123958756993,
          0.23776120349737934,
          2.571340033459247,
          3.6075592501641336,
          1.589790583900151,
          -1.550533201974786,
          2.061225067564597,
          0.8493104428042417,
          -0.10707941178254766,
          -0.29566171978212324,
          0.12778300130542092,
          5.983390132313728,
          7.013548113866111,
          2.4612136094994397,
          2.6897503573424406,
          2.3799222709000136,
          2.790210991605485,
          0.9932915718165647,
          3.117477168387409,
          2.1928811131794723,
          2.0346732702354715,
          2.1785673886229877,
          0.15917609102902458,
          1.4607093030043554,
          2.03830164182496,
          3.375436977678585,
          3.4103755286543707,
          2.188055069298697,
          0.34662250124445254,
          2.1607946533192286,
          1.1455582191534142,
          5.150988519590477,
          4.301817583585912,
          3.3566607599196407,
          2.4987374449042665,
          -2.46355941663561,
          -0.4937087776947036
         ],
         "yaxis": "y"
        },
        {
         "hovertemplate": "<b>%{hovertext}</b><br><br>cluster=0<br>Darkness=%{x}<br>Purpleness=%{y}<extra></extra>",
         "hovertext": [
          "100-2-19 10-3 im3",
          "100-2-19 10-3 im2",
          "ISP2-11 10-4 im3",
          "ISP2-11 10-4 im2",
          "100-3-6 10-5 im1",
          "Imrec12-4 10-4 im3",
          "Imrec12-4 10-4 im2",
          "Imrec19-23 10-5 im1",
          "40-1-3 10-4 im1",
          "ISP2-13 10-6 im1",
          "40-5-8 10-2 im2",
          "HavSE8 10-3 im1",
          "20-4-4 10-5 im1",
          "20-3-5 10-5 im1",
          "100-2-17 10-6 im2",
          "100-2-17 10-6 im3",
          "Imrec12-3 10-4 im3",
          "Imrec12-3 10-4 im2",
          "100-2-4 10-2 im1",
          "Hav55 10-5 im3",
          "Hav55 10-5 im2",
          "ISP2-4 10-2 im1",
          "20-3-7 10-3 im1",
          "40-5-7 10-6 im2",
          "40-5-7 10-6 im3",
          "40-2-1 10-5 im1",
          "20-4-5 10-6 im2",
          "20-4-5 10-6 im3",
          "40-4-16 10-4 im1",
          "40-4-1 10-4 im1",
          "20-2-1 10-6 im3",
          "20-2-1 10-6 im2",
          "40-4-17 10-5 im1",
          "20-3-5 10-5 im3",
          "20-3-5 10-5 im2",
          "HavSE8 10-3 im2",
          "20-4-4 10-5 im2",
          "20-4-4 10-5 im3",
          "ISP2-6 10-5 im3",
          "Imrec12-4 10-4 im1",
          "ISP2-14 10-3 im1",
          "Imrec19-23 10-5 im3",
          "Imrec19-23 10-5 im2",
          "40-1-3 10-4 im2",
          "40-1-3 10-4 im3",
          "100-2-19 10-3 im1",
          "ISP2-11 10-4 im1",
          "100-3-6 10-5 im3",
          "100-3-6 10-5 im2",
          "20-4-5 10-6 im1",
          "40-4-16 10-4 im2",
          "40-4-16 10-4 im3",
          "20-2-1 10-6 im1",
          "40-4-17 10-5 im2",
          "40-4-17 10-5 im3",
          "40-2-1 10-5 im2",
          "40-2-1 10-5 im3",
          "40-4-1 10-4 im2",
          "40-5-7 10-6 im1",
          "40-4-1 10-4 im3",
          "100-2-17 10-6 im1",
          "Imrec12-3 10-4 im1",
          "100-2-4 10-2 im2",
          "ISP2-7 10-6 im1",
          "Hav55 10-5 im1"
         ],
         "legendgroup": "0",
         "marker": {
          "color": "#EE553B",
          "symbol": "circle"
         },
         "mode": "markers",
         "name": "0",
         "orientation": "v",
         "showlegend": true,
         "type": "scatter",
         "x": [
          4.54675530458697,
          5.696498832732843,
          5.57055316851182,
          5.273453684752267,
          4.330337260764482,
          4.4593811115062705,
          6.162175342004795,
          6.152180392635482,
          4.903519144623087,
          3.2353012393883462,
          1.4487269859764198,
          4.4996762044771055,
          3.7678449215984866,
          3.2293302498099017,
          6.031498967835914,
          6.270191149507469,
          3.5027805746223017,
          2.7197020071504667,
          5.2351905325122,
          5.92678866791735,
          5.306051465060331,
          3.881573204763915,
          4.447163728372044,
          3.245586157933518,
          3.8745065402411414,
          3.946052200801686,
          3.5567944205931816,
          3.191264801294224,
          1.4728854321208467,
          4.170042546160154,
          6.512404509619199,
          6.088740401077029,
          2.465408785542695,
          1.4408151273086562,
          1.3929104569858861,
          4.373310863131126,
          3.44019905622847,
          3.8267005572364647,
          1.710578594417113,
          6.4597017793138996,
          2.838391374660618,
          4.058322274066089,
          5.8477490709042685,
          3.0775380106037624,
          2.5712086552812146,
          5.184865451541599,
          5.447611640924546,
          4.361455689512583,
          5.570803385753478,
          4.034638470819232,
          1.6957175819446524,
          2.27774676246541,
          10.15612969692899,
          2.4252942517908633,
          2.8890646899526486,
          3.3715621553972914,
          3.9277199323773266,
          2.4828503928027765,
          3.2085942588483345,
          2.5679003184718,
          4.892173897864297,
          4.087761005910895,
          3.5620146823369363,
          3.319058010880152,
          4.761865343741184
         ],
         "xaxis": "x",
         "y": [
          -2.376073513559332,
          -1.3252161785865897,
          0.7351884954404978,
          0.9173710394059075,
          0.2731418398233651,
          -4.565844861453469,
          -4.931684143972217,
          -0.7908220362985522,
          1.6396503043376798,
          -2.0119330118939067,
          0.3384213143104606,
          -0.5687933672358269,
          2.7465964589260357,
          -2.344510042792375,
          5.07394152139512,
          2.655040310683209,
          -2.046670989624067,
          -0.5307996167820501,
          -4.301929810402094,
          -4.0372901990305925,
          -3.9005122038910547,
          -1.862218385321272,
          -3.2939351286969427,
          2.484670064793537,
          1.676906863971518,
          1.0171079016274083,
          2.9629046344483294,
          3.0436785425246335,
          -0.9074672925699476,
          -3.6846117157501475,
          1.373129372464656,
          2.5606555098968333,
          1.6994573957946781,
          1.8834612796331676,
          1.1737680241544173,
          -0.15342993666666874,
          1.8203746732719528,
          0.4257826572544737,
          -3.5537411714143206,
          -5.333464510487807,
          -0.1554303085176319,
          -2.4622811954142625,
          -1.908429526239097,
          4.349666696702121,
          3.586981436614862,
          -0.91885490458611,
          0.09258578004430486,
          -1.4725795188697437,
          -1.0562610246933894,
          1.558326031893772,
          -0.012358128027631785,
          0.4203942652462735,
          1.5256557497952374,
          1.4630702824187767,
          0.7860838747267261,
          2.1019194561485244,
          1.237050604018585,
          -3.09232183403313,
          2.006710041286583,
          -3.203925609005754,
          4.406013385022541,
          0.438346664878512,
          -3.2768250461779456,
          -2.068754786827173,
          0.5258207505023913
         ],
         "yaxis": "y"
        },
        {
         "hovertemplate": "<b>%{hovertext}</b><br><br>cluster=2<br>Darkness=%{x}<br>Purpleness=%{y}<extra></extra>",
         "hovertext": [
          "ISP2-10 10-5 im3",
          "ISP2-10 10-5 im2",
          "40-4-10 10-3 im1",
          "40-3-9 10-5 im2",
          "40-5-6 10-2 im1",
          "40-2-2 10-5 im1",
          "40-5-6 10-5 im1",
          "ISP2-1 10-7 im3",
          "40-4-11 10-3 im1",
          "40-5-1 10-6 im3",
          "40-5-1 10-6 im2",
          "20-5-5 10-4 im1",
          "20-3-11 10-6 im3",
          "20-3-11 10-6 im2",
          "20-2-4 10-4 im1",
          "ISP2-12 10-6 im1",
          "20-4-1 10-5 im1",
          "40-3-4 10-3 im1",
          "40-1-6 10-6 im2",
          "100-2-11 10-4 im1",
          "20-4-6 10-2 im1",
          "100-3-1 10-4 im1",
          "Imrec9-9 10-5 im3",
          "Imrec9-9 10-5 im2",
          "100-2-1 10-4 im1",
          "ISP2-3 10-6 im2",
          "ISP2-3 10-6 im3",
          "ISP2-12 10-6 im3",
          "ISP2-12 10-6 im2",
          "40-4-11 10-3 im2",
          "40-4-11 10-3 im3",
          "40-5-1 10-6 im1",
          "ISP2-6 10-5 im2",
          "40-4-9 10-4 im1",
          "ISP2-13 10-6 im3",
          "40-3-9 10-5 im1",
          "ISP2-9 10-7 im2",
          "ISP2-9 10-7 im3",
          "Imrec9-9 10-5 im1",
          "20-3-8 10-4 im1",
          "20-4-6 10-2 im3",
          "20-4-6 10-2 im2",
          "20-3-7 10-3 im3",
          "40-3-4 10-3 im3",
          "40-3-4 10-3 im2",
          "40-1-6 10-6 im1",
          "ISP2-15 10-7 im2",
          "100-2-4 10-2 im3"
         ],
         "legendgroup": "2",
         "marker": {
          "color": "#636FFC",
          "symbol": "circle"
         },
         "mode": "markers",
         "name": "2",
         "orientation": "v",
         "showlegend": true,
         "type": "scatter",
         "x": [
          -5.922031957562663,
          -4.184665525402641,
          -3.3232707362591873,
          -3.4918839654371627,
          -0.7457997401815397,
          -3.7021920529057355,
          -0.9845295930921879,
          -6.5985821521842665,
          -3.398920750719278,
          -4.199670492666487,
          -4.920985725719103,
          -2.7831953584233267,
          -2.6436374612061013,
          -1.239134688212251,
          0.7592209243125903,
          -5.535979080309777,
          -3.3758069268530053,
          -3.368022577792931,
          -3.202278395541626,
          -0.5059951179772617,
          -0.6635612656191165,
          -2.4510053462947328,
          -4.2677271112434765,
          -4.6531630943044116,
          -1.3527896638428254,
          -1.4303179948433065,
          -0.8328954102447729,
          -6.050705360836413,
          -5.273239551857226,
          -1.3424197088273322,
          -1.0526978125461657,
          -1.4858384490483039,
          -1.1374246523694111,
          -3.542547200021231,
          -6.3661271248113644,
          -5.041938215485743,
          -0.8938202056961544,
          -1.452541726994276,
          -4.623129066909165,
          -3.9509302034271587,
          -4.095626997956301,
          -5.132669084552778,
          -1.7818625767557552,
          -1.9732435623596605,
          -2.1642714453620577,
          -4.775270401571806,
          -4.284554628310434,
          0.09212286904754054
         ],
         "xaxis": "x",
         "y": [
          0.6316190433151804,
          -0.058973151785292305,
          -3.1583890631053713,
          -0.04939132590180529,
          -1.4894851764399624,
          -2.0618326690285,
          -0.8529270432028841,
          -2.6768632520367657,
          -3.0481750869048905,
          -0.9653392123795604,
          -2.7862569511134234,
          -2.330698854597737,
          -1.3931774734131293,
          -1.1065425768878494,
          -3.7219721018143965,
          -1.613706342358715,
          -2.2919583464101256,
          -3.130547779108964,
          0.06814652669797923,
          -2.473335792533614,
          -2.8625151422033355,
          -1.6184121725475176,
          -1.2478669424190958,
          -4.192111504216523,
          -1.3973153243228498,
          -1.874809775465803,
          -2.6500034063448656,
          -2.3745205905012776,
          -2.7172055874251635,
          -0.628167726517909,
          0.06869221793731427,
          -2.4348890462991295,
          -0.7435173791919076,
          -2.1425477932179278,
          -1.8799321534281603,
          -2.0939115246809408,
          -0.7358382624003752,
          -1.2743798217964528,
          -4.929107986721377,
          -1.511436836742875,
          -2.7842653008956453,
          -2.8814989321284563,
          -2.165317261209029,
          -0.04030650019118205,
          -0.5866102894014047,
          -2.3204062073869967,
          -1.1939248232943143,
          -3.7729923422206144
         ],
         "yaxis": "y"
        }
       ],
       "layout": {
        "annotations": [
         {
          "arrowcolor": "black",
          "arrowhead": 3,
          "arrowsize": 1,
          "arrowwidth": 1,
          "ax": -4.84161759904805,
          "axref": "x",
          "ay": 2.9015324147396986,
          "ayref": "y",
          "showarrow": true,
          "x": 0.36316033238315276,
          "xanchor": "center",
          "y": 5.983390132313728,
          "yanchor": "top"
         },
         {
          "arrowcolor": "black",
          "arrowhead": 3,
          "arrowsize": 1,
          "arrowwidth": 1,
          "ax": 5.696498832732843,
          "axref": "x",
          "ay": -1.3252161785865897,
          "ayref": "y",
          "showarrow": true,
          "x": 4.54675530458697,
          "xanchor": "center",
          "y": -2.376073513559332,
          "yanchor": "bottom"
         },
         {
          "arrowcolor": "black",
          "arrowhead": 3,
          "arrowsize": 1,
          "arrowwidth": 1,
          "ax": -4.184665525402641,
          "axref": "x",
          "ay": -0.058973151785292305,
          "ayref": "y",
          "showarrow": true,
          "x": -5.922031957562663,
          "xanchor": "center",
          "y": 0.6316190433151804,
          "yanchor": "top"
         },
         {
          "arrowcolor": "black",
          "arrowhead": 3,
          "arrowsize": 1,
          "arrowwidth": 1,
          "ax": -3.3232707362591873,
          "axref": "x",
          "ay": -3.1583890631053713,
          "ayref": "y",
          "showarrow": true,
          "x": -2.3768260424012957,
          "xanchor": "center",
          "y": 2.3799222709000136,
          "yanchor": "top"
         },
         {
          "arrowcolor": "black",
          "arrowhead": 3,
          "arrowsize": 1,
          "arrowwidth": 1,
          "ax": -3.4918839654371627,
          "axref": "x",
          "ay": -0.04939132590180529,
          "ayref": "y",
          "showarrow": true,
          "x": -3.5424850253738414,
          "xanchor": "center",
          "y": 3.92464088948881,
          "yanchor": "top"
         },
         {
          "arrowcolor": "black",
          "arrowhead": 3,
          "arrowsize": 1,
          "arrowwidth": 1,
          "ax": 5.273453684752267,
          "axref": "x",
          "ay": 0.9173710394059075,
          "ayref": "y",
          "showarrow": true,
          "x": 5.57055316851182,
          "xanchor": "center",
          "y": 0.7351884954404978,
          "yanchor": "bottom"
         },
         {
          "arrowcolor": "black",
          "arrowhead": 3,
          "arrowsize": 1,
          "arrowwidth": 1,
          "ax": -0.7457997401815397,
          "axref": "x",
          "ay": -1.4894851764399624,
          "ayref": "y",
          "showarrow": true,
          "x": 0.007565599484268374,
          "xanchor": "center",
          "y": 2.790210991605485,
          "yanchor": "top"
         },
         {
          "arrowcolor": "black",
          "arrowhead": 3,
          "arrowsize": 1,
          "arrowwidth": 1,
          "ax": -3.7021920529057355,
          "axref": "x",
          "ay": -2.0618326690285,
          "ayref": "y",
          "showarrow": true,
          "x": -3.181947647214836,
          "xanchor": "center",
          "y": 0.9932915718165647,
          "yanchor": "top"
         },
         {
          "arrowcolor": "black",
          "arrowhead": 3,
          "arrowsize": 1,
          "arrowwidth": 1,
          "ax": -0.9845295930921879,
          "axref": "x",
          "ay": -0.8529270432028841,
          "ayref": "y",
          "showarrow": true,
          "x": -1.9944356932459153,
          "xanchor": "center",
          "y": 2.0346732702354715,
          "yanchor": "top"
         },
         {
          "arrowcolor": "black",
          "arrowhead": 3,
          "arrowsize": 1,
          "arrowwidth": 1,
          "ax": -3.614005519273559,
          "axref": "x",
          "ay": 1.0690657461256974,
          "ayref": "y",
          "showarrow": true,
          "x": -3.794284933982792,
          "xanchor": "center",
          "y": 1.4607093030043554,
          "yanchor": "top"
         },
         {
          "arrowcolor": "black",
          "arrowhead": 3,
          "arrowsize": 1,
          "arrowwidth": 1,
          "ax": 4.330337260764482,
          "axref": "x",
          "ay": 0.2731418398233651,
          "ayref": "y",
          "showarrow": true,
          "x": 5.570803385753478,
          "xanchor": "center",
          "y": -1.0562610246933894,
          "yanchor": "bottom"
         },
         {
          "arrowcolor": "black",
          "arrowhead": 3,
          "arrowsize": 1,
          "arrowwidth": 1,
          "ax": 0.25806538638578913,
          "axref": "x",
          "ay": -0.3311392258835231,
          "ayref": "y",
          "showarrow": true,
          "x": -1.1374246523694111,
          "xanchor": "center",
          "y": -0.7435173791919076,
          "yanchor": "bottom"
         },
         {
          "arrowcolor": "black",
          "arrowhead": 3,
          "arrowsize": 1,
          "arrowwidth": 1,
          "ax": -6.913083872415633,
          "axref": "x",
          "ay": 1.0989436556834031,
          "ayref": "y",
          "showarrow": true,
          "x": -6.5985821521842665,
          "xanchor": "center",
          "y": -2.6768632520367657,
          "yanchor": "bottom"
         },
         {
          "arrowcolor": "black",
          "arrowhead": 3,
          "arrowsize": 1,
          "arrowwidth": 1,
          "ax": 6.162175342004795,
          "axref": "x",
          "ay": -4.931684143972217,
          "ayref": "y",
          "showarrow": true,
          "x": 4.4593811115062705,
          "xanchor": "center",
          "y": -4.565844861453469,
          "yanchor": "top"
         },
         {
          "arrowcolor": "black",
          "arrowhead": 3,
          "arrowsize": 1,
          "arrowwidth": 1,
          "ax": -0.24312194921369912,
          "axref": "x",
          "ay": 1.1855221563262144,
          "ayref": "y",
          "showarrow": true,
          "x": -3.7162481329189476,
          "xanchor": "center",
          "y": 0.9965433759978393,
          "yanchor": "bottom"
         },
         {
          "arrowcolor": "black",
          "arrowhead": 3,
          "arrowsize": 1,
          "arrowwidth": 1,
          "ax": -2.5853549535749543,
          "axref": "x",
          "ay": 0.6923775717364568,
          "ayref": "y",
          "showarrow": true,
          "x": -2.1620693266536315,
          "xanchor": "center",
          "y": 2.444227676250785,
          "yanchor": "top"
         },
         {
          "arrowcolor": "black",
          "arrowhead": 3,
          "arrowsize": 1,
          "arrowwidth": 1,
          "ax": 6.152180392635482,
          "axref": "x",
          "ay": -0.7908220362985522,
          "ayref": "y",
          "showarrow": true,
          "x": 5.8477490709042685,
          "xanchor": "center",
          "y": -1.908429526239097,
          "yanchor": "bottom"
         },
         {
          "arrowcolor": "black",
          "arrowhead": 3,
          "arrowsize": 1,
          "arrowwidth": 1,
          "ax": 4.903519144623087,
          "axref": "x",
          "ay": 1.6396503043376798,
          "ayref": "y",
          "showarrow": true,
          "x": 3.0775380106037624,
          "xanchor": "center",
          "y": 4.349666696702121,
          "yanchor": "top"
         },
         {
          "arrowcolor": "black",
          "arrowhead": 3,
          "arrowsize": 1,
          "arrowwidth": 1,
          "ax": 3.2353012393883462,
          "axref": "x",
          "ay": -2.0119330118939067,
          "ayref": "y",
          "showarrow": true,
          "x": 0.14023185595248056,
          "xanchor": "center",
          "y": -0.29566171978212324,
          "yanchor": "top"
         },
         {
          "arrowcolor": "black",
          "arrowhead": 3,
          "arrowsize": 1,
          "arrowwidth": 1,
          "ax": 1.4487269859764198,
          "axref": "x",
          "ay": 0.3384213143104606,
          "ayref": "y",
          "showarrow": true,
          "x": -0.6124375895333427,
          "xanchor": "center",
          "y": 2.8260551877514697,
          "yanchor": "top"
         },
         {
          "arrowcolor": "black",
          "arrowhead": 3,
          "arrowsize": 1,
          "arrowwidth": 1,
          "ax": 4.4996762044771055,
          "axref": "x",
          "ay": -0.5687933672358269,
          "ayref": "y",
          "showarrow": true,
          "x": 4.373310863131126,
          "xanchor": "center",
          "y": -0.15342993666666874,
          "yanchor": "top"
         },
         {
          "arrowcolor": "black",
          "arrowhead": 3,
          "arrowsize": 1,
          "arrowwidth": 1,
          "ax": -3.398920750719278,
          "axref": "x",
          "ay": -3.0481750869048905,
          "ayref": "y",
          "showarrow": true,
          "x": -1.3424197088273322,
          "xanchor": "center",
          "y": -0.628167726517909,
          "yanchor": "top"
         },
         {
          "arrowcolor": "black",
          "arrowhead": 3,
          "arrowsize": 1,
          "arrowwidth": 1,
          "ax": -4.920985725719103,
          "axref": "x",
          "ay": -2.7862569511134234,
          "ayref": "y",
          "showarrow": true,
          "x": -4.199670492666487,
          "xanchor": "center",
          "y": -0.9653392123795604,
          "yanchor": "top"
         },
         {
          "arrowcolor": "black",
          "arrowhead": 3,
          "arrowsize": 1,
          "arrowwidth": 1,
          "ax": 3.7678449215984866,
          "axref": "x",
          "ay": 2.7465964589260357,
          "ayref": "y",
          "showarrow": true,
          "x": 3.44019905622847,
          "xanchor": "center",
          "y": 1.8203746732719528,
          "yanchor": "bottom"
         },
         {
          "arrowcolor": "black",
          "arrowhead": 3,
          "arrowsize": 1,
          "arrowwidth": 1,
          "ax": -2.7831953584233267,
          "axref": "x",
          "ay": -2.330698854597737,
          "ayref": "y",
          "showarrow": true,
          "x": -1.8119777760785212,
          "xanchor": "center",
          "y": 0.8493104428042417,
          "yanchor": "top"
         },
         {
          "arrowcolor": "black",
          "arrowhead": 3,
          "arrowsize": 1,
          "arrowwidth": 1,
          "ax": -1.239134688212251,
          "axref": "x",
          "ay": -1.1065425768878494,
          "ayref": "y",
          "showarrow": true,
          "x": -2.6436374612061013,
          "xanchor": "center",
          "y": -1.3931774734131293,
          "yanchor": "bottom"
         },
         {
          "arrowcolor": "black",
          "arrowhead": 3,
          "arrowsize": 1,
          "arrowwidth": 1,
          "ax": 0.7592209243125903,
          "axref": "x",
          "ay": -3.7219721018143965,
          "ayref": "y",
          "showarrow": true,
          "x": -2.2273135547203267,
          "xanchor": "center",
          "y": 0.23776120349737934,
          "yanchor": "top"
         },
         {
          "arrowcolor": "black",
          "arrowhead": 3,
          "arrowsize": 1,
          "arrowwidth": 1,
          "ax": 3.2293302498099017,
          "axref": "x",
          "ay": -2.344510042792375,
          "ayref": "y",
          "showarrow": true,
          "x": 1.3929104569858861,
          "xanchor": "center",
          "y": 1.1737680241544173,
          "yanchor": "top"
         },
         {
          "arrowcolor": "black",
          "arrowhead": 3,
          "arrowsize": 1,
          "arrowwidth": 1,
          "ax": -5.535979080309777,
          "axref": "x",
          "ay": -1.613706342358715,
          "ayref": "y",
          "showarrow": true,
          "x": -5.273239551857226,
          "xanchor": "center",
          "y": -2.7172055874251635,
          "yanchor": "bottom"
         },
         {
          "arrowcolor": "black",
          "arrowhead": 3,
          "arrowsize": 1,
          "arrowwidth": 1,
          "ax": -3.3758069268530053,
          "axref": "x",
          "ay": -2.2919583464101256,
          "ayref": "y",
          "showarrow": true,
          "x": -2.010565684346796,
          "xanchor": "center",
          "y": 1.589790583900151,
          "yanchor": "top"
         },
         {
          "arrowcolor": "black",
          "arrowhead": 3,
          "arrowsize": 1,
          "arrowwidth": 1,
          "ax": 6.031498967835914,
          "axref": "x",
          "ay": 5.07394152139512,
          "ayref": "y",
          "showarrow": true,
          "x": 6.270191149507469,
          "xanchor": "center",
          "y": 2.655040310683209,
          "yanchor": "bottom"
         },
         {
          "arrowcolor": "black",
          "arrowhead": 3,
          "arrowsize": 1,
          "arrowwidth": 1,
          "ax": 2.7197020071504667,
          "axref": "x",
          "ay": -0.5307996167820501,
          "ayref": "y",
          "showarrow": true,
          "x": 3.5027805746223017,
          "xanchor": "center",
          "y": -2.046670989624067,
          "yanchor": "bottom"
         },
         {
          "arrowcolor": "black",
          "arrowhead": 3,
          "arrowsize": 1,
          "arrowwidth": 1,
          "ax": 5.2351905325122,
          "axref": "x",
          "ay": -4.301929810402094,
          "ayref": "y",
          "showarrow": true,
          "x": 3.5620146823369363,
          "xanchor": "center",
          "y": -3.2768250461779456,
          "yanchor": "top"
         },
         {
          "arrowcolor": "black",
          "arrowhead": 3,
          "arrowsize": 1,
          "arrowwidth": 1,
          "ax": -5.344282246220721,
          "axref": "x",
          "ay": 1.1604990639660997,
          "ayref": "y",
          "showarrow": true,
          "x": -4.284554628310434,
          "xanchor": "center",
          "y": -1.1939248232943143,
          "yanchor": "bottom"
         },
         {
          "arrowcolor": "black",
          "arrowhead": 3,
          "arrowsize": 1,
          "arrowwidth": 1,
          "ax": -5.1095018526281955,
          "axref": "x",
          "ay": 0.07755280895797809,
          "ayref": "y",
          "showarrow": true,
          "x": -3.49425211823055,
          "xanchor": "center",
          "y": -0.4776340574012586,
          "yanchor": "bottom"
         },
         {
          "arrowcolor": "black",
          "arrowhead": 3,
          "arrowsize": 1,
          "arrowwidth": 1,
          "ax": 5.306051465060331,
          "axref": "x",
          "ay": -3.9005122038910547,
          "ayref": "y",
          "showarrow": true,
          "x": 5.92678866791735,
          "xanchor": "center",
          "y": -4.0372901990305925,
          "yanchor": "bottom"
         },
         {
          "arrowcolor": "black",
          "arrowhead": 3,
          "arrowsize": 1,
          "arrowwidth": 1,
          "ax": -1.67005619585758,
          "axref": "x",
          "ay": 2.2751674204289656,
          "ayref": "y",
          "showarrow": true,
          "x": -4.162923221541716,
          "xanchor": "center",
          "y": 4.301817583585912,
          "yanchor": "top"
         },
         {
          "arrowcolor": "black",
          "arrowhead": 3,
          "arrowsize": 1,
          "arrowwidth": 1,
          "ax": 3.881573204763915,
          "axref": "x",
          "ay": -1.862218385321272,
          "ayref": "y",
          "showarrow": true,
          "x": 1.0126179052188324,
          "xanchor": "center",
          "y": 2.4987374449042665,
          "yanchor": "top"
         },
         {
          "arrowcolor": "black",
          "arrowhead": 3,
          "arrowsize": 1,
          "arrowwidth": 1,
          "ax": 4.447163728372044,
          "axref": "x",
          "ay": -3.2939351286969427,
          "ayref": "y",
          "showarrow": true,
          "x": -2.916678893380604,
          "xanchor": "center",
          "y": -2.46355941663561,
          "yanchor": "top"
         },
         {
          "arrowcolor": "black",
          "arrowhead": 3,
          "arrowsize": 1,
          "arrowwidth": 1,
          "ax": 3.245586157933518,
          "axref": "x",
          "ay": 2.484670064793537,
          "ayref": "y",
          "showarrow": true,
          "x": 3.8745065402411414,
          "xanchor": "center",
          "y": 1.676906863971518,
          "yanchor": "bottom"
         },
         {
          "arrowcolor": "black",
          "arrowhead": 3,
          "arrowsize": 1,
          "arrowwidth": 1,
          "ax": -3.368022577792931,
          "axref": "x",
          "ay": -3.130547779108964,
          "ayref": "y",
          "showarrow": true,
          "x": -2.1642714453620577,
          "xanchor": "center",
          "y": -0.5866102894014047,
          "yanchor": "top"
         },
         {
          "arrowcolor": "black",
          "arrowhead": 3,
          "arrowsize": 1,
          "arrowwidth": 1,
          "ax": -3.202278395541626,
          "axref": "x",
          "ay": 0.06814652669797923,
          "ayref": "y",
          "showarrow": true,
          "x": -2.7845032087811075,
          "xanchor": "center",
          "y": 2.221499040545529,
          "yanchor": "top"
         },
         {
          "arrowcolor": "black",
          "arrowhead": 3,
          "arrowsize": 1,
          "arrowwidth": 1,
          "ax": -1.9810834567656062,
          "axref": "x",
          "ay": 0.742649830484237,
          "ayref": "y",
          "showarrow": true,
          "x": -1.7592291851090753,
          "xanchor": "center",
          "y": 3.8116351364032215,
          "yanchor": "top"
         },
         {
          "arrowcolor": "black",
          "arrowhead": 3,
          "arrowsize": 1,
          "arrowwidth": 1,
          "ax": -0.5059951179772617,
          "axref": "x",
          "ay": -2.473335792533614,
          "ayref": "y",
          "showarrow": true,
          "x": -0.09580445499853078,
          "xanchor": "center",
          "y": 1.1455582191534142,
          "yanchor": "top"
         },
         {
          "arrowcolor": "black",
          "arrowhead": 3,
          "arrowsize": 1,
          "arrowwidth": 1,
          "ax": 3.946052200801686,
          "axref": "x",
          "ay": 1.0171079016274083,
          "ayref": "y",
          "showarrow": true,
          "x": 3.3715621553972914,
          "xanchor": "center",
          "y": 2.1019194561485244,
          "yanchor": "top"
         },
         {
          "arrowcolor": "black",
          "arrowhead": 3,
          "arrowsize": 1,
          "arrowwidth": 1,
          "ax": -0.6635612656191165,
          "axref": "x",
          "ay": -2.8625151422033355,
          "ayref": "y",
          "showarrow": true,
          "x": -5.132669084552778,
          "xanchor": "center",
          "y": -2.8814989321284563,
          "yanchor": "bottom"
         },
         {
          "arrowcolor": "black",
          "arrowhead": 3,
          "arrowsize": 1,
          "arrowwidth": 1,
          "ax": 3.5567944205931816,
          "axref": "x",
          "ay": 2.9629046344483294,
          "ayref": "y",
          "showarrow": true,
          "x": 3.191264801294224,
          "xanchor": "center",
          "y": 3.0436785425246335,
          "yanchor": "top"
         },
         {
          "arrowcolor": "black",
          "arrowhead": 3,
          "arrowsize": 1,
          "arrowwidth": 1,
          "ax": -4.968879514696019,
          "axref": "x",
          "ay": 1.436783396328411,
          "ayref": "y",
          "showarrow": true,
          "x": -0.8938202056961544,
          "xanchor": "center",
          "y": -0.7358382624003752,
          "yanchor": "bottom"
         },
         {
          "arrowcolor": "black",
          "arrowhead": 3,
          "arrowsize": 1,
          "arrowwidth": 1,
          "ax": 1.4728854321208467,
          "axref": "x",
          "ay": -0.9074672925699476,
          "ayref": "y",
          "showarrow": true,
          "x": 1.6957175819446524,
          "xanchor": "center",
          "y": -0.012358128027631785,
          "yanchor": "top"
         },
         {
          "arrowcolor": "black",
          "arrowhead": 3,
          "arrowsize": 1,
          "arrowwidth": 1,
          "ax": -2.4510053462947328,
          "axref": "x",
          "ay": -1.6184121725475176,
          "ayref": "y",
          "showarrow": true,
          "x": -1.9739275100971432,
          "xanchor": "center",
          "y": 2.03830164182496,
          "yanchor": "top"
         },
         {
          "arrowcolor": "black",
          "arrowhead": 3,
          "arrowsize": 1,
          "arrowwidth": 1,
          "ax": 4.170042546160154,
          "axref": "x",
          "ay": -3.6846117157501475,
          "ayref": "y",
          "showarrow": true,
          "x": 2.4828503928027765,
          "xanchor": "center",
          "y": -3.09232183403313,
          "yanchor": "top"
         },
         {
          "arrowcolor": "black",
          "arrowhead": 3,
          "arrowsize": 1,
          "arrowwidth": 1,
          "ax": 6.088740401077029,
          "axref": "x",
          "ay": 2.5606555098968333,
          "ayref": "y",
          "showarrow": true,
          "x": 6.512404509619199,
          "xanchor": "center",
          "y": 1.373129372464656,
          "yanchor": "bottom"
         },
         {
          "arrowcolor": "black",
          "arrowhead": 3,
          "arrowsize": 1,
          "arrowwidth": 1,
          "ax": -4.6531630943044116,
          "axref": "x",
          "ay": -4.192111504216523,
          "ayref": "y",
          "showarrow": true,
          "x": -4.2677271112434765,
          "xanchor": "center",
          "y": -1.2478669424190958,
          "yanchor": "top"
         },
         {
          "arrowcolor": "black",
          "arrowhead": 3,
          "arrowsize": 1,
          "arrowwidth": 1,
          "ax": -1.3527896638428254,
          "axref": "x",
          "ay": -1.3973153243228498,
          "ayref": "y",
          "showarrow": true,
          "x": -1.782745549889739,
          "xanchor": "center",
          "y": 2.188055069298697,
          "yanchor": "top"
         },
         {
          "arrowcolor": "black",
          "arrowhead": 3,
          "arrowsize": 1,
          "arrowwidth": 1,
          "ax": 2.465408785542695,
          "axref": "x",
          "ay": 1.6994573957946781,
          "ayref": "y",
          "showarrow": true,
          "x": 2.4252942517908633,
          "xanchor": "center",
          "y": 1.4630702824187767,
          "yanchor": "bottom"
         },
         {
          "arrowcolor": "black",
          "arrowhead": 3,
          "arrowsize": 1,
          "arrowwidth": 1,
          "ax": -1.4303179948433065,
          "axref": "x",
          "ay": -1.874809775465803,
          "ayref": "y",
          "showarrow": true,
          "x": -0.8328954102447729,
          "xanchor": "center",
          "y": -2.6500034063448656,
          "yanchor": "bottom"
         },
         {
          "arrowcolor": "black",
          "arrowhead": 3,
          "arrowsize": 1,
          "arrowwidth": 1,
          "ax": -1.0758147153163853,
          "axref": "x",
          "ay": 1.0257123958756993,
          "ayref": "y",
          "showarrow": true,
          "x": -1.239134688212251,
          "xanchor": "center",
          "y": -1.1065425768878494,
          "yanchor": "bottom"
         },
         {
          "arrowcolor": "black",
          "arrowhead": 3,
          "arrowsize": 1,
          "arrowwidth": 1,
          "ax": -2.2273135547203267,
          "axref": "x",
          "ay": 0.23776120349737934,
          "ayref": "y",
          "showarrow": true,
          "x": -2.2707799270350084,
          "xanchor": "center",
          "y": 2.571340033459247,
          "yanchor": "top"
         },
         {
          "arrowcolor": "black",
          "arrowhead": 3,
          "arrowsize": 1,
          "arrowwidth": 1,
          "ax": 1.3929104569858861,
          "axref": "x",
          "ay": 1.1737680241544173,
          "ayref": "y",
          "showarrow": true,
          "x": 1.4408151273086562,
          "xanchor": "center",
          "y": 1.8834612796331676,
          "yanchor": "top"
         },
         {
          "arrowcolor": "black",
          "arrowhead": 3,
          "arrowsize": 1,
          "arrowwidth": 1,
          "ax": -5.273239551857226,
          "axref": "x",
          "ay": -2.7172055874251635,
          "ayref": "y",
          "showarrow": true,
          "x": -6.050705360836413,
          "xanchor": "center",
          "y": -2.3745205905012776,
          "yanchor": "top"
         },
         {
          "arrowcolor": "black",
          "arrowhead": 3,
          "arrowsize": 1,
          "arrowwidth": 1,
          "ax": -2.010565684346796,
          "axref": "x",
          "ay": 1.589790583900151,
          "ayref": "y",
          "showarrow": true,
          "x": -3.0365818287379436,
          "xanchor": "center",
          "y": 3.6075592501641336,
          "yanchor": "top"
         },
         {
          "arrowcolor": "black",
          "arrowhead": 3,
          "arrowsize": 1,
          "arrowwidth": 1,
          "ax": 4.373310863131126,
          "axref": "x",
          "ay": -0.15342993666666874,
          "ayref": "y",
          "showarrow": true,
          "x": -0.05260172332557683,
          "xanchor": "center",
          "y": -1.550533201974786,
          "yanchor": "bottom"
         },
         {
          "arrowcolor": "black",
          "arrowhead": 3,
          "arrowsize": 1,
          "arrowwidth": 1,
          "ax": -1.3424197088273322,
          "axref": "x",
          "ay": -0.628167726517909,
          "ayref": "y",
          "showarrow": true,
          "x": -1.0526978125461657,
          "xanchor": "center",
          "y": 0.06869221793731427,
          "yanchor": "top"
         },
         {
          "arrowcolor": "black",
          "arrowhead": 3,
          "arrowsize": 1,
          "arrowwidth": 1,
          "ax": -1.4858384490483039,
          "axref": "x",
          "ay": -2.4348890462991295,
          "ayref": "y",
          "showarrow": true,
          "x": -4.920985725719103,
          "xanchor": "center",
          "y": -2.7862569511134234,
          "yanchor": "bottom"
         },
         {
          "arrowcolor": "black",
          "arrowhead": 3,
          "arrowsize": 1,
          "arrowwidth": 1,
          "ax": 3.44019905622847,
          "axref": "x",
          "ay": 1.8203746732719528,
          "ayref": "y",
          "showarrow": true,
          "x": 3.8267005572364647,
          "xanchor": "center",
          "y": 0.4257826572544737,
          "yanchor": "bottom"
         },
         {
          "arrowcolor": "black",
          "arrowhead": 3,
          "arrowsize": 1,
          "arrowwidth": 1,
          "ax": -1.8119777760785212,
          "axref": "x",
          "ay": 0.8493104428042417,
          "ayref": "y",
          "showarrow": true,
          "x": -2.3433278571690295,
          "xanchor": "center",
          "y": 2.061225067564597,
          "yanchor": "top"
         },
         {
          "arrowcolor": "black",
          "arrowhead": 3,
          "arrowsize": 1,
          "arrowwidth": 1,
          "ax": -1.1374246523694111,
          "axref": "x",
          "ay": -0.7435173791919076,
          "ayref": "y",
          "showarrow": true,
          "x": 1.710578594417113,
          "xanchor": "center",
          "y": -3.5537411714143206,
          "yanchor": "bottom"
         },
         {
          "arrowcolor": "black",
          "arrowhead": 3,
          "arrowsize": 1,
          "arrowwidth": 1,
          "ax": -3.295499021800521,
          "axref": "x",
          "ay": -0.10707941178254766,
          "ayref": "y",
          "showarrow": true,
          "x": -6.913083872415633,
          "xanchor": "center",
          "y": 1.0989436556834031,
          "yanchor": "top"
         },
         {
          "arrowcolor": "black",
          "arrowhead": 3,
          "arrowsize": 1,
          "arrowwidth": 1,
          "ax": 6.4597017793138996,
          "axref": "x",
          "ay": -5.333464510487807,
          "ayref": "y",
          "showarrow": true,
          "x": 6.162175342004795,
          "xanchor": "center",
          "y": -4.931684143972217,
          "yanchor": "top"
         },
         {
          "arrowcolor": "black",
          "arrowhead": 3,
          "arrowsize": 1,
          "arrowwidth": 1,
          "ax": 2.838391374660618,
          "axref": "x",
          "ay": -0.1554303085176319,
          "ayref": "y",
          "showarrow": true,
          "x": -0.24312194921369912,
          "xanchor": "center",
          "y": 1.1855221563262144,
          "yanchor": "top"
         },
         {
          "arrowcolor": "black",
          "arrowhead": 3,
          "arrowsize": 1,
          "arrowwidth": 1,
          "ax": -3.542547200021231,
          "axref": "x",
          "ay": -2.1425477932179278,
          "ayref": "y",
          "showarrow": true,
          "x": -2.5853549535749543,
          "xanchor": "center",
          "y": 0.6923775717364568,
          "yanchor": "top"
         },
         {
          "arrowcolor": "black",
          "arrowhead": 3,
          "arrowsize": 1,
          "arrowwidth": 1,
          "ax": 5.8477490709042685,
          "axref": "x",
          "ay": -1.908429526239097,
          "ayref": "y",
          "showarrow": true,
          "x": 4.058322274066089,
          "xanchor": "center",
          "y": -2.4622811954142625,
          "yanchor": "bottom"
         },
         {
          "arrowcolor": "black",
          "arrowhead": 3,
          "arrowsize": 1,
          "arrowwidth": 1,
          "ax": 0.14023185595248056,
          "axref": "x",
          "ay": -0.29566171978212324,
          "ayref": "y",
          "showarrow": true,
          "x": -6.3661271248113644,
          "xanchor": "center",
          "y": -1.8799321534281603,
          "yanchor": "bottom"
         },
         {
          "arrowcolor": "black",
          "arrowhead": 3,
          "arrowsize": 1,
          "arrowwidth": 1,
          "ax": 0.026887269669251153,
          "axref": "x",
          "ay": 0.12778300130542092,
          "ayref": "y",
          "showarrow": true,
          "x": 1.4487269859764198,
          "xanchor": "center",
          "y": 0.3384213143104606,
          "yanchor": "top"
         },
         {
          "arrowcolor": "black",
          "arrowhead": 3,
          "arrowsize": 1,
          "arrowwidth": 1,
          "ax": 3.0775380106037624,
          "axref": "x",
          "ay": 4.349666696702121,
          "ayref": "y",
          "showarrow": true,
          "x": 2.5712086552812146,
          "xanchor": "center",
          "y": 3.586981436614862,
          "yanchor": "bottom"
         },
         {
          "arrowcolor": "black",
          "arrowhead": 3,
          "arrowsize": 1,
          "arrowwidth": 1,
          "ax": 5.184865451541599,
          "axref": "x",
          "ay": -0.91885490458611,
          "ayref": "y",
          "showarrow": true,
          "x": 5.696498832732843,
          "xanchor": "center",
          "y": -1.3252161785865897,
          "yanchor": "bottom"
         },
         {
          "arrowcolor": "black",
          "arrowhead": 3,
          "arrowsize": 1,
          "arrowwidth": 1,
          "ax": 0.36316033238315276,
          "axref": "x",
          "ay": 5.983390132313728,
          "ayref": "y",
          "showarrow": true,
          "x": 0.5198185562981691,
          "xanchor": "center",
          "y": 7.013548113866111,
          "yanchor": "top"
         },
         {
          "arrowcolor": "black",
          "arrowhead": 3,
          "arrowsize": 1,
          "arrowwidth": 1,
          "ax": -3.075776012466798,
          "axref": "x",
          "ay": 2.4612136094994397,
          "ayref": "y",
          "showarrow": true,
          "x": -4.184665525402641,
          "xanchor": "center",
          "y": -0.058973151785292305,
          "yanchor": "bottom"
         },
         {
          "arrowcolor": "black",
          "arrowhead": 3,
          "arrowsize": 1,
          "arrowwidth": 1,
          "ax": -2.3768260424012957,
          "axref": "x",
          "ay": 2.3799222709000136,
          "ayref": "y",
          "showarrow": true,
          "x": -2.2576420200959437,
          "xanchor": "center",
          "y": 2.6897503573424406,
          "yanchor": "top"
         },
         {
          "arrowcolor": "black",
          "arrowhead": 3,
          "arrowsize": 1,
          "arrowwidth": 1,
          "ax": -5.041938215485743,
          "axref": "x",
          "ay": -2.0939115246809408,
          "ayref": "y",
          "showarrow": true,
          "x": -3.4918839654371627,
          "xanchor": "center",
          "y": -0.04939132590180529,
          "yanchor": "top"
         },
         {
          "arrowcolor": "black",
          "arrowhead": 3,
          "arrowsize": 1,
          "arrowwidth": 1,
          "ax": 5.447611640924546,
          "axref": "x",
          "ay": 0.09258578004430486,
          "ayref": "y",
          "showarrow": true,
          "x": 5.273453684752267,
          "xanchor": "center",
          "y": 0.9173710394059075,
          "yanchor": "top"
         },
         {
          "arrowcolor": "black",
          "arrowhead": 3,
          "arrowsize": 1,
          "arrowwidth": 1,
          "ax": 0.007565599484268374,
          "axref": "x",
          "ay": 2.790210991605485,
          "ayref": "y",
          "showarrow": true,
          "x": -0.1569874062471095,
          "xanchor": "center",
          "y": 3.117477168387409,
          "yanchor": "top"
         },
         {
          "arrowcolor": "black",
          "arrowhead": 3,
          "arrowsize": 1,
          "arrowwidth": 1,
          "ax": -3.181947647214836,
          "axref": "x",
          "ay": 0.9932915718165647,
          "ayref": "y",
          "showarrow": true,
          "x": -2.335759773903857,
          "xanchor": "center",
          "y": 2.1928811131794723,
          "yanchor": "top"
         },
         {
          "arrowcolor": "black",
          "arrowhead": 3,
          "arrowsize": 1,
          "arrowwidth": 1,
          "ax": -1.9944356932459153,
          "axref": "x",
          "ay": 2.0346732702354715,
          "ayref": "y",
          "showarrow": true,
          "x": -2.53958246863114,
          "xanchor": "center",
          "y": 2.1785673886229877,
          "yanchor": "top"
         },
         {
          "arrowcolor": "black",
          "arrowhead": 3,
          "arrowsize": 1,
          "arrowwidth": 1,
          "ax": -3.794284933982792,
          "axref": "x",
          "ay": 1.4607093030043554,
          "ayref": "y",
          "showarrow": true,
          "x": -1.324301338643765,
          "xanchor": "center",
          "y": 0.15917609102902458,
          "yanchor": "bottom"
         },
         {
          "arrowcolor": "black",
          "arrowhead": 3,
          "arrowsize": 1,
          "arrowwidth": 1,
          "ax": 5.570803385753478,
          "axref": "x",
          "ay": -1.0562610246933894,
          "ayref": "y",
          "showarrow": true,
          "x": 4.361455689512583,
          "xanchor": "center",
          "y": -1.4725795188697437,
          "yanchor": "bottom"
         },
         {
          "arrowcolor": "black",
          "arrowhead": 3,
          "arrowsize": 1,
          "arrowwidth": 1,
          "ax": -0.8938202056961544,
          "axref": "x",
          "ay": -0.7358382624003752,
          "ayref": "y",
          "showarrow": true,
          "x": -1.452541726994276,
          "xanchor": "center",
          "y": -1.2743798217964528,
          "yanchor": "bottom"
         },
         {
          "arrowcolor": "black",
          "arrowhead": 3,
          "arrowsize": 1,
          "arrowwidth": 1,
          "ax": 4.034638470819232,
          "axref": "x",
          "ay": 1.558326031893772,
          "ayref": "y",
          "showarrow": true,
          "x": 3.5567944205931816,
          "xanchor": "center",
          "y": 2.9629046344483294,
          "yanchor": "top"
         },
         {
          "arrowcolor": "black",
          "arrowhead": 3,
          "arrowsize": 1,
          "arrowwidth": 1,
          "ax": 1.6957175819446524,
          "axref": "x",
          "ay": -0.012358128027631785,
          "ayref": "y",
          "showarrow": true,
          "x": 2.27774676246541,
          "xanchor": "center",
          "y": 0.4203942652462735,
          "yanchor": "top"
         },
         {
          "arrowcolor": "black",
          "arrowhead": 3,
          "arrowsize": 1,
          "arrowwidth": 1,
          "ax": -1.9739275100971432,
          "axref": "x",
          "ay": 2.03830164182496,
          "ayref": "y",
          "showarrow": true,
          "x": -2.2381432137165445,
          "xanchor": "center",
          "y": 3.375436977678585,
          "yanchor": "top"
         },
         {
          "arrowcolor": "black",
          "arrowhead": 3,
          "arrowsize": 1,
          "arrowwidth": 1,
          "ax": 10.15612969692899,
          "axref": "x",
          "ay": 1.5256557497952374,
          "ayref": "y",
          "showarrow": true,
          "x": 6.088740401077029,
          "xanchor": "center",
          "y": 2.5606555098968333,
          "yanchor": "top"
         },
         {
          "arrowcolor": "black",
          "arrowhead": 3,
          "arrowsize": 1,
          "arrowwidth": 1,
          "ax": -4.623129066909165,
          "axref": "x",
          "ay": -4.929107986721377,
          "ayref": "y",
          "showarrow": true,
          "x": -4.6531630943044116,
          "xanchor": "center",
          "y": -4.192111504216523,
          "yanchor": "top"
         },
         {
          "arrowcolor": "black",
          "arrowhead": 3,
          "arrowsize": 1,
          "arrowwidth": 1,
          "ax": -1.782745549889739,
          "axref": "x",
          "ay": 2.188055069298697,
          "ayref": "y",
          "showarrow": true,
          "x": -1.9391495829556404,
          "xanchor": "center",
          "y": 3.4103755286543707,
          "yanchor": "top"
         },
         {
          "arrowcolor": "black",
          "arrowhead": 3,
          "arrowsize": 1,
          "arrowwidth": 1,
          "ax": -3.399118255273221,
          "axref": "x",
          "ay": 0.34662250124445254,
          "ayref": "y",
          "showarrow": true,
          "x": -1.4303179948433065,
          "xanchor": "center",
          "y": -1.874809775465803,
          "yanchor": "bottom"
         },
         {
          "arrowcolor": "black",
          "arrowhead": 3,
          "arrowsize": 1,
          "arrowwidth": 1,
          "ax": 2.4252942517908633,
          "axref": "x",
          "ay": 1.4630702824187767,
          "ayref": "y",
          "showarrow": true,
          "x": 2.8890646899526486,
          "xanchor": "center",
          "y": 0.7860838747267261,
          "yanchor": "bottom"
         },
         {
          "arrowcolor": "black",
          "arrowhead": 3,
          "arrowsize": 1,
          "arrowwidth": 1,
          "ax": -3.9509302034271587,
          "axref": "x",
          "ay": -1.511436836742875,
          "ayref": "y",
          "showarrow": true,
          "x": -1.9810834567656062,
          "xanchor": "center",
          "y": 0.742649830484237,
          "yanchor": "top"
         },
         {
          "arrowcolor": "black",
          "arrowhead": 3,
          "arrowsize": 1,
          "arrowwidth": 1,
          "ax": -0.09580445499853078,
          "axref": "x",
          "ay": 1.1455582191534142,
          "ayref": "y",
          "showarrow": true,
          "x": -0.17144777429528726,
          "xanchor": "center",
          "y": 2.1607946533192286,
          "yanchor": "top"
         },
         {
          "arrowcolor": "black",
          "arrowhead": 3,
          "arrowsize": 1,
          "arrowwidth": 1,
          "ax": 3.3715621553972914,
          "axref": "x",
          "ay": 2.1019194561485244,
          "ayref": "y",
          "showarrow": true,
          "x": 3.9277199323773266,
          "xanchor": "center",
          "y": 1.237050604018585,
          "yanchor": "bottom"
         },
         {
          "arrowcolor": "black",
          "arrowhead": 3,
          "arrowsize": 1,
          "arrowwidth": 1,
          "ax": -5.132669084552778,
          "axref": "x",
          "ay": -2.8814989321284563,
          "ayref": "y",
          "showarrow": true,
          "x": -4.095626997956301,
          "xanchor": "center",
          "y": -2.7842653008956453,
          "yanchor": "top"
         },
         {
          "arrowcolor": "black",
          "arrowhead": 3,
          "arrowsize": 1,
          "arrowwidth": 1,
          "ax": -4.162923221541716,
          "axref": "x",
          "ay": 4.301817583585912,
          "ayref": "y",
          "showarrow": true,
          "x": -4.3510372463177855,
          "xanchor": "center",
          "y": 5.150988519590477,
          "yanchor": "top"
         },
         {
          "arrowcolor": "black",
          "arrowhead": 3,
          "arrowsize": 1,
          "arrowwidth": 1,
          "ax": 1.0126179052188324,
          "axref": "x",
          "ay": 2.4987374449042665,
          "ayref": "y",
          "showarrow": true,
          "x": -3.131344587606633,
          "xanchor": "center",
          "y": 3.3566607599196407,
          "yanchor": "top"
         },
         {
          "arrowcolor": "black",
          "arrowhead": 3,
          "arrowsize": 1,
          "arrowwidth": 1,
          "ax": -2.916678893380604,
          "axref": "x",
          "ay": -2.46355941663561,
          "ayref": "y",
          "showarrow": true,
          "x": -1.7818625767557552,
          "xanchor": "center",
          "y": -2.165317261209029,
          "yanchor": "top"
         },
         {
          "arrowcolor": "black",
          "arrowhead": 3,
          "arrowsize": 1,
          "arrowwidth": 1,
          "ax": 2.4828503928027765,
          "axref": "x",
          "ay": -3.09232183403313,
          "ayref": "y",
          "showarrow": true,
          "x": 2.5679003184718,
          "xanchor": "center",
          "y": -3.203925609005754,
          "yanchor": "bottom"
         },
         {
          "arrowcolor": "black",
          "arrowhead": 3,
          "arrowsize": 1,
          "arrowwidth": 1,
          "ax": 3.2085942588483345,
          "axref": "x",
          "ay": 2.006710041286583,
          "ayref": "y",
          "showarrow": true,
          "x": 3.245586157933518,
          "xanchor": "center",
          "y": 2.484670064793537,
          "yanchor": "top"
         },
         {
          "arrowcolor": "black",
          "arrowhead": 3,
          "arrowsize": 1,
          "arrowwidth": 1,
          "ax": -2.1642714453620577,
          "axref": "x",
          "ay": -0.5866102894014047,
          "ayref": "y",
          "showarrow": true,
          "x": -1.9732435623596605,
          "xanchor": "center",
          "y": -0.04030650019118205,
          "yanchor": "top"
         },
         {
          "arrowcolor": "black",
          "arrowhead": 3,
          "arrowsize": 1,
          "arrowwidth": 1,
          "ax": -4.775270401571806,
          "axref": "x",
          "ay": -2.3204062073869967,
          "ayref": "y",
          "showarrow": true,
          "x": -3.202278395541626,
          "xanchor": "center",
          "y": 0.06814652669797923,
          "yanchor": "top"
         },
         {
          "arrowcolor": "black",
          "arrowhead": 3,
          "arrowsize": 1,
          "arrowwidth": 1,
          "ax": 4.892173897864297,
          "axref": "x",
          "ay": 4.406013385022541,
          "ayref": "y",
          "showarrow": true,
          "x": 6.031498967835914,
          "xanchor": "center",
          "y": 5.07394152139512,
          "yanchor": "top"
         },
         {
          "arrowcolor": "black",
          "arrowhead": 3,
          "arrowsize": 1,
          "arrowwidth": 1,
          "ax": 4.087761005910895,
          "axref": "x",
          "ay": 0.438346664878512,
          "ayref": "y",
          "showarrow": true,
          "x": 2.7197020071504667,
          "xanchor": "center",
          "y": -0.5307996167820501,
          "yanchor": "bottom"
         },
         {
          "arrowcolor": "black",
          "arrowhead": 3,
          "arrowsize": 1,
          "arrowwidth": 1,
          "ax": -4.284554628310434,
          "axref": "x",
          "ay": -1.1939248232943143,
          "ayref": "y",
          "showarrow": true,
          "x": -0.696866453379731,
          "xanchor": "center",
          "y": -0.4937087776947036,
          "yanchor": "top"
         },
         {
          "arrowcolor": "black",
          "arrowhead": 3,
          "arrowsize": 1,
          "arrowwidth": 1,
          "ax": 3.5620146823369363,
          "axref": "x",
          "ay": -3.2768250461779456,
          "ayref": "y",
          "showarrow": true,
          "x": 0.09212286904754054,
          "xanchor": "center",
          "y": -3.7729923422206144,
          "yanchor": "bottom"
         },
         {
          "arrowcolor": "black",
          "arrowhead": 3,
          "arrowsize": 1,
          "arrowwidth": 1,
          "ax": 3.319058010880152,
          "axref": "x",
          "ay": -2.068754786827173,
          "ayref": "y",
          "showarrow": true,
          "x": -5.1095018526281955,
          "xanchor": "center",
          "y": 0.07755280895797809,
          "yanchor": "top"
         },
         {
          "arrowcolor": "black",
          "arrowhead": 3,
          "arrowsize": 1,
          "arrowwidth": 1,
          "ax": 4.761865343741184,
          "axref": "x",
          "ay": 0.5258207505023913,
          "ayref": "y",
          "showarrow": true,
          "x": 5.306051465060331,
          "xanchor": "center",
          "y": -3.9005122038910547,
          "yanchor": "bottom"
         }
        ],
        "legend": {
         "title": {
          "text": "cluster"
         },
         "tracegroupgap": 0
        },
        "margin": {
         "t": 60
        },
        "template": {
         "data": {
          "bar": [
           {
            "error_x": {
             "color": "#2a3f5f"
            },
            "error_y": {
             "color": "#2a3f5f"
            },
            "marker": {
             "line": {
              "color": "#E5ECF6",
              "width": 0.5
             }
            },
            "type": "bar"
           }
          ],
          "barpolar": [
           {
            "marker": {
             "line": {
              "color": "#E5ECF6",
              "width": 0.5
             }
            },
            "type": "barpolar"
           }
          ],
          "carpet": [
           {
            "aaxis": {
             "endlinecolor": "#2a3f5f",
             "gridcolor": "white",
             "linecolor": "white",
             "minorgridcolor": "white",
             "startlinecolor": "#2a3f5f"
            },
            "baxis": {
             "endlinecolor": "#2a3f5f",
             "gridcolor": "white",
             "linecolor": "white",
             "minorgridcolor": "white",
             "startlinecolor": "#2a3f5f"
            },
            "type": "carpet"
           }
          ],
          "choropleth": [
           {
            "colorbar": {
             "outlinewidth": 0,
             "ticks": ""
            },
            "type": "choropleth"
           }
          ],
          "contour": [
           {
            "colorbar": {
             "outlinewidth": 0,
             "ticks": ""
            },
            "colorscale": [
             [
              0,
              "#0d0887"
             ],
             [
              0.1111111111111111,
              "#46039f"
             ],
             [
              0.2222222222222222,
              "#7201a8"
             ],
             [
              0.3333333333333333,
              "#9c179e"
             ],
             [
              0.4444444444444444,
              "#bd3786"
             ],
             [
              0.5555555555555556,
              "#d8576b"
             ],
             [
              0.6666666666666666,
              "#ed7953"
             ],
             [
              0.7777777777777778,
              "#fb9f3a"
             ],
             [
              0.8888888888888888,
              "#fdca26"
             ],
             [
              1,
              "#f0f921"
             ]
            ],
            "type": "contour"
           }
          ],
          "contourcarpet": [
           {
            "colorbar": {
             "outlinewidth": 0,
             "ticks": ""
            },
            "type": "contourcarpet"
           }
          ],
          "heatmap": [
           {
            "colorbar": {
             "outlinewidth": 0,
             "ticks": ""
            },
            "colorscale": [
             [
              0,
              "#0d0887"
             ],
             [
              0.1111111111111111,
              "#46039f"
             ],
             [
              0.2222222222222222,
              "#7201a8"
             ],
             [
              0.3333333333333333,
              "#9c179e"
             ],
             [
              0.4444444444444444,
              "#bd3786"
             ],
             [
              0.5555555555555556,
              "#d8576b"
             ],
             [
              0.6666666666666666,
              "#ed7953"
             ],
             [
              0.7777777777777778,
              "#fb9f3a"
             ],
             [
              0.8888888888888888,
              "#fdca26"
             ],
             [
              1,
              "#f0f921"
             ]
            ],
            "type": "heatmap"
           }
          ],
          "heatmapgl": [
           {
            "colorbar": {
             "outlinewidth": 0,
             "ticks": ""
            },
            "colorscale": [
             [
              0,
              "#0d0887"
             ],
             [
              0.1111111111111111,
              "#46039f"
             ],
             [
              0.2222222222222222,
              "#7201a8"
             ],
             [
              0.3333333333333333,
              "#9c179e"
             ],
             [
              0.4444444444444444,
              "#bd3786"
             ],
             [
              0.5555555555555556,
              "#d8576b"
             ],
             [
              0.6666666666666666,
              "#ed7953"
             ],
             [
              0.7777777777777778,
              "#fb9f3a"
             ],
             [
              0.8888888888888888,
              "#fdca26"
             ],
             [
              1,
              "#f0f921"
             ]
            ],
            "type": "heatmapgl"
           }
          ],
          "histogram": [
           {
            "marker": {
             "colorbar": {
              "outlinewidth": 0,
              "ticks": ""
             }
            },
            "type": "histogram"
           }
          ],
          "histogram2d": [
           {
            "colorbar": {
             "outlinewidth": 0,
             "ticks": ""
            },
            "colorscale": [
             [
              0,
              "#0d0887"
             ],
             [
              0.1111111111111111,
              "#46039f"
             ],
             [
              0.2222222222222222,
              "#7201a8"
             ],
             [
              0.3333333333333333,
              "#9c179e"
             ],
             [
              0.4444444444444444,
              "#bd3786"
             ],
             [
              0.5555555555555556,
              "#d8576b"
             ],
             [
              0.6666666666666666,
              "#ed7953"
             ],
             [
              0.7777777777777778,
              "#fb9f3a"
             ],
             [
              0.8888888888888888,
              "#fdca26"
             ],
             [
              1,
              "#f0f921"
             ]
            ],
            "type": "histogram2d"
           }
          ],
          "histogram2dcontour": [
           {
            "colorbar": {
             "outlinewidth": 0,
             "ticks": ""
            },
            "colorscale": [
             [
              0,
              "#0d0887"
             ],
             [
              0.1111111111111111,
              "#46039f"
             ],
             [
              0.2222222222222222,
              "#7201a8"
             ],
             [
              0.3333333333333333,
              "#9c179e"
             ],
             [
              0.4444444444444444,
              "#bd3786"
             ],
             [
              0.5555555555555556,
              "#d8576b"
             ],
             [
              0.6666666666666666,
              "#ed7953"
             ],
             [
              0.7777777777777778,
              "#fb9f3a"
             ],
             [
              0.8888888888888888,
              "#fdca26"
             ],
             [
              1,
              "#f0f921"
             ]
            ],
            "type": "histogram2dcontour"
           }
          ],
          "mesh3d": [
           {
            "colorbar": {
             "outlinewidth": 0,
             "ticks": ""
            },
            "type": "mesh3d"
           }
          ],
          "parcoords": [
           {
            "line": {
             "colorbar": {
              "outlinewidth": 0,
              "ticks": ""
             }
            },
            "type": "parcoords"
           }
          ],
          "pie": [
           {
            "automargin": true,
            "type": "pie"
           }
          ],
          "scatter": [
           {
            "marker": {
             "colorbar": {
              "outlinewidth": 0,
              "ticks": ""
             }
            },
            "type": "scatter"
           }
          ],
          "scatter3d": [
           {
            "line": {
             "colorbar": {
              "outlinewidth": 0,
              "ticks": ""
             }
            },
            "marker": {
             "colorbar": {
              "outlinewidth": 0,
              "ticks": ""
             }
            },
            "type": "scatter3d"
           }
          ],
          "scattercarpet": [
           {
            "marker": {
             "colorbar": {
              "outlinewidth": 0,
              "ticks": ""
             }
            },
            "type": "scattercarpet"
           }
          ],
          "scattergeo": [
           {
            "marker": {
             "colorbar": {
              "outlinewidth": 0,
              "ticks": ""
             }
            },
            "type": "scattergeo"
           }
          ],
          "scattergl": [
           {
            "marker": {
             "colorbar": {
              "outlinewidth": 0,
              "ticks": ""
             }
            },
            "type": "scattergl"
           }
          ],
          "scattermapbox": [
           {
            "marker": {
             "colorbar": {
              "outlinewidth": 0,
              "ticks": ""
             }
            },
            "type": "scattermapbox"
           }
          ],
          "scatterpolar": [
           {
            "marker": {
             "colorbar": {
              "outlinewidth": 0,
              "ticks": ""
             }
            },
            "type": "scatterpolar"
           }
          ],
          "scatterpolargl": [
           {
            "marker": {
             "colorbar": {
              "outlinewidth": 0,
              "ticks": ""
             }
            },
            "type": "scatterpolargl"
           }
          ],
          "scatterternary": [
           {
            "marker": {
             "colorbar": {
              "outlinewidth": 0,
              "ticks": ""
             }
            },
            "type": "scatterternary"
           }
          ],
          "surface": [
           {
            "colorbar": {
             "outlinewidth": 0,
             "ticks": ""
            },
            "colorscale": [
             [
              0,
              "#0d0887"
             ],
             [
              0.1111111111111111,
              "#46039f"
             ],
             [
              0.2222222222222222,
              "#7201a8"
             ],
             [
              0.3333333333333333,
              "#9c179e"
             ],
             [
              0.4444444444444444,
              "#bd3786"
             ],
             [
              0.5555555555555556,
              "#d8576b"
             ],
             [
              0.6666666666666666,
              "#ed7953"
             ],
             [
              0.7777777777777778,
              "#fb9f3a"
             ],
             [
              0.8888888888888888,
              "#fdca26"
             ],
             [
              1,
              "#f0f921"
             ]
            ],
            "type": "surface"
           }
          ],
          "table": [
           {
            "cells": {
             "fill": {
              "color": "#EBF0F8"
             },
             "line": {
              "color": "white"
             }
            },
            "header": {
             "fill": {
              "color": "#C8D4E3"
             },
             "line": {
              "color": "white"
             }
            },
            "type": "table"
           }
          ]
         },
         "layout": {
          "annotationdefaults": {
           "arrowcolor": "#2a3f5f",
           "arrowhead": 0,
           "arrowwidth": 1
          },
          "autotypenumbers": "strict",
          "coloraxis": {
           "colorbar": {
            "outlinewidth": 0,
            "ticks": ""
           }
          },
          "colorscale": {
           "diverging": [
            [
             0,
             "#8e0152"
            ],
            [
             0.1,
             "#c51b7d"
            ],
            [
             0.2,
             "#de77ae"
            ],
            [
             0.3,
             "#f1b6da"
            ],
            [
             0.4,
             "#fde0ef"
            ],
            [
             0.5,
             "#f7f7f7"
            ],
            [
             0.6,
             "#e6f5d0"
            ],
            [
             0.7,
             "#b8e186"
            ],
            [
             0.8,
             "#7fbc41"
            ],
            [
             0.9,
             "#4d9221"
            ],
            [
             1,
             "#276419"
            ]
           ],
           "sequential": [
            [
             0,
             "#0d0887"
            ],
            [
             0.1111111111111111,
             "#46039f"
            ],
            [
             0.2222222222222222,
             "#7201a8"
            ],
            [
             0.3333333333333333,
             "#9c179e"
            ],
            [
             0.4444444444444444,
             "#bd3786"
            ],
            [
             0.5555555555555556,
             "#d8576b"
            ],
            [
             0.6666666666666666,
             "#ed7953"
            ],
            [
             0.7777777777777778,
             "#fb9f3a"
            ],
            [
             0.8888888888888888,
             "#fdca26"
            ],
            [
             1,
             "#f0f921"
            ]
           ],
           "sequentialminus": [
            [
             0,
             "#0d0887"
            ],
            [
             0.1111111111111111,
             "#46039f"
            ],
            [
             0.2222222222222222,
             "#7201a8"
            ],
            [
             0.3333333333333333,
             "#9c179e"
            ],
            [
             0.4444444444444444,
             "#bd3786"
            ],
            [
             0.5555555555555556,
             "#d8576b"
            ],
            [
             0.6666666666666666,
             "#ed7953"
            ],
            [
             0.7777777777777778,
             "#fb9f3a"
            ],
            [
             0.8888888888888888,
             "#fdca26"
            ],
            [
             1,
             "#f0f921"
            ]
           ]
          },
          "colorway": [
           "#636efa",
           "#EF553B",
           "#00cc96",
           "#ab63fa",
           "#FFA15A",
           "#19d3f3",
           "#FF6692",
           "#B6E880",
           "#FF97FF",
           "#FECB52"
          ],
          "font": {
           "color": "#2a3f5f"
          },
          "geo": {
           "bgcolor": "white",
           "lakecolor": "white",
           "landcolor": "#E5ECF6",
           "showlakes": true,
           "showland": true,
           "subunitcolor": "white"
          },
          "hoverlabel": {
           "align": "left"
          },
          "hovermode": "closest",
          "mapbox": {
           "style": "light"
          },
          "paper_bgcolor": "white",
          "plot_bgcolor": "#E5ECF6",
          "polar": {
           "angularaxis": {
            "gridcolor": "white",
            "linecolor": "white",
            "ticks": ""
           },
           "bgcolor": "#E5ECF6",
           "radialaxis": {
            "gridcolor": "white",
            "linecolor": "white",
            "ticks": ""
           }
          },
          "scene": {
           "xaxis": {
            "backgroundcolor": "#E5ECF6",
            "gridcolor": "white",
            "gridwidth": 2,
            "linecolor": "white",
            "showbackground": true,
            "ticks": "",
            "zerolinecolor": "white"
           },
           "yaxis": {
            "backgroundcolor": "#E5ECF6",
            "gridcolor": "white",
            "gridwidth": 2,
            "linecolor": "white",
            "showbackground": true,
            "ticks": "",
            "zerolinecolor": "white"
           },
           "zaxis": {
            "backgroundcolor": "#E5ECF6",
            "gridcolor": "white",
            "gridwidth": 2,
            "linecolor": "white",
            "showbackground": true,
            "ticks": "",
            "zerolinecolor": "white"
           }
          },
          "shapedefaults": {
           "line": {
            "color": "#2a3f5f"
           }
          },
          "ternary": {
           "aaxis": {
            "gridcolor": "white",
            "linecolor": "white",
            "ticks": ""
           },
           "baxis": {
            "gridcolor": "white",
            "linecolor": "white",
            "ticks": ""
           },
           "bgcolor": "#E5ECF6",
           "caxis": {
            "gridcolor": "white",
            "linecolor": "white",
            "ticks": ""
           }
          },
          "title": {
           "x": 0.05
          },
          "xaxis": {
           "automargin": true,
           "gridcolor": "white",
           "linecolor": "white",
           "ticks": "",
           "title": {
            "standoff": 15
           },
           "zerolinecolor": "white",
           "zerolinewidth": 2
          },
          "yaxis": {
           "automargin": true,
           "gridcolor": "white",
           "linecolor": "white",
           "ticks": "",
           "title": {
            "standoff": 15
           },
           "zerolinecolor": "white",
           "zerolinewidth": 2
          }
         }
        },
        "xaxis": {
         "anchor": "y",
         "domain": [
          0,
          1
         ],
         "title": {
          "text": "Darkness"
         }
        },
        "yaxis": {
         "anchor": "x",
         "domain": [
          0,
          1
         ],
         "title": {
          "text": "Purpleness"
         }
        }
       }
      },
      "text/html": [
       "<div>                            <div id=\"49d76199-36fb-4af2-ad1b-a8a450d8d287\" class=\"plotly-graph-div\" style=\"height:525px; width:100%;\"></div>            <script type=\"text/javascript\">                require([\"plotly\"], function(Plotly) {                    window.PLOTLYENV=window.PLOTLYENV || {};                                    if (document.getElementById(\"49d76199-36fb-4af2-ad1b-a8a450d8d287\")) {                    Plotly.newPlot(                        \"49d76199-36fb-4af2-ad1b-a8a450d8d287\",                        [{\"hovertemplate\": \"<b>%{hovertext}</b><br><br>cluster=1<br>Darkness=%{x}<br>Purpleness=%{y}<extra></extra>\", \"hovertext\": [\"TSA-1 10-4 im1\", \"40-3-9 10-5 im3\", \"ISP2-16 10-6 im1\", \"ISP2-6 10-5 im1\", \"ISP2-1 10-7 im2\", \"ISP2-14 10-3 im2\", \"ISP2-14 10-3 im3\", \"40-4-9 10-4 im2\", \"40-4-9 10-4 im3\", \"40-5-8 10-2 im3\", \"ISP2-15 10-7 im1\", \"ISP2-7 10-6 im2\", \"ISP2-7 10-6 im3\", \"ISP2-8 10-7 im1\", \"40-1-6 10-6 im3\", \"20-3-8 10-4 im3\", \"20-3-8 10-4 im2\", \"ISP2-9 10-7 im1\", \"20-3-11 10-6 im1\", \"20-2-4 10-4 im2\", \"20-2-4 10-4 im3\", \"20-4-1 10-5 im3\", \"20-4-1 10-5 im2\", \"HavSE8 10-3 im3\", \"20-5-5 10-4 im3\", \"20-5-5 10-4 im2\", \"ISP2-1 10-7 im1\", \"ISP2-13 10-6 im2\", \"40-5-8 10-2 im1\", \"TSA-1 10-4 im2\", \"TSA-1 10-4 im3\", \"ISP2-10 10-5 im1\", \"40-4-10 10-3 im3\", \"40-4-10 10-3 im2\", \"40-5-6 10-2 im2\", \"40-2-2 10-5 im2\", \"40-5-6 10-2 im3\", \"40-2-2 10-5 im3\", \"40-5-6 10-5 im2\", \"40-5-6 10-5 im3\", \"ISP2-16 10-6 im3\", \"ISP2-16 10-6 im2\", \"100-3-1 10-4 im2\", \"100-3-1 10-4 im3\", \"100-2-1 10-4 im3\", \"100-2-1 10-4 im2\", \"ISP2-3 10-6 im1\", \"100-2-11 10-4 im3\", \"100-2-11 10-4 im2\", \"ISP2-8 10-7 im3\", \"ISP2-8 10-7 im2\", \"ISP2-4 10-2 im3.tif\", \"ISP2-4 10-2 im2\", \"20-3-7 10-3 im2\", \"ISP2-15 10-7 im3\"], \"legendgroup\": \"1\", \"marker\": {\"color\": \"#0ECC96\", \"symbol\": \"circle\"}, \"mode\": \"markers\", \"name\": \"1\", \"orientation\": \"v\", \"showlegend\": true, \"type\": \"scatter\", \"x\": [-4.84161759904805, -3.5424850253738414, -3.614005519273559, 0.25806538638578913, -6.913083872415633, -0.24312194921369912, -3.7162481329189476, -2.5853549535749543, -2.1620693266536315, -0.6124375895333427, -5.344282246220721, -5.1095018526281955, -3.49425211823055, -1.67005619585758, -2.7845032087811075, -1.7592291851090753, -1.9810834567656062, -4.968879514696019, -1.0758147153163853, -2.2273135547203267, -2.2707799270350084, -3.0365818287379436, -2.010565684346796, -0.05260172332557683, -2.3433278571690295, -1.8119777760785212, -3.295499021800521, 0.14023185595248056, 0.026887269669251153, 0.36316033238315276, 0.5198185562981691, -3.075776012466798, -2.2576420200959437, -2.3768260424012957, 0.007565599484268374, -3.181947647214836, -0.1569874062471095, -2.335759773903857, -1.9944356932459153, -2.53958246863114, -1.324301338643765, -3.794284933982792, -1.9739275100971432, -2.2381432137165445, -1.9391495829556404, -1.782745549889739, -3.399118255273221, -0.17144777429528726, -0.09580445499853078, -4.3510372463177855, -4.162923221541716, -3.131344587606633, 1.0126179052188324, -2.916678893380604, -0.696866453379731], \"xaxis\": \"x\", \"y\": [2.9015324147396986, 3.92464088948881, 1.0690657461256974, -0.3311392258835231, 1.0989436556834031, 1.1855221563262144, 0.9965433759978393, 0.6923775717364568, 2.444227676250785, 2.8260551877514697, 1.1604990639660997, 0.07755280895797809, -0.4776340574012586, 2.2751674204289656, 2.221499040545529, 3.8116351364032215, 0.742649830484237, 1.436783396328411, 1.0257123958756993, 0.23776120349737934, 2.571340033459247, 3.6075592501641336, 1.589790583900151, -1.550533201974786, 2.061225067564597, 0.8493104428042417, -0.10707941178254766, -0.29566171978212324, 0.12778300130542092, 5.983390132313728, 7.013548113866111, 2.4612136094994397, 2.6897503573424406, 2.3799222709000136, 2.790210991605485, 0.9932915718165647, 3.117477168387409, 2.1928811131794723, 2.0346732702354715, 2.1785673886229877, 0.15917609102902458, 1.4607093030043554, 2.03830164182496, 3.375436977678585, 3.4103755286543707, 2.188055069298697, 0.34662250124445254, 2.1607946533192286, 1.1455582191534142, 5.150988519590477, 4.301817583585912, 3.3566607599196407, 2.4987374449042665, -2.46355941663561, -0.4937087776947036], \"yaxis\": \"y\"}, {\"hovertemplate\": \"<b>%{hovertext}</b><br><br>cluster=0<br>Darkness=%{x}<br>Purpleness=%{y}<extra></extra>\", \"hovertext\": [\"100-2-19 10-3 im3\", \"100-2-19 10-3 im2\", \"ISP2-11 10-4 im3\", \"ISP2-11 10-4 im2\", \"100-3-6 10-5 im1\", \"Imrec12-4 10-4 im3\", \"Imrec12-4 10-4 im2\", \"Imrec19-23 10-5 im1\", \"40-1-3 10-4 im1\", \"ISP2-13 10-6 im1\", \"40-5-8 10-2 im2\", \"HavSE8 10-3 im1\", \"20-4-4 10-5 im1\", \"20-3-5 10-5 im1\", \"100-2-17 10-6 im2\", \"100-2-17 10-6 im3\", \"Imrec12-3 10-4 im3\", \"Imrec12-3 10-4 im2\", \"100-2-4 10-2 im1\", \"Hav55 10-5 im3\", \"Hav55 10-5 im2\", \"ISP2-4 10-2 im1\", \"20-3-7 10-3 im1\", \"40-5-7 10-6 im2\", \"40-5-7 10-6 im3\", \"40-2-1 10-5 im1\", \"20-4-5 10-6 im2\", \"20-4-5 10-6 im3\", \"40-4-16 10-4 im1\", \"40-4-1 10-4 im1\", \"20-2-1 10-6 im3\", \"20-2-1 10-6 im2\", \"40-4-17 10-5 im1\", \"20-3-5 10-5 im3\", \"20-3-5 10-5 im2\", \"HavSE8 10-3 im2\", \"20-4-4 10-5 im2\", \"20-4-4 10-5 im3\", \"ISP2-6 10-5 im3\", \"Imrec12-4 10-4 im1\", \"ISP2-14 10-3 im1\", \"Imrec19-23 10-5 im3\", \"Imrec19-23 10-5 im2\", \"40-1-3 10-4 im2\", \"40-1-3 10-4 im3\", \"100-2-19 10-3 im1\", \"ISP2-11 10-4 im1\", \"100-3-6 10-5 im3\", \"100-3-6 10-5 im2\", \"20-4-5 10-6 im1\", \"40-4-16 10-4 im2\", \"40-4-16 10-4 im3\", \"20-2-1 10-6 im1\", \"40-4-17 10-5 im2\", \"40-4-17 10-5 im3\", \"40-2-1 10-5 im2\", \"40-2-1 10-5 im3\", \"40-4-1 10-4 im2\", \"40-5-7 10-6 im1\", \"40-4-1 10-4 im3\", \"100-2-17 10-6 im1\", \"Imrec12-3 10-4 im1\", \"100-2-4 10-2 im2\", \"ISP2-7 10-6 im1\", \"Hav55 10-5 im1\"], \"legendgroup\": \"0\", \"marker\": {\"color\": \"#EE553B\", \"symbol\": \"circle\"}, \"mode\": \"markers\", \"name\": \"0\", \"orientation\": \"v\", \"showlegend\": true, \"type\": \"scatter\", \"x\": [4.54675530458697, 5.696498832732843, 5.57055316851182, 5.273453684752267, 4.330337260764482, 4.4593811115062705, 6.162175342004795, 6.152180392635482, 4.903519144623087, 3.2353012393883462, 1.4487269859764198, 4.4996762044771055, 3.7678449215984866, 3.2293302498099017, 6.031498967835914, 6.270191149507469, 3.5027805746223017, 2.7197020071504667, 5.2351905325122, 5.92678866791735, 5.306051465060331, 3.881573204763915, 4.447163728372044, 3.245586157933518, 3.8745065402411414, 3.946052200801686, 3.5567944205931816, 3.191264801294224, 1.4728854321208467, 4.170042546160154, 6.512404509619199, 6.088740401077029, 2.465408785542695, 1.4408151273086562, 1.3929104569858861, 4.373310863131126, 3.44019905622847, 3.8267005572364647, 1.710578594417113, 6.4597017793138996, 2.838391374660618, 4.058322274066089, 5.8477490709042685, 3.0775380106037624, 2.5712086552812146, 5.184865451541599, 5.447611640924546, 4.361455689512583, 5.570803385753478, 4.034638470819232, 1.6957175819446524, 2.27774676246541, 10.15612969692899, 2.4252942517908633, 2.8890646899526486, 3.3715621553972914, 3.9277199323773266, 2.4828503928027765, 3.2085942588483345, 2.5679003184718, 4.892173897864297, 4.087761005910895, 3.5620146823369363, 3.319058010880152, 4.761865343741184], \"xaxis\": \"x\", \"y\": [-2.376073513559332, -1.3252161785865897, 0.7351884954404978, 0.9173710394059075, 0.2731418398233651, -4.565844861453469, -4.931684143972217, -0.7908220362985522, 1.6396503043376798, -2.0119330118939067, 0.3384213143104606, -0.5687933672358269, 2.7465964589260357, -2.344510042792375, 5.07394152139512, 2.655040310683209, -2.046670989624067, -0.5307996167820501, -4.301929810402094, -4.0372901990305925, -3.9005122038910547, -1.862218385321272, -3.2939351286969427, 2.484670064793537, 1.676906863971518, 1.0171079016274083, 2.9629046344483294, 3.0436785425246335, -0.9074672925699476, -3.6846117157501475, 1.373129372464656, 2.5606555098968333, 1.6994573957946781, 1.8834612796331676, 1.1737680241544173, -0.15342993666666874, 1.8203746732719528, 0.4257826572544737, -3.5537411714143206, -5.333464510487807, -0.1554303085176319, -2.4622811954142625, -1.908429526239097, 4.349666696702121, 3.586981436614862, -0.91885490458611, 0.09258578004430486, -1.4725795188697437, -1.0562610246933894, 1.558326031893772, -0.012358128027631785, 0.4203942652462735, 1.5256557497952374, 1.4630702824187767, 0.7860838747267261, 2.1019194561485244, 1.237050604018585, -3.09232183403313, 2.006710041286583, -3.203925609005754, 4.406013385022541, 0.438346664878512, -3.2768250461779456, -2.068754786827173, 0.5258207505023913], \"yaxis\": \"y\"}, {\"hovertemplate\": \"<b>%{hovertext}</b><br><br>cluster=2<br>Darkness=%{x}<br>Purpleness=%{y}<extra></extra>\", \"hovertext\": [\"ISP2-10 10-5 im3\", \"ISP2-10 10-5 im2\", \"40-4-10 10-3 im1\", \"40-3-9 10-5 im2\", \"40-5-6 10-2 im1\", \"40-2-2 10-5 im1\", \"40-5-6 10-5 im1\", \"ISP2-1 10-7 im3\", \"40-4-11 10-3 im1\", \"40-5-1 10-6 im3\", \"40-5-1 10-6 im2\", \"20-5-5 10-4 im1\", \"20-3-11 10-6 im3\", \"20-3-11 10-6 im2\", \"20-2-4 10-4 im1\", \"ISP2-12 10-6 im1\", \"20-4-1 10-5 im1\", \"40-3-4 10-3 im1\", \"40-1-6 10-6 im2\", \"100-2-11 10-4 im1\", \"20-4-6 10-2 im1\", \"100-3-1 10-4 im1\", \"Imrec9-9 10-5 im3\", \"Imrec9-9 10-5 im2\", \"100-2-1 10-4 im1\", \"ISP2-3 10-6 im2\", \"ISP2-3 10-6 im3\", \"ISP2-12 10-6 im3\", \"ISP2-12 10-6 im2\", \"40-4-11 10-3 im2\", \"40-4-11 10-3 im3\", \"40-5-1 10-6 im1\", \"ISP2-6 10-5 im2\", \"40-4-9 10-4 im1\", \"ISP2-13 10-6 im3\", \"40-3-9 10-5 im1\", \"ISP2-9 10-7 im2\", \"ISP2-9 10-7 im3\", \"Imrec9-9 10-5 im1\", \"20-3-8 10-4 im1\", \"20-4-6 10-2 im3\", \"20-4-6 10-2 im2\", \"20-3-7 10-3 im3\", \"40-3-4 10-3 im3\", \"40-3-4 10-3 im2\", \"40-1-6 10-6 im1\", \"ISP2-15 10-7 im2\", \"100-2-4 10-2 im3\"], \"legendgroup\": \"2\", \"marker\": {\"color\": \"#636FFC\", \"symbol\": \"circle\"}, \"mode\": \"markers\", \"name\": \"2\", \"orientation\": \"v\", \"showlegend\": true, \"type\": \"scatter\", \"x\": [-5.922031957562663, -4.184665525402641, -3.3232707362591873, -3.4918839654371627, -0.7457997401815397, -3.7021920529057355, -0.9845295930921879, -6.5985821521842665, -3.398920750719278, -4.199670492666487, -4.920985725719103, -2.7831953584233267, -2.6436374612061013, -1.239134688212251, 0.7592209243125903, -5.535979080309777, -3.3758069268530053, -3.368022577792931, -3.202278395541626, -0.5059951179772617, -0.6635612656191165, -2.4510053462947328, -4.2677271112434765, -4.6531630943044116, -1.3527896638428254, -1.4303179948433065, -0.8328954102447729, -6.050705360836413, -5.273239551857226, -1.3424197088273322, -1.0526978125461657, -1.4858384490483039, -1.1374246523694111, -3.542547200021231, -6.3661271248113644, -5.041938215485743, -0.8938202056961544, -1.452541726994276, -4.623129066909165, -3.9509302034271587, -4.095626997956301, -5.132669084552778, -1.7818625767557552, -1.9732435623596605, -2.1642714453620577, -4.775270401571806, -4.284554628310434, 0.09212286904754054], \"xaxis\": \"x\", \"y\": [0.6316190433151804, -0.058973151785292305, -3.1583890631053713, -0.04939132590180529, -1.4894851764399624, -2.0618326690285, -0.8529270432028841, -2.6768632520367657, -3.0481750869048905, -0.9653392123795604, -2.7862569511134234, -2.330698854597737, -1.3931774734131293, -1.1065425768878494, -3.7219721018143965, -1.613706342358715, -2.2919583464101256, -3.130547779108964, 0.06814652669797923, -2.473335792533614, -2.8625151422033355, -1.6184121725475176, -1.2478669424190958, -4.192111504216523, -1.3973153243228498, -1.874809775465803, -2.6500034063448656, -2.3745205905012776, -2.7172055874251635, -0.628167726517909, 0.06869221793731427, -2.4348890462991295, -0.7435173791919076, -2.1425477932179278, -1.8799321534281603, -2.0939115246809408, -0.7358382624003752, -1.2743798217964528, -4.929107986721377, -1.511436836742875, -2.7842653008956453, -2.8814989321284563, -2.165317261209029, -0.04030650019118205, -0.5866102894014047, -2.3204062073869967, -1.1939248232943143, -3.7729923422206144], \"yaxis\": \"y\"}],                        {\"annotations\": [{\"arrowcolor\": \"black\", \"arrowhead\": 3, \"arrowsize\": 1, \"arrowwidth\": 1, \"ax\": -4.84161759904805, \"axref\": \"x\", \"ay\": 2.9015324147396986, \"ayref\": \"y\", \"showarrow\": true, \"x\": 0.36316033238315276, \"xanchor\": \"center\", \"y\": 5.983390132313728, \"yanchor\": \"top\"}, {\"arrowcolor\": \"black\", \"arrowhead\": 3, \"arrowsize\": 1, \"arrowwidth\": 1, \"ax\": 5.696498832732843, \"axref\": \"x\", \"ay\": -1.3252161785865897, \"ayref\": \"y\", \"showarrow\": true, \"x\": 4.54675530458697, \"xanchor\": \"center\", \"y\": -2.376073513559332, \"yanchor\": \"bottom\"}, {\"arrowcolor\": \"black\", \"arrowhead\": 3, \"arrowsize\": 1, \"arrowwidth\": 1, \"ax\": -4.184665525402641, \"axref\": \"x\", \"ay\": -0.058973151785292305, \"ayref\": \"y\", \"showarrow\": true, \"x\": -5.922031957562663, \"xanchor\": \"center\", \"y\": 0.6316190433151804, \"yanchor\": \"top\"}, {\"arrowcolor\": \"black\", \"arrowhead\": 3, \"arrowsize\": 1, \"arrowwidth\": 1, \"ax\": -3.3232707362591873, \"axref\": \"x\", \"ay\": -3.1583890631053713, \"ayref\": \"y\", \"showarrow\": true, \"x\": -2.3768260424012957, \"xanchor\": \"center\", \"y\": 2.3799222709000136, \"yanchor\": \"top\"}, {\"arrowcolor\": \"black\", \"arrowhead\": 3, \"arrowsize\": 1, \"arrowwidth\": 1, \"ax\": -3.4918839654371627, \"axref\": \"x\", \"ay\": -0.04939132590180529, \"ayref\": \"y\", \"showarrow\": true, \"x\": -3.5424850253738414, \"xanchor\": \"center\", \"y\": 3.92464088948881, \"yanchor\": \"top\"}, {\"arrowcolor\": \"black\", \"arrowhead\": 3, \"arrowsize\": 1, \"arrowwidth\": 1, \"ax\": 5.273453684752267, \"axref\": \"x\", \"ay\": 0.9173710394059075, \"ayref\": \"y\", \"showarrow\": true, \"x\": 5.57055316851182, \"xanchor\": \"center\", \"y\": 0.7351884954404978, \"yanchor\": \"bottom\"}, {\"arrowcolor\": \"black\", \"arrowhead\": 3, \"arrowsize\": 1, \"arrowwidth\": 1, \"ax\": -0.7457997401815397, \"axref\": \"x\", \"ay\": -1.4894851764399624, \"ayref\": \"y\", \"showarrow\": true, \"x\": 0.007565599484268374, \"xanchor\": \"center\", \"y\": 2.790210991605485, \"yanchor\": \"top\"}, {\"arrowcolor\": \"black\", \"arrowhead\": 3, \"arrowsize\": 1, \"arrowwidth\": 1, \"ax\": -3.7021920529057355, \"axref\": \"x\", \"ay\": -2.0618326690285, \"ayref\": \"y\", \"showarrow\": true, \"x\": -3.181947647214836, \"xanchor\": \"center\", \"y\": 0.9932915718165647, \"yanchor\": \"top\"}, {\"arrowcolor\": \"black\", \"arrowhead\": 3, \"arrowsize\": 1, \"arrowwidth\": 1, \"ax\": -0.9845295930921879, \"axref\": \"x\", \"ay\": -0.8529270432028841, \"ayref\": \"y\", \"showarrow\": true, \"x\": -1.9944356932459153, \"xanchor\": \"center\", \"y\": 2.0346732702354715, \"yanchor\": \"top\"}, {\"arrowcolor\": \"black\", \"arrowhead\": 3, \"arrowsize\": 1, \"arrowwidth\": 1, \"ax\": -3.614005519273559, \"axref\": \"x\", \"ay\": 1.0690657461256974, \"ayref\": \"y\", \"showarrow\": true, \"x\": -3.794284933982792, \"xanchor\": \"center\", \"y\": 1.4607093030043554, \"yanchor\": \"top\"}, {\"arrowcolor\": \"black\", \"arrowhead\": 3, \"arrowsize\": 1, \"arrowwidth\": 1, \"ax\": 4.330337260764482, \"axref\": \"x\", \"ay\": 0.2731418398233651, \"ayref\": \"y\", \"showarrow\": true, \"x\": 5.570803385753478, \"xanchor\": \"center\", \"y\": -1.0562610246933894, \"yanchor\": \"bottom\"}, {\"arrowcolor\": \"black\", \"arrowhead\": 3, \"arrowsize\": 1, \"arrowwidth\": 1, \"ax\": 0.25806538638578913, \"axref\": \"x\", \"ay\": -0.3311392258835231, \"ayref\": \"y\", \"showarrow\": true, \"x\": -1.1374246523694111, \"xanchor\": \"center\", \"y\": -0.7435173791919076, \"yanchor\": \"bottom\"}, {\"arrowcolor\": \"black\", \"arrowhead\": 3, \"arrowsize\": 1, \"arrowwidth\": 1, \"ax\": -6.913083872415633, \"axref\": \"x\", \"ay\": 1.0989436556834031, \"ayref\": \"y\", \"showarrow\": true, \"x\": -6.5985821521842665, \"xanchor\": \"center\", \"y\": -2.6768632520367657, \"yanchor\": \"bottom\"}, {\"arrowcolor\": \"black\", \"arrowhead\": 3, \"arrowsize\": 1, \"arrowwidth\": 1, \"ax\": 6.162175342004795, \"axref\": \"x\", \"ay\": -4.931684143972217, \"ayref\": \"y\", \"showarrow\": true, \"x\": 4.4593811115062705, \"xanchor\": \"center\", \"y\": -4.565844861453469, \"yanchor\": \"top\"}, {\"arrowcolor\": \"black\", \"arrowhead\": 3, \"arrowsize\": 1, \"arrowwidth\": 1, \"ax\": -0.24312194921369912, \"axref\": \"x\", \"ay\": 1.1855221563262144, \"ayref\": \"y\", \"showarrow\": true, \"x\": -3.7162481329189476, \"xanchor\": \"center\", \"y\": 0.9965433759978393, \"yanchor\": \"bottom\"}, {\"arrowcolor\": \"black\", \"arrowhead\": 3, \"arrowsize\": 1, \"arrowwidth\": 1, \"ax\": -2.5853549535749543, \"axref\": \"x\", \"ay\": 0.6923775717364568, \"ayref\": \"y\", \"showarrow\": true, \"x\": -2.1620693266536315, \"xanchor\": \"center\", \"y\": 2.444227676250785, \"yanchor\": \"top\"}, {\"arrowcolor\": \"black\", \"arrowhead\": 3, \"arrowsize\": 1, \"arrowwidth\": 1, \"ax\": 6.152180392635482, \"axref\": \"x\", \"ay\": -0.7908220362985522, \"ayref\": \"y\", \"showarrow\": true, \"x\": 5.8477490709042685, \"xanchor\": \"center\", \"y\": -1.908429526239097, \"yanchor\": \"bottom\"}, {\"arrowcolor\": \"black\", \"arrowhead\": 3, \"arrowsize\": 1, \"arrowwidth\": 1, \"ax\": 4.903519144623087, \"axref\": \"x\", \"ay\": 1.6396503043376798, \"ayref\": \"y\", \"showarrow\": true, \"x\": 3.0775380106037624, \"xanchor\": \"center\", \"y\": 4.349666696702121, \"yanchor\": \"top\"}, {\"arrowcolor\": \"black\", \"arrowhead\": 3, \"arrowsize\": 1, \"arrowwidth\": 1, \"ax\": 3.2353012393883462, \"axref\": \"x\", \"ay\": -2.0119330118939067, \"ayref\": \"y\", \"showarrow\": true, \"x\": 0.14023185595248056, \"xanchor\": \"center\", \"y\": -0.29566171978212324, \"yanchor\": \"top\"}, {\"arrowcolor\": \"black\", \"arrowhead\": 3, \"arrowsize\": 1, \"arrowwidth\": 1, \"ax\": 1.4487269859764198, \"axref\": \"x\", \"ay\": 0.3384213143104606, \"ayref\": \"y\", \"showarrow\": true, \"x\": -0.6124375895333427, \"xanchor\": \"center\", \"y\": 2.8260551877514697, \"yanchor\": \"top\"}, {\"arrowcolor\": \"black\", \"arrowhead\": 3, \"arrowsize\": 1, \"arrowwidth\": 1, \"ax\": 4.4996762044771055, \"axref\": \"x\", \"ay\": -0.5687933672358269, \"ayref\": \"y\", \"showarrow\": true, \"x\": 4.373310863131126, \"xanchor\": \"center\", \"y\": -0.15342993666666874, \"yanchor\": \"top\"}, {\"arrowcolor\": \"black\", \"arrowhead\": 3, \"arrowsize\": 1, \"arrowwidth\": 1, \"ax\": -3.398920750719278, \"axref\": \"x\", \"ay\": -3.0481750869048905, \"ayref\": \"y\", \"showarrow\": true, \"x\": -1.3424197088273322, \"xanchor\": \"center\", \"y\": -0.628167726517909, \"yanchor\": \"top\"}, {\"arrowcolor\": \"black\", \"arrowhead\": 3, \"arrowsize\": 1, \"arrowwidth\": 1, \"ax\": -4.920985725719103, \"axref\": \"x\", \"ay\": -2.7862569511134234, \"ayref\": \"y\", \"showarrow\": true, \"x\": -4.199670492666487, \"xanchor\": \"center\", \"y\": -0.9653392123795604, \"yanchor\": \"top\"}, {\"arrowcolor\": \"black\", \"arrowhead\": 3, \"arrowsize\": 1, \"arrowwidth\": 1, \"ax\": 3.7678449215984866, \"axref\": \"x\", \"ay\": 2.7465964589260357, \"ayref\": \"y\", \"showarrow\": true, \"x\": 3.44019905622847, \"xanchor\": \"center\", \"y\": 1.8203746732719528, \"yanchor\": \"bottom\"}, {\"arrowcolor\": \"black\", \"arrowhead\": 3, \"arrowsize\": 1, \"arrowwidth\": 1, \"ax\": -2.7831953584233267, \"axref\": \"x\", \"ay\": -2.330698854597737, \"ayref\": \"y\", \"showarrow\": true, \"x\": -1.8119777760785212, \"xanchor\": \"center\", \"y\": 0.8493104428042417, \"yanchor\": \"top\"}, {\"arrowcolor\": \"black\", \"arrowhead\": 3, \"arrowsize\": 1, \"arrowwidth\": 1, \"ax\": -1.239134688212251, \"axref\": \"x\", \"ay\": -1.1065425768878494, \"ayref\": \"y\", \"showarrow\": true, \"x\": -2.6436374612061013, \"xanchor\": \"center\", \"y\": -1.3931774734131293, \"yanchor\": \"bottom\"}, {\"arrowcolor\": \"black\", \"arrowhead\": 3, \"arrowsize\": 1, \"arrowwidth\": 1, \"ax\": 0.7592209243125903, \"axref\": \"x\", \"ay\": -3.7219721018143965, \"ayref\": \"y\", \"showarrow\": true, \"x\": -2.2273135547203267, \"xanchor\": \"center\", \"y\": 0.23776120349737934, \"yanchor\": \"top\"}, {\"arrowcolor\": \"black\", \"arrowhead\": 3, \"arrowsize\": 1, \"arrowwidth\": 1, \"ax\": 3.2293302498099017, \"axref\": \"x\", \"ay\": -2.344510042792375, \"ayref\": \"y\", \"showarrow\": true, \"x\": 1.3929104569858861, \"xanchor\": \"center\", \"y\": 1.1737680241544173, \"yanchor\": \"top\"}, {\"arrowcolor\": \"black\", \"arrowhead\": 3, \"arrowsize\": 1, \"arrowwidth\": 1, \"ax\": -5.535979080309777, \"axref\": \"x\", \"ay\": -1.613706342358715, \"ayref\": \"y\", \"showarrow\": true, \"x\": -5.273239551857226, \"xanchor\": \"center\", \"y\": -2.7172055874251635, \"yanchor\": \"bottom\"}, {\"arrowcolor\": \"black\", \"arrowhead\": 3, \"arrowsize\": 1, \"arrowwidth\": 1, \"ax\": -3.3758069268530053, \"axref\": \"x\", \"ay\": -2.2919583464101256, \"ayref\": \"y\", \"showarrow\": true, \"x\": -2.010565684346796, \"xanchor\": \"center\", \"y\": 1.589790583900151, \"yanchor\": \"top\"}, {\"arrowcolor\": \"black\", \"arrowhead\": 3, \"arrowsize\": 1, \"arrowwidth\": 1, \"ax\": 6.031498967835914, \"axref\": \"x\", \"ay\": 5.07394152139512, \"ayref\": \"y\", \"showarrow\": true, \"x\": 6.270191149507469, \"xanchor\": \"center\", \"y\": 2.655040310683209, \"yanchor\": \"bottom\"}, {\"arrowcolor\": \"black\", \"arrowhead\": 3, \"arrowsize\": 1, \"arrowwidth\": 1, \"ax\": 2.7197020071504667, \"axref\": \"x\", \"ay\": -0.5307996167820501, \"ayref\": \"y\", \"showarrow\": true, \"x\": 3.5027805746223017, \"xanchor\": \"center\", \"y\": -2.046670989624067, \"yanchor\": \"bottom\"}, {\"arrowcolor\": \"black\", \"arrowhead\": 3, \"arrowsize\": 1, \"arrowwidth\": 1, \"ax\": 5.2351905325122, \"axref\": \"x\", \"ay\": -4.301929810402094, \"ayref\": \"y\", \"showarrow\": true, \"x\": 3.5620146823369363, \"xanchor\": \"center\", \"y\": -3.2768250461779456, \"yanchor\": \"top\"}, {\"arrowcolor\": \"black\", \"arrowhead\": 3, \"arrowsize\": 1, \"arrowwidth\": 1, \"ax\": -5.344282246220721, \"axref\": \"x\", \"ay\": 1.1604990639660997, \"ayref\": \"y\", \"showarrow\": true, \"x\": -4.284554628310434, \"xanchor\": \"center\", \"y\": -1.1939248232943143, \"yanchor\": \"bottom\"}, {\"arrowcolor\": \"black\", \"arrowhead\": 3, \"arrowsize\": 1, \"arrowwidth\": 1, \"ax\": -5.1095018526281955, \"axref\": \"x\", \"ay\": 0.07755280895797809, \"ayref\": \"y\", \"showarrow\": true, \"x\": -3.49425211823055, \"xanchor\": \"center\", \"y\": -0.4776340574012586, \"yanchor\": \"bottom\"}, {\"arrowcolor\": \"black\", \"arrowhead\": 3, \"arrowsize\": 1, \"arrowwidth\": 1, \"ax\": 5.306051465060331, \"axref\": \"x\", \"ay\": -3.9005122038910547, \"ayref\": \"y\", \"showarrow\": true, \"x\": 5.92678866791735, \"xanchor\": \"center\", \"y\": -4.0372901990305925, \"yanchor\": \"bottom\"}, {\"arrowcolor\": \"black\", \"arrowhead\": 3, \"arrowsize\": 1, \"arrowwidth\": 1, \"ax\": -1.67005619585758, \"axref\": \"x\", \"ay\": 2.2751674204289656, \"ayref\": \"y\", \"showarrow\": true, \"x\": -4.162923221541716, \"xanchor\": \"center\", \"y\": 4.301817583585912, \"yanchor\": \"top\"}, {\"arrowcolor\": \"black\", \"arrowhead\": 3, \"arrowsize\": 1, \"arrowwidth\": 1, \"ax\": 3.881573204763915, \"axref\": \"x\", \"ay\": -1.862218385321272, \"ayref\": \"y\", \"showarrow\": true, \"x\": 1.0126179052188324, \"xanchor\": \"center\", \"y\": 2.4987374449042665, \"yanchor\": \"top\"}, {\"arrowcolor\": \"black\", \"arrowhead\": 3, \"arrowsize\": 1, \"arrowwidth\": 1, \"ax\": 4.447163728372044, \"axref\": \"x\", \"ay\": -3.2939351286969427, \"ayref\": \"y\", \"showarrow\": true, \"x\": -2.916678893380604, \"xanchor\": \"center\", \"y\": -2.46355941663561, \"yanchor\": \"top\"}, {\"arrowcolor\": \"black\", \"arrowhead\": 3, \"arrowsize\": 1, \"arrowwidth\": 1, \"ax\": 3.245586157933518, \"axref\": \"x\", \"ay\": 2.484670064793537, \"ayref\": \"y\", \"showarrow\": true, \"x\": 3.8745065402411414, \"xanchor\": \"center\", \"y\": 1.676906863971518, \"yanchor\": \"bottom\"}, {\"arrowcolor\": \"black\", \"arrowhead\": 3, \"arrowsize\": 1, \"arrowwidth\": 1, \"ax\": -3.368022577792931, \"axref\": \"x\", \"ay\": -3.130547779108964, \"ayref\": \"y\", \"showarrow\": true, \"x\": -2.1642714453620577, \"xanchor\": \"center\", \"y\": -0.5866102894014047, \"yanchor\": \"top\"}, {\"arrowcolor\": \"black\", \"arrowhead\": 3, \"arrowsize\": 1, \"arrowwidth\": 1, \"ax\": -3.202278395541626, \"axref\": \"x\", \"ay\": 0.06814652669797923, \"ayref\": \"y\", \"showarrow\": true, \"x\": -2.7845032087811075, \"xanchor\": \"center\", \"y\": 2.221499040545529, \"yanchor\": \"top\"}, {\"arrowcolor\": \"black\", \"arrowhead\": 3, \"arrowsize\": 1, \"arrowwidth\": 1, \"ax\": -1.9810834567656062, \"axref\": \"x\", \"ay\": 0.742649830484237, \"ayref\": \"y\", \"showarrow\": true, \"x\": -1.7592291851090753, \"xanchor\": \"center\", \"y\": 3.8116351364032215, \"yanchor\": \"top\"}, {\"arrowcolor\": \"black\", \"arrowhead\": 3, \"arrowsize\": 1, \"arrowwidth\": 1, \"ax\": -0.5059951179772617, \"axref\": \"x\", \"ay\": -2.473335792533614, \"ayref\": \"y\", \"showarrow\": true, \"x\": -0.09580445499853078, \"xanchor\": \"center\", \"y\": 1.1455582191534142, \"yanchor\": \"top\"}, {\"arrowcolor\": \"black\", \"arrowhead\": 3, \"arrowsize\": 1, \"arrowwidth\": 1, \"ax\": 3.946052200801686, \"axref\": \"x\", \"ay\": 1.0171079016274083, \"ayref\": \"y\", \"showarrow\": true, \"x\": 3.3715621553972914, \"xanchor\": \"center\", \"y\": 2.1019194561485244, \"yanchor\": \"top\"}, {\"arrowcolor\": \"black\", \"arrowhead\": 3, \"arrowsize\": 1, \"arrowwidth\": 1, \"ax\": -0.6635612656191165, \"axref\": \"x\", \"ay\": -2.8625151422033355, \"ayref\": \"y\", \"showarrow\": true, \"x\": -5.132669084552778, \"xanchor\": \"center\", \"y\": -2.8814989321284563, \"yanchor\": \"bottom\"}, {\"arrowcolor\": \"black\", \"arrowhead\": 3, \"arrowsize\": 1, \"arrowwidth\": 1, \"ax\": 3.5567944205931816, \"axref\": \"x\", \"ay\": 2.9629046344483294, \"ayref\": \"y\", \"showarrow\": true, \"x\": 3.191264801294224, \"xanchor\": \"center\", \"y\": 3.0436785425246335, \"yanchor\": \"top\"}, {\"arrowcolor\": \"black\", \"arrowhead\": 3, \"arrowsize\": 1, \"arrowwidth\": 1, \"ax\": -4.968879514696019, \"axref\": \"x\", \"ay\": 1.436783396328411, \"ayref\": \"y\", \"showarrow\": true, \"x\": -0.8938202056961544, \"xanchor\": \"center\", \"y\": -0.7358382624003752, \"yanchor\": \"bottom\"}, {\"arrowcolor\": \"black\", \"arrowhead\": 3, \"arrowsize\": 1, \"arrowwidth\": 1, \"ax\": 1.4728854321208467, \"axref\": \"x\", \"ay\": -0.9074672925699476, \"ayref\": \"y\", \"showarrow\": true, \"x\": 1.6957175819446524, \"xanchor\": \"center\", \"y\": -0.012358128027631785, \"yanchor\": \"top\"}, {\"arrowcolor\": \"black\", \"arrowhead\": 3, \"arrowsize\": 1, \"arrowwidth\": 1, \"ax\": -2.4510053462947328, \"axref\": \"x\", \"ay\": -1.6184121725475176, \"ayref\": \"y\", \"showarrow\": true, \"x\": -1.9739275100971432, \"xanchor\": \"center\", \"y\": 2.03830164182496, \"yanchor\": \"top\"}, {\"arrowcolor\": \"black\", \"arrowhead\": 3, \"arrowsize\": 1, \"arrowwidth\": 1, \"ax\": 4.170042546160154, \"axref\": \"x\", \"ay\": -3.6846117157501475, \"ayref\": \"y\", \"showarrow\": true, \"x\": 2.4828503928027765, \"xanchor\": \"center\", \"y\": -3.09232183403313, \"yanchor\": \"top\"}, {\"arrowcolor\": \"black\", \"arrowhead\": 3, \"arrowsize\": 1, \"arrowwidth\": 1, \"ax\": 6.088740401077029, \"axref\": \"x\", \"ay\": 2.5606555098968333, \"ayref\": \"y\", \"showarrow\": true, \"x\": 6.512404509619199, \"xanchor\": \"center\", \"y\": 1.373129372464656, \"yanchor\": \"bottom\"}, {\"arrowcolor\": \"black\", \"arrowhead\": 3, \"arrowsize\": 1, \"arrowwidth\": 1, \"ax\": -4.6531630943044116, \"axref\": \"x\", \"ay\": -4.192111504216523, \"ayref\": \"y\", \"showarrow\": true, \"x\": -4.2677271112434765, \"xanchor\": \"center\", \"y\": -1.2478669424190958, \"yanchor\": \"top\"}, {\"arrowcolor\": \"black\", \"arrowhead\": 3, \"arrowsize\": 1, \"arrowwidth\": 1, \"ax\": -1.3527896638428254, \"axref\": \"x\", \"ay\": -1.3973153243228498, \"ayref\": \"y\", \"showarrow\": true, \"x\": -1.782745549889739, \"xanchor\": \"center\", \"y\": 2.188055069298697, \"yanchor\": \"top\"}, {\"arrowcolor\": \"black\", \"arrowhead\": 3, \"arrowsize\": 1, \"arrowwidth\": 1, \"ax\": 2.465408785542695, \"axref\": \"x\", \"ay\": 1.6994573957946781, \"ayref\": \"y\", \"showarrow\": true, \"x\": 2.4252942517908633, \"xanchor\": \"center\", \"y\": 1.4630702824187767, \"yanchor\": \"bottom\"}, {\"arrowcolor\": \"black\", \"arrowhead\": 3, \"arrowsize\": 1, \"arrowwidth\": 1, \"ax\": -1.4303179948433065, \"axref\": \"x\", \"ay\": -1.874809775465803, \"ayref\": \"y\", \"showarrow\": true, \"x\": -0.8328954102447729, \"xanchor\": \"center\", \"y\": -2.6500034063448656, \"yanchor\": \"bottom\"}, {\"arrowcolor\": \"black\", \"arrowhead\": 3, \"arrowsize\": 1, \"arrowwidth\": 1, \"ax\": -1.0758147153163853, \"axref\": \"x\", \"ay\": 1.0257123958756993, \"ayref\": \"y\", \"showarrow\": true, \"x\": -1.239134688212251, \"xanchor\": \"center\", \"y\": -1.1065425768878494, \"yanchor\": \"bottom\"}, {\"arrowcolor\": \"black\", \"arrowhead\": 3, \"arrowsize\": 1, \"arrowwidth\": 1, \"ax\": -2.2273135547203267, \"axref\": \"x\", \"ay\": 0.23776120349737934, \"ayref\": \"y\", \"showarrow\": true, \"x\": -2.2707799270350084, \"xanchor\": \"center\", \"y\": 2.571340033459247, \"yanchor\": \"top\"}, {\"arrowcolor\": \"black\", \"arrowhead\": 3, \"arrowsize\": 1, \"arrowwidth\": 1, \"ax\": 1.3929104569858861, \"axref\": \"x\", \"ay\": 1.1737680241544173, \"ayref\": \"y\", \"showarrow\": true, \"x\": 1.4408151273086562, \"xanchor\": \"center\", \"y\": 1.8834612796331676, \"yanchor\": \"top\"}, {\"arrowcolor\": \"black\", \"arrowhead\": 3, \"arrowsize\": 1, \"arrowwidth\": 1, \"ax\": -5.273239551857226, \"axref\": \"x\", \"ay\": -2.7172055874251635, \"ayref\": \"y\", \"showarrow\": true, \"x\": -6.050705360836413, \"xanchor\": \"center\", \"y\": -2.3745205905012776, \"yanchor\": \"top\"}, {\"arrowcolor\": \"black\", \"arrowhead\": 3, \"arrowsize\": 1, \"arrowwidth\": 1, \"ax\": -2.010565684346796, \"axref\": \"x\", \"ay\": 1.589790583900151, \"ayref\": \"y\", \"showarrow\": true, \"x\": -3.0365818287379436, \"xanchor\": \"center\", \"y\": 3.6075592501641336, \"yanchor\": \"top\"}, {\"arrowcolor\": \"black\", \"arrowhead\": 3, \"arrowsize\": 1, \"arrowwidth\": 1, \"ax\": 4.373310863131126, \"axref\": \"x\", \"ay\": -0.15342993666666874, \"ayref\": \"y\", \"showarrow\": true, \"x\": -0.05260172332557683, \"xanchor\": \"center\", \"y\": -1.550533201974786, \"yanchor\": \"bottom\"}, {\"arrowcolor\": \"black\", \"arrowhead\": 3, \"arrowsize\": 1, \"arrowwidth\": 1, \"ax\": -1.3424197088273322, \"axref\": \"x\", \"ay\": -0.628167726517909, \"ayref\": \"y\", \"showarrow\": true, \"x\": -1.0526978125461657, \"xanchor\": \"center\", \"y\": 0.06869221793731427, \"yanchor\": \"top\"}, {\"arrowcolor\": \"black\", \"arrowhead\": 3, \"arrowsize\": 1, \"arrowwidth\": 1, \"ax\": -1.4858384490483039, \"axref\": \"x\", \"ay\": -2.4348890462991295, \"ayref\": \"y\", \"showarrow\": true, \"x\": -4.920985725719103, \"xanchor\": \"center\", \"y\": -2.7862569511134234, \"yanchor\": \"bottom\"}, {\"arrowcolor\": \"black\", \"arrowhead\": 3, \"arrowsize\": 1, \"arrowwidth\": 1, \"ax\": 3.44019905622847, \"axref\": \"x\", \"ay\": 1.8203746732719528, \"ayref\": \"y\", \"showarrow\": true, \"x\": 3.8267005572364647, \"xanchor\": \"center\", \"y\": 0.4257826572544737, \"yanchor\": \"bottom\"}, {\"arrowcolor\": \"black\", \"arrowhead\": 3, \"arrowsize\": 1, \"arrowwidth\": 1, \"ax\": -1.8119777760785212, \"axref\": \"x\", \"ay\": 0.8493104428042417, \"ayref\": \"y\", \"showarrow\": true, \"x\": -2.3433278571690295, \"xanchor\": \"center\", \"y\": 2.061225067564597, \"yanchor\": \"top\"}, {\"arrowcolor\": \"black\", \"arrowhead\": 3, \"arrowsize\": 1, \"arrowwidth\": 1, \"ax\": -1.1374246523694111, \"axref\": \"x\", \"ay\": -0.7435173791919076, \"ayref\": \"y\", \"showarrow\": true, \"x\": 1.710578594417113, \"xanchor\": \"center\", \"y\": -3.5537411714143206, \"yanchor\": \"bottom\"}, {\"arrowcolor\": \"black\", \"arrowhead\": 3, \"arrowsize\": 1, \"arrowwidth\": 1, \"ax\": -3.295499021800521, \"axref\": \"x\", \"ay\": -0.10707941178254766, \"ayref\": \"y\", \"showarrow\": true, \"x\": -6.913083872415633, \"xanchor\": \"center\", \"y\": 1.0989436556834031, \"yanchor\": \"top\"}, {\"arrowcolor\": \"black\", \"arrowhead\": 3, \"arrowsize\": 1, \"arrowwidth\": 1, \"ax\": 6.4597017793138996, \"axref\": \"x\", \"ay\": -5.333464510487807, \"ayref\": \"y\", \"showarrow\": true, \"x\": 6.162175342004795, \"xanchor\": \"center\", \"y\": -4.931684143972217, \"yanchor\": \"top\"}, {\"arrowcolor\": \"black\", \"arrowhead\": 3, \"arrowsize\": 1, \"arrowwidth\": 1, \"ax\": 2.838391374660618, \"axref\": \"x\", \"ay\": -0.1554303085176319, \"ayref\": \"y\", \"showarrow\": true, \"x\": -0.24312194921369912, \"xanchor\": \"center\", \"y\": 1.1855221563262144, \"yanchor\": \"top\"}, {\"arrowcolor\": \"black\", \"arrowhead\": 3, \"arrowsize\": 1, \"arrowwidth\": 1, \"ax\": -3.542547200021231, \"axref\": \"x\", \"ay\": -2.1425477932179278, \"ayref\": \"y\", \"showarrow\": true, \"x\": -2.5853549535749543, \"xanchor\": \"center\", \"y\": 0.6923775717364568, \"yanchor\": \"top\"}, {\"arrowcolor\": \"black\", \"arrowhead\": 3, \"arrowsize\": 1, \"arrowwidth\": 1, \"ax\": 5.8477490709042685, \"axref\": \"x\", \"ay\": -1.908429526239097, \"ayref\": \"y\", \"showarrow\": true, \"x\": 4.058322274066089, \"xanchor\": \"center\", \"y\": -2.4622811954142625, \"yanchor\": \"bottom\"}, {\"arrowcolor\": \"black\", \"arrowhead\": 3, \"arrowsize\": 1, \"arrowwidth\": 1, \"ax\": 0.14023185595248056, \"axref\": \"x\", \"ay\": -0.29566171978212324, \"ayref\": \"y\", \"showarrow\": true, \"x\": -6.3661271248113644, \"xanchor\": \"center\", \"y\": -1.8799321534281603, \"yanchor\": \"bottom\"}, {\"arrowcolor\": \"black\", \"arrowhead\": 3, \"arrowsize\": 1, \"arrowwidth\": 1, \"ax\": 0.026887269669251153, \"axref\": \"x\", \"ay\": 0.12778300130542092, \"ayref\": \"y\", \"showarrow\": true, \"x\": 1.4487269859764198, \"xanchor\": \"center\", \"y\": 0.3384213143104606, \"yanchor\": \"top\"}, {\"arrowcolor\": \"black\", \"arrowhead\": 3, \"arrowsize\": 1, \"arrowwidth\": 1, \"ax\": 3.0775380106037624, \"axref\": \"x\", \"ay\": 4.349666696702121, \"ayref\": \"y\", \"showarrow\": true, \"x\": 2.5712086552812146, \"xanchor\": \"center\", \"y\": 3.586981436614862, \"yanchor\": \"bottom\"}, {\"arrowcolor\": \"black\", \"arrowhead\": 3, \"arrowsize\": 1, \"arrowwidth\": 1, \"ax\": 5.184865451541599, \"axref\": \"x\", \"ay\": -0.91885490458611, \"ayref\": \"y\", \"showarrow\": true, \"x\": 5.696498832732843, \"xanchor\": \"center\", \"y\": -1.3252161785865897, \"yanchor\": \"bottom\"}, {\"arrowcolor\": \"black\", \"arrowhead\": 3, \"arrowsize\": 1, \"arrowwidth\": 1, \"ax\": 0.36316033238315276, \"axref\": \"x\", \"ay\": 5.983390132313728, \"ayref\": \"y\", \"showarrow\": true, \"x\": 0.5198185562981691, \"xanchor\": \"center\", \"y\": 7.013548113866111, \"yanchor\": \"top\"}, {\"arrowcolor\": \"black\", \"arrowhead\": 3, \"arrowsize\": 1, \"arrowwidth\": 1, \"ax\": -3.075776012466798, \"axref\": \"x\", \"ay\": 2.4612136094994397, \"ayref\": \"y\", \"showarrow\": true, \"x\": -4.184665525402641, \"xanchor\": \"center\", \"y\": -0.058973151785292305, \"yanchor\": \"bottom\"}, {\"arrowcolor\": \"black\", \"arrowhead\": 3, \"arrowsize\": 1, \"arrowwidth\": 1, \"ax\": -2.3768260424012957, \"axref\": \"x\", \"ay\": 2.3799222709000136, \"ayref\": \"y\", \"showarrow\": true, \"x\": -2.2576420200959437, \"xanchor\": \"center\", \"y\": 2.6897503573424406, \"yanchor\": \"top\"}, {\"arrowcolor\": \"black\", \"arrowhead\": 3, \"arrowsize\": 1, \"arrowwidth\": 1, \"ax\": -5.041938215485743, \"axref\": \"x\", \"ay\": -2.0939115246809408, \"ayref\": \"y\", \"showarrow\": true, \"x\": -3.4918839654371627, \"xanchor\": \"center\", \"y\": -0.04939132590180529, \"yanchor\": \"top\"}, {\"arrowcolor\": \"black\", \"arrowhead\": 3, \"arrowsize\": 1, \"arrowwidth\": 1, \"ax\": 5.447611640924546, \"axref\": \"x\", \"ay\": 0.09258578004430486, \"ayref\": \"y\", \"showarrow\": true, \"x\": 5.273453684752267, \"xanchor\": \"center\", \"y\": 0.9173710394059075, \"yanchor\": \"top\"}, {\"arrowcolor\": \"black\", \"arrowhead\": 3, \"arrowsize\": 1, \"arrowwidth\": 1, \"ax\": 0.007565599484268374, \"axref\": \"x\", \"ay\": 2.790210991605485, \"ayref\": \"y\", \"showarrow\": true, \"x\": -0.1569874062471095, \"xanchor\": \"center\", \"y\": 3.117477168387409, \"yanchor\": \"top\"}, {\"arrowcolor\": \"black\", \"arrowhead\": 3, \"arrowsize\": 1, \"arrowwidth\": 1, \"ax\": -3.181947647214836, \"axref\": \"x\", \"ay\": 0.9932915718165647, \"ayref\": \"y\", \"showarrow\": true, \"x\": -2.335759773903857, \"xanchor\": \"center\", \"y\": 2.1928811131794723, \"yanchor\": \"top\"}, {\"arrowcolor\": \"black\", \"arrowhead\": 3, \"arrowsize\": 1, \"arrowwidth\": 1, \"ax\": -1.9944356932459153, \"axref\": \"x\", \"ay\": 2.0346732702354715, \"ayref\": \"y\", \"showarrow\": true, \"x\": -2.53958246863114, \"xanchor\": \"center\", \"y\": 2.1785673886229877, \"yanchor\": \"top\"}, {\"arrowcolor\": \"black\", \"arrowhead\": 3, \"arrowsize\": 1, \"arrowwidth\": 1, \"ax\": -3.794284933982792, \"axref\": \"x\", \"ay\": 1.4607093030043554, \"ayref\": \"y\", \"showarrow\": true, \"x\": -1.324301338643765, \"xanchor\": \"center\", \"y\": 0.15917609102902458, \"yanchor\": \"bottom\"}, {\"arrowcolor\": \"black\", \"arrowhead\": 3, \"arrowsize\": 1, \"arrowwidth\": 1, \"ax\": 5.570803385753478, \"axref\": \"x\", \"ay\": -1.0562610246933894, \"ayref\": \"y\", \"showarrow\": true, \"x\": 4.361455689512583, \"xanchor\": \"center\", \"y\": -1.4725795188697437, \"yanchor\": \"bottom\"}, {\"arrowcolor\": \"black\", \"arrowhead\": 3, \"arrowsize\": 1, \"arrowwidth\": 1, \"ax\": -0.8938202056961544, \"axref\": \"x\", \"ay\": -0.7358382624003752, \"ayref\": \"y\", \"showarrow\": true, \"x\": -1.452541726994276, \"xanchor\": \"center\", \"y\": -1.2743798217964528, \"yanchor\": \"bottom\"}, {\"arrowcolor\": \"black\", \"arrowhead\": 3, \"arrowsize\": 1, \"arrowwidth\": 1, \"ax\": 4.034638470819232, \"axref\": \"x\", \"ay\": 1.558326031893772, \"ayref\": \"y\", \"showarrow\": true, \"x\": 3.5567944205931816, \"xanchor\": \"center\", \"y\": 2.9629046344483294, \"yanchor\": \"top\"}, {\"arrowcolor\": \"black\", \"arrowhead\": 3, \"arrowsize\": 1, \"arrowwidth\": 1, \"ax\": 1.6957175819446524, \"axref\": \"x\", \"ay\": -0.012358128027631785, \"ayref\": \"y\", \"showarrow\": true, \"x\": 2.27774676246541, \"xanchor\": \"center\", \"y\": 0.4203942652462735, \"yanchor\": \"top\"}, {\"arrowcolor\": \"black\", \"arrowhead\": 3, \"arrowsize\": 1, \"arrowwidth\": 1, \"ax\": -1.9739275100971432, \"axref\": \"x\", \"ay\": 2.03830164182496, \"ayref\": \"y\", \"showarrow\": true, \"x\": -2.2381432137165445, \"xanchor\": \"center\", \"y\": 3.375436977678585, \"yanchor\": \"top\"}, {\"arrowcolor\": \"black\", \"arrowhead\": 3, \"arrowsize\": 1, \"arrowwidth\": 1, \"ax\": 10.15612969692899, \"axref\": \"x\", \"ay\": 1.5256557497952374, \"ayref\": \"y\", \"showarrow\": true, \"x\": 6.088740401077029, \"xanchor\": \"center\", \"y\": 2.5606555098968333, \"yanchor\": \"top\"}, {\"arrowcolor\": \"black\", \"arrowhead\": 3, \"arrowsize\": 1, \"arrowwidth\": 1, \"ax\": -4.623129066909165, \"axref\": \"x\", \"ay\": -4.929107986721377, \"ayref\": \"y\", \"showarrow\": true, \"x\": -4.6531630943044116, \"xanchor\": \"center\", \"y\": -4.192111504216523, \"yanchor\": \"top\"}, {\"arrowcolor\": \"black\", \"arrowhead\": 3, \"arrowsize\": 1, \"arrowwidth\": 1, \"ax\": -1.782745549889739, \"axref\": \"x\", \"ay\": 2.188055069298697, \"ayref\": \"y\", \"showarrow\": true, \"x\": -1.9391495829556404, \"xanchor\": \"center\", \"y\": 3.4103755286543707, \"yanchor\": \"top\"}, {\"arrowcolor\": \"black\", \"arrowhead\": 3, \"arrowsize\": 1, \"arrowwidth\": 1, \"ax\": -3.399118255273221, \"axref\": \"x\", \"ay\": 0.34662250124445254, \"ayref\": \"y\", \"showarrow\": true, \"x\": -1.4303179948433065, \"xanchor\": \"center\", \"y\": -1.874809775465803, \"yanchor\": \"bottom\"}, {\"arrowcolor\": \"black\", \"arrowhead\": 3, \"arrowsize\": 1, \"arrowwidth\": 1, \"ax\": 2.4252942517908633, \"axref\": \"x\", \"ay\": 1.4630702824187767, \"ayref\": \"y\", \"showarrow\": true, \"x\": 2.8890646899526486, \"xanchor\": \"center\", \"y\": 0.7860838747267261, \"yanchor\": \"bottom\"}, {\"arrowcolor\": \"black\", \"arrowhead\": 3, \"arrowsize\": 1, \"arrowwidth\": 1, \"ax\": -3.9509302034271587, \"axref\": \"x\", \"ay\": -1.511436836742875, \"ayref\": \"y\", \"showarrow\": true, \"x\": -1.9810834567656062, \"xanchor\": \"center\", \"y\": 0.742649830484237, \"yanchor\": \"top\"}, {\"arrowcolor\": \"black\", \"arrowhead\": 3, \"arrowsize\": 1, \"arrowwidth\": 1, \"ax\": -0.09580445499853078, \"axref\": \"x\", \"ay\": 1.1455582191534142, \"ayref\": \"y\", \"showarrow\": true, \"x\": -0.17144777429528726, \"xanchor\": \"center\", \"y\": 2.1607946533192286, \"yanchor\": \"top\"}, {\"arrowcolor\": \"black\", \"arrowhead\": 3, \"arrowsize\": 1, \"arrowwidth\": 1, \"ax\": 3.3715621553972914, \"axref\": \"x\", \"ay\": 2.1019194561485244, \"ayref\": \"y\", \"showarrow\": true, \"x\": 3.9277199323773266, \"xanchor\": \"center\", \"y\": 1.237050604018585, \"yanchor\": \"bottom\"}, {\"arrowcolor\": \"black\", \"arrowhead\": 3, \"arrowsize\": 1, \"arrowwidth\": 1, \"ax\": -5.132669084552778, \"axref\": \"x\", \"ay\": -2.8814989321284563, \"ayref\": \"y\", \"showarrow\": true, \"x\": -4.095626997956301, \"xanchor\": \"center\", \"y\": -2.7842653008956453, \"yanchor\": \"top\"}, {\"arrowcolor\": \"black\", \"arrowhead\": 3, \"arrowsize\": 1, \"arrowwidth\": 1, \"ax\": -4.162923221541716, \"axref\": \"x\", \"ay\": 4.301817583585912, \"ayref\": \"y\", \"showarrow\": true, \"x\": -4.3510372463177855, \"xanchor\": \"center\", \"y\": 5.150988519590477, \"yanchor\": \"top\"}, {\"arrowcolor\": \"black\", \"arrowhead\": 3, \"arrowsize\": 1, \"arrowwidth\": 1, \"ax\": 1.0126179052188324, \"axref\": \"x\", \"ay\": 2.4987374449042665, \"ayref\": \"y\", \"showarrow\": true, \"x\": -3.131344587606633, \"xanchor\": \"center\", \"y\": 3.3566607599196407, \"yanchor\": \"top\"}, {\"arrowcolor\": \"black\", \"arrowhead\": 3, \"arrowsize\": 1, \"arrowwidth\": 1, \"ax\": -2.916678893380604, \"axref\": \"x\", \"ay\": -2.46355941663561, \"ayref\": \"y\", \"showarrow\": true, \"x\": -1.7818625767557552, \"xanchor\": \"center\", \"y\": -2.165317261209029, \"yanchor\": \"top\"}, {\"arrowcolor\": \"black\", \"arrowhead\": 3, \"arrowsize\": 1, \"arrowwidth\": 1, \"ax\": 2.4828503928027765, \"axref\": \"x\", \"ay\": -3.09232183403313, \"ayref\": \"y\", \"showarrow\": true, \"x\": 2.5679003184718, \"xanchor\": \"center\", \"y\": -3.203925609005754, \"yanchor\": \"bottom\"}, {\"arrowcolor\": \"black\", \"arrowhead\": 3, \"arrowsize\": 1, \"arrowwidth\": 1, \"ax\": 3.2085942588483345, \"axref\": \"x\", \"ay\": 2.006710041286583, \"ayref\": \"y\", \"showarrow\": true, \"x\": 3.245586157933518, \"xanchor\": \"center\", \"y\": 2.484670064793537, \"yanchor\": \"top\"}, {\"arrowcolor\": \"black\", \"arrowhead\": 3, \"arrowsize\": 1, \"arrowwidth\": 1, \"ax\": -2.1642714453620577, \"axref\": \"x\", \"ay\": -0.5866102894014047, \"ayref\": \"y\", \"showarrow\": true, \"x\": -1.9732435623596605, \"xanchor\": \"center\", \"y\": -0.04030650019118205, \"yanchor\": \"top\"}, {\"arrowcolor\": \"black\", \"arrowhead\": 3, \"arrowsize\": 1, \"arrowwidth\": 1, \"ax\": -4.775270401571806, \"axref\": \"x\", \"ay\": -2.3204062073869967, \"ayref\": \"y\", \"showarrow\": true, \"x\": -3.202278395541626, \"xanchor\": \"center\", \"y\": 0.06814652669797923, \"yanchor\": \"top\"}, {\"arrowcolor\": \"black\", \"arrowhead\": 3, \"arrowsize\": 1, \"arrowwidth\": 1, \"ax\": 4.892173897864297, \"axref\": \"x\", \"ay\": 4.406013385022541, \"ayref\": \"y\", \"showarrow\": true, \"x\": 6.031498967835914, \"xanchor\": \"center\", \"y\": 5.07394152139512, \"yanchor\": \"top\"}, {\"arrowcolor\": \"black\", \"arrowhead\": 3, \"arrowsize\": 1, \"arrowwidth\": 1, \"ax\": 4.087761005910895, \"axref\": \"x\", \"ay\": 0.438346664878512, \"ayref\": \"y\", \"showarrow\": true, \"x\": 2.7197020071504667, \"xanchor\": \"center\", \"y\": -0.5307996167820501, \"yanchor\": \"bottom\"}, {\"arrowcolor\": \"black\", \"arrowhead\": 3, \"arrowsize\": 1, \"arrowwidth\": 1, \"ax\": -4.284554628310434, \"axref\": \"x\", \"ay\": -1.1939248232943143, \"ayref\": \"y\", \"showarrow\": true, \"x\": -0.696866453379731, \"xanchor\": \"center\", \"y\": -0.4937087776947036, \"yanchor\": \"top\"}, {\"arrowcolor\": \"black\", \"arrowhead\": 3, \"arrowsize\": 1, \"arrowwidth\": 1, \"ax\": 3.5620146823369363, \"axref\": \"x\", \"ay\": -3.2768250461779456, \"ayref\": \"y\", \"showarrow\": true, \"x\": 0.09212286904754054, \"xanchor\": \"center\", \"y\": -3.7729923422206144, \"yanchor\": \"bottom\"}, {\"arrowcolor\": \"black\", \"arrowhead\": 3, \"arrowsize\": 1, \"arrowwidth\": 1, \"ax\": 3.319058010880152, \"axref\": \"x\", \"ay\": -2.068754786827173, \"ayref\": \"y\", \"showarrow\": true, \"x\": -5.1095018526281955, \"xanchor\": \"center\", \"y\": 0.07755280895797809, \"yanchor\": \"top\"}, {\"arrowcolor\": \"black\", \"arrowhead\": 3, \"arrowsize\": 1, \"arrowwidth\": 1, \"ax\": 4.761865343741184, \"axref\": \"x\", \"ay\": 0.5258207505023913, \"ayref\": \"y\", \"showarrow\": true, \"x\": 5.306051465060331, \"xanchor\": \"center\", \"y\": -3.9005122038910547, \"yanchor\": \"bottom\"}], \"legend\": {\"title\": {\"text\": \"cluster\"}, \"tracegroupgap\": 0}, \"margin\": {\"t\": 60}, \"template\": {\"data\": {\"bar\": [{\"error_x\": {\"color\": \"#2a3f5f\"}, \"error_y\": {\"color\": \"#2a3f5f\"}, \"marker\": {\"line\": {\"color\": \"#E5ECF6\", \"width\": 0.5}}, \"type\": \"bar\"}], \"barpolar\": [{\"marker\": {\"line\": {\"color\": \"#E5ECF6\", \"width\": 0.5}}, \"type\": \"barpolar\"}], \"carpet\": [{\"aaxis\": {\"endlinecolor\": \"#2a3f5f\", \"gridcolor\": \"white\", \"linecolor\": \"white\", \"minorgridcolor\": \"white\", \"startlinecolor\": \"#2a3f5f\"}, \"baxis\": {\"endlinecolor\": \"#2a3f5f\", \"gridcolor\": \"white\", \"linecolor\": \"white\", \"minorgridcolor\": \"white\", \"startlinecolor\": \"#2a3f5f\"}, \"type\": \"carpet\"}], \"choropleth\": [{\"colorbar\": {\"outlinewidth\": 0, \"ticks\": \"\"}, \"type\": \"choropleth\"}], \"contour\": [{\"colorbar\": {\"outlinewidth\": 0, \"ticks\": \"\"}, \"colorscale\": [[0.0, \"#0d0887\"], [0.1111111111111111, \"#46039f\"], [0.2222222222222222, \"#7201a8\"], [0.3333333333333333, \"#9c179e\"], [0.4444444444444444, \"#bd3786\"], [0.5555555555555556, \"#d8576b\"], [0.6666666666666666, \"#ed7953\"], [0.7777777777777778, \"#fb9f3a\"], [0.8888888888888888, \"#fdca26\"], [1.0, \"#f0f921\"]], \"type\": \"contour\"}], \"contourcarpet\": [{\"colorbar\": {\"outlinewidth\": 0, \"ticks\": \"\"}, \"type\": \"contourcarpet\"}], \"heatmap\": [{\"colorbar\": {\"outlinewidth\": 0, \"ticks\": \"\"}, \"colorscale\": [[0.0, \"#0d0887\"], [0.1111111111111111, \"#46039f\"], [0.2222222222222222, \"#7201a8\"], [0.3333333333333333, \"#9c179e\"], [0.4444444444444444, \"#bd3786\"], [0.5555555555555556, \"#d8576b\"], [0.6666666666666666, \"#ed7953\"], [0.7777777777777778, \"#fb9f3a\"], [0.8888888888888888, \"#fdca26\"], [1.0, \"#f0f921\"]], \"type\": \"heatmap\"}], \"heatmapgl\": [{\"colorbar\": {\"outlinewidth\": 0, \"ticks\": \"\"}, \"colorscale\": [[0.0, \"#0d0887\"], [0.1111111111111111, \"#46039f\"], [0.2222222222222222, \"#7201a8\"], [0.3333333333333333, \"#9c179e\"], [0.4444444444444444, \"#bd3786\"], [0.5555555555555556, \"#d8576b\"], [0.6666666666666666, \"#ed7953\"], [0.7777777777777778, \"#fb9f3a\"], [0.8888888888888888, \"#fdca26\"], [1.0, \"#f0f921\"]], \"type\": \"heatmapgl\"}], \"histogram\": [{\"marker\": {\"colorbar\": {\"outlinewidth\": 0, \"ticks\": \"\"}}, \"type\": \"histogram\"}], \"histogram2d\": [{\"colorbar\": {\"outlinewidth\": 0, \"ticks\": \"\"}, \"colorscale\": [[0.0, \"#0d0887\"], [0.1111111111111111, \"#46039f\"], [0.2222222222222222, \"#7201a8\"], [0.3333333333333333, \"#9c179e\"], [0.4444444444444444, \"#bd3786\"], [0.5555555555555556, \"#d8576b\"], [0.6666666666666666, \"#ed7953\"], [0.7777777777777778, \"#fb9f3a\"], [0.8888888888888888, \"#fdca26\"], [1.0, \"#f0f921\"]], \"type\": \"histogram2d\"}], \"histogram2dcontour\": [{\"colorbar\": {\"outlinewidth\": 0, \"ticks\": \"\"}, \"colorscale\": [[0.0, \"#0d0887\"], [0.1111111111111111, \"#46039f\"], [0.2222222222222222, \"#7201a8\"], [0.3333333333333333, \"#9c179e\"], [0.4444444444444444, \"#bd3786\"], [0.5555555555555556, \"#d8576b\"], [0.6666666666666666, \"#ed7953\"], [0.7777777777777778, \"#fb9f3a\"], [0.8888888888888888, \"#fdca26\"], [1.0, \"#f0f921\"]], \"type\": \"histogram2dcontour\"}], \"mesh3d\": [{\"colorbar\": {\"outlinewidth\": 0, \"ticks\": \"\"}, \"type\": \"mesh3d\"}], \"parcoords\": [{\"line\": {\"colorbar\": {\"outlinewidth\": 0, \"ticks\": \"\"}}, \"type\": \"parcoords\"}], \"pie\": [{\"automargin\": true, \"type\": \"pie\"}], \"scatter\": [{\"marker\": {\"colorbar\": {\"outlinewidth\": 0, \"ticks\": \"\"}}, \"type\": \"scatter\"}], \"scatter3d\": [{\"line\": {\"colorbar\": {\"outlinewidth\": 0, \"ticks\": \"\"}}, \"marker\": {\"colorbar\": {\"outlinewidth\": 0, \"ticks\": \"\"}}, \"type\": \"scatter3d\"}], \"scattercarpet\": [{\"marker\": {\"colorbar\": {\"outlinewidth\": 0, \"ticks\": \"\"}}, \"type\": \"scattercarpet\"}], \"scattergeo\": [{\"marker\": {\"colorbar\": {\"outlinewidth\": 0, \"ticks\": \"\"}}, \"type\": \"scattergeo\"}], \"scattergl\": [{\"marker\": {\"colorbar\": {\"outlinewidth\": 0, \"ticks\": \"\"}}, \"type\": \"scattergl\"}], \"scattermapbox\": [{\"marker\": {\"colorbar\": {\"outlinewidth\": 0, \"ticks\": \"\"}}, \"type\": \"scattermapbox\"}], \"scatterpolar\": [{\"marker\": {\"colorbar\": {\"outlinewidth\": 0, \"ticks\": \"\"}}, \"type\": \"scatterpolar\"}], \"scatterpolargl\": [{\"marker\": {\"colorbar\": {\"outlinewidth\": 0, \"ticks\": \"\"}}, \"type\": \"scatterpolargl\"}], \"scatterternary\": [{\"marker\": {\"colorbar\": {\"outlinewidth\": 0, \"ticks\": \"\"}}, \"type\": \"scatterternary\"}], \"surface\": [{\"colorbar\": {\"outlinewidth\": 0, \"ticks\": \"\"}, \"colorscale\": [[0.0, \"#0d0887\"], [0.1111111111111111, \"#46039f\"], [0.2222222222222222, \"#7201a8\"], [0.3333333333333333, \"#9c179e\"], [0.4444444444444444, \"#bd3786\"], [0.5555555555555556, \"#d8576b\"], [0.6666666666666666, \"#ed7953\"], [0.7777777777777778, \"#fb9f3a\"], [0.8888888888888888, \"#fdca26\"], [1.0, \"#f0f921\"]], \"type\": \"surface\"}], \"table\": [{\"cells\": {\"fill\": {\"color\": \"#EBF0F8\"}, \"line\": {\"color\": \"white\"}}, \"header\": {\"fill\": {\"color\": \"#C8D4E3\"}, \"line\": {\"color\": \"white\"}}, \"type\": \"table\"}]}, \"layout\": {\"annotationdefaults\": {\"arrowcolor\": \"#2a3f5f\", \"arrowhead\": 0, \"arrowwidth\": 1}, \"autotypenumbers\": \"strict\", \"coloraxis\": {\"colorbar\": {\"outlinewidth\": 0, \"ticks\": \"\"}}, \"colorscale\": {\"diverging\": [[0, \"#8e0152\"], [0.1, \"#c51b7d\"], [0.2, \"#de77ae\"], [0.3, \"#f1b6da\"], [0.4, \"#fde0ef\"], [0.5, \"#f7f7f7\"], [0.6, \"#e6f5d0\"], [0.7, \"#b8e186\"], [0.8, \"#7fbc41\"], [0.9, \"#4d9221\"], [1, \"#276419\"]], \"sequential\": [[0.0, \"#0d0887\"], [0.1111111111111111, \"#46039f\"], [0.2222222222222222, \"#7201a8\"], [0.3333333333333333, \"#9c179e\"], [0.4444444444444444, \"#bd3786\"], [0.5555555555555556, \"#d8576b\"], [0.6666666666666666, \"#ed7953\"], [0.7777777777777778, \"#fb9f3a\"], [0.8888888888888888, \"#fdca26\"], [1.0, \"#f0f921\"]], \"sequentialminus\": [[0.0, \"#0d0887\"], [0.1111111111111111, \"#46039f\"], [0.2222222222222222, \"#7201a8\"], [0.3333333333333333, \"#9c179e\"], [0.4444444444444444, \"#bd3786\"], [0.5555555555555556, \"#d8576b\"], [0.6666666666666666, \"#ed7953\"], [0.7777777777777778, \"#fb9f3a\"], [0.8888888888888888, \"#fdca26\"], [1.0, \"#f0f921\"]]}, \"colorway\": [\"#636efa\", \"#EF553B\", \"#00cc96\", \"#ab63fa\", \"#FFA15A\", \"#19d3f3\", \"#FF6692\", \"#B6E880\", \"#FF97FF\", \"#FECB52\"], \"font\": {\"color\": \"#2a3f5f\"}, \"geo\": {\"bgcolor\": \"white\", \"lakecolor\": \"white\", \"landcolor\": \"#E5ECF6\", \"showlakes\": true, \"showland\": true, \"subunitcolor\": \"white\"}, \"hoverlabel\": {\"align\": \"left\"}, \"hovermode\": \"closest\", \"mapbox\": {\"style\": \"light\"}, \"paper_bgcolor\": \"white\", \"plot_bgcolor\": \"#E5ECF6\", \"polar\": {\"angularaxis\": {\"gridcolor\": \"white\", \"linecolor\": \"white\", \"ticks\": \"\"}, \"bgcolor\": \"#E5ECF6\", \"radialaxis\": {\"gridcolor\": \"white\", \"linecolor\": \"white\", \"ticks\": \"\"}}, \"scene\": {\"xaxis\": {\"backgroundcolor\": \"#E5ECF6\", \"gridcolor\": \"white\", \"gridwidth\": 2, \"linecolor\": \"white\", \"showbackground\": true, \"ticks\": \"\", \"zerolinecolor\": \"white\"}, \"yaxis\": {\"backgroundcolor\": \"#E5ECF6\", \"gridcolor\": \"white\", \"gridwidth\": 2, \"linecolor\": \"white\", \"showbackground\": true, \"ticks\": \"\", \"zerolinecolor\": \"white\"}, \"zaxis\": {\"backgroundcolor\": \"#E5ECF6\", \"gridcolor\": \"white\", \"gridwidth\": 2, \"linecolor\": \"white\", \"showbackground\": true, \"ticks\": \"\", \"zerolinecolor\": \"white\"}}, \"shapedefaults\": {\"line\": {\"color\": \"#2a3f5f\"}}, \"ternary\": {\"aaxis\": {\"gridcolor\": \"white\", \"linecolor\": \"white\", \"ticks\": \"\"}, \"baxis\": {\"gridcolor\": \"white\", \"linecolor\": \"white\", \"ticks\": \"\"}, \"bgcolor\": \"#E5ECF6\", \"caxis\": {\"gridcolor\": \"white\", \"linecolor\": \"white\", \"ticks\": \"\"}}, \"title\": {\"x\": 0.05}, \"xaxis\": {\"automargin\": true, \"gridcolor\": \"white\", \"linecolor\": \"white\", \"ticks\": \"\", \"title\": {\"standoff\": 15}, \"zerolinecolor\": \"white\", \"zerolinewidth\": 2}, \"yaxis\": {\"automargin\": true, \"gridcolor\": \"white\", \"linecolor\": \"white\", \"ticks\": \"\", \"title\": {\"standoff\": 15}, \"zerolinecolor\": \"white\", \"zerolinewidth\": 2}}}, \"xaxis\": {\"anchor\": \"y\", \"domain\": [0.0, 1.0], \"title\": {\"text\": \"Darkness\"}}, \"yaxis\": {\"anchor\": \"x\", \"domain\": [0.0, 1.0], \"title\": {\"text\": \"Purpleness\"}}},                        {\"responsive\": true}                    ).then(function(){\n",
       "                            \n",
       "var gd = document.getElementById('49d76199-36fb-4af2-ad1b-a8a450d8d287');\n",
       "var x = new MutationObserver(function (mutations, observer) {{\n",
       "        var display = window.getComputedStyle(gd).display;\n",
       "        if (!display || display === 'none') {{\n",
       "            console.log([gd, 'removed!']);\n",
       "            Plotly.purge(gd);\n",
       "            observer.disconnect();\n",
       "        }}\n",
       "}});\n",
       "\n",
       "// Listen for the removal of the full notebook cells\n",
       "var notebookContainer = gd.closest('#notebook-container');\n",
       "if (notebookContainer) {{\n",
       "    x.observe(notebookContainer, {childList: true});\n",
       "}}\n",
       "\n",
       "// Listen for the clearing of the current output cell\n",
       "var outputEl = gd.closest('.output');\n",
       "if (outputEl) {{\n",
       "    x.observe(outputEl, {childList: true});\n",
       "}}\n",
       "\n",
       "                        })                };                });            </script>        </div>"
      ]
     },
     "metadata": {},
     "output_type": "display_data"
    },
    {
     "name": "stdout",
     "output_type": "stream",
     "text": [
      "This 3D plot explains 82% of the data.\n"
     ]
    },
    {
     "data": {
      "application/vnd.plotly.v1+json": {
       "config": {
        "plotlyServerURL": "https://plot.ly"
       },
       "data": [
        {
         "hovertemplate": "cluster=1<br>Darkness=%{x}<br>Purpleness=%{y}<br>Polychromaticity=%{z}<extra></extra>",
         "legendgroup": "1",
         "marker": {
          "color": "#636efa",
          "opacity": 0.7,
          "symbol": "circle"
         },
         "mode": "markers",
         "name": "1",
         "scene": "scene",
         "showlegend": true,
         "type": "scatter3d",
         "x": [
          -4.84161759904805,
          -3.5424850253738414,
          -3.614005519273559,
          0.25806538638578913,
          -6.913083872415633,
          -0.24312194921369912,
          -3.7162481329189476,
          -2.5853549535749543,
          -2.1620693266536315,
          -0.6124375895333427,
          -5.344282246220721,
          -5.1095018526281955,
          -3.49425211823055,
          -1.67005619585758,
          -2.7845032087811075,
          -1.7592291851090753,
          -1.9810834567656062,
          -4.968879514696019,
          -1.0758147153163853,
          -2.2273135547203267,
          -2.2707799270350084,
          -3.0365818287379436,
          -2.010565684346796,
          -0.05260172332557683,
          -2.3433278571690295,
          -1.8119777760785212,
          -3.295499021800521,
          0.14023185595248056,
          0.026887269669251153,
          0.36316033238315276,
          0.5198185562981691,
          -3.075776012466798,
          -2.2576420200959437,
          -2.3768260424012957,
          0.007565599484268374,
          -3.181947647214836,
          -0.1569874062471095,
          -2.335759773903857,
          -1.9944356932459153,
          -2.53958246863114,
          -1.324301338643765,
          -3.794284933982792,
          -1.9739275100971432,
          -2.2381432137165445,
          -1.9391495829556404,
          -1.782745549889739,
          -3.399118255273221,
          -0.17144777429528726,
          -0.09580445499853078,
          -4.3510372463177855,
          -4.162923221541716,
          -3.131344587606633,
          1.0126179052188324,
          -2.916678893380604,
          -0.696866453379731
         ],
         "y": [
          2.9015324147396986,
          3.92464088948881,
          1.0690657461256974,
          -0.3311392258835231,
          1.0989436556834031,
          1.1855221563262144,
          0.9965433759978393,
          0.6923775717364568,
          2.444227676250785,
          2.8260551877514697,
          1.1604990639660997,
          0.07755280895797809,
          -0.4776340574012586,
          2.2751674204289656,
          2.221499040545529,
          3.8116351364032215,
          0.742649830484237,
          1.436783396328411,
          1.0257123958756993,
          0.23776120349737934,
          2.571340033459247,
          3.6075592501641336,
          1.589790583900151,
          -1.550533201974786,
          2.061225067564597,
          0.8493104428042417,
          -0.10707941178254766,
          -0.29566171978212324,
          0.12778300130542092,
          5.983390132313728,
          7.013548113866111,
          2.4612136094994397,
          2.6897503573424406,
          2.3799222709000136,
          2.790210991605485,
          0.9932915718165647,
          3.117477168387409,
          2.1928811131794723,
          2.0346732702354715,
          2.1785673886229877,
          0.15917609102902458,
          1.4607093030043554,
          2.03830164182496,
          3.375436977678585,
          3.4103755286543707,
          2.188055069298697,
          0.34662250124445254,
          2.1607946533192286,
          1.1455582191534142,
          5.150988519590477,
          4.301817583585912,
          3.3566607599196407,
          2.4987374449042665,
          -2.46355941663561,
          -0.4937087776947036
         ],
         "z": [
          2.25173798152823,
          0.25408130244926524,
          3.162120343087736,
          2.9146628707166085,
          2.711886145702885,
          2.137676582860307,
          2.6119067965242175,
          -1.4560251035019003,
          -1.0580008733477393,
          1.9386959270604045,
          2.234472410437535,
          4.910446205798483,
          3.55979567278691,
          1.3858177145147998,
          -0.3507752020370733,
          -0.5089470821731075,
          -1.2620490735948529,
          1.969512896227821,
          0.050868407506476934,
          -0.7585775114816153,
          -0.240782032070513,
          -0.40842495791510414,
          -1.9405260348684124,
          4.2804900563596995,
          -0.6726338230629657,
          -1.4522592655243127,
          1.5751205640312471,
          1.0876082794746935,
          0.5480519638021,
          -3.1287526154544376,
          -2.3823913801811725,
          -0.4039382304335047,
          -0.6862026638857531,
          -0.6561587157894921,
          -1.8531774480103966,
          -0.2880419561803159,
          -1.6952668634964991,
          -0.07244644279343534,
          -1.1015563725596023,
          -0.5087462462787654,
          3.680838656179686,
          4.244412091211856,
          -1.5457120016387929,
          -1.4572855958207194,
          -0.9125427512219333,
          -1.3360689409988482,
          0.6499031673890894,
          -1.8945256626883498,
          -1.8508978150538526,
          4.858874994526963,
          3.6075704996880913,
          4.042705428906337,
          1.005496942831907,
          6.2864601794252986,
          0.7279999277664078
         ]
        },
        {
         "hovertemplate": "cluster=0<br>Darkness=%{x}<br>Purpleness=%{y}<br>Polychromaticity=%{z}<extra></extra>",
         "legendgroup": "0",
         "marker": {
          "color": "#EF553B",
          "opacity": 0.7,
          "symbol": "circle"
         },
         "mode": "markers",
         "name": "0",
         "scene": "scene",
         "showlegend": true,
         "type": "scatter3d",
         "x": [
          4.54675530458697,
          5.696498832732843,
          5.57055316851182,
          5.273453684752267,
          4.330337260764482,
          4.4593811115062705,
          6.162175342004795,
          6.152180392635482,
          4.903519144623087,
          3.2353012393883462,
          1.4487269859764198,
          4.4996762044771055,
          3.7678449215984866,
          3.2293302498099017,
          6.031498967835914,
          6.270191149507469,
          3.5027805746223017,
          2.7197020071504667,
          5.2351905325122,
          5.92678866791735,
          5.306051465060331,
          3.881573204763915,
          4.447163728372044,
          3.245586157933518,
          3.8745065402411414,
          3.946052200801686,
          3.5567944205931816,
          3.191264801294224,
          1.4728854321208467,
          4.170042546160154,
          6.512404509619199,
          6.088740401077029,
          2.465408785542695,
          1.4408151273086562,
          1.3929104569858861,
          4.373310863131126,
          3.44019905622847,
          3.8267005572364647,
          1.710578594417113,
          6.4597017793138996,
          2.838391374660618,
          4.058322274066089,
          5.8477490709042685,
          3.0775380106037624,
          2.5712086552812146,
          5.184865451541599,
          5.447611640924546,
          4.361455689512583,
          5.570803385753478,
          4.034638470819232,
          1.6957175819446524,
          2.27774676246541,
          10.15612969692899,
          2.4252942517908633,
          2.8890646899526486,
          3.3715621553972914,
          3.9277199323773266,
          2.4828503928027765,
          3.2085942588483345,
          2.5679003184718,
          4.892173897864297,
          4.087761005910895,
          3.5620146823369363,
          3.319058010880152,
          4.761865343741184
         ],
         "y": [
          -2.376073513559332,
          -1.3252161785865897,
          0.7351884954404978,
          0.9173710394059075,
          0.2731418398233651,
          -4.565844861453469,
          -4.931684143972217,
          -0.7908220362985522,
          1.6396503043376798,
          -2.0119330118939067,
          0.3384213143104606,
          -0.5687933672358269,
          2.7465964589260357,
          -2.344510042792375,
          5.07394152139512,
          2.655040310683209,
          -2.046670989624067,
          -0.5307996167820501,
          -4.301929810402094,
          -4.0372901990305925,
          -3.9005122038910547,
          -1.862218385321272,
          -3.2939351286969427,
          2.484670064793537,
          1.676906863971518,
          1.0171079016274083,
          2.9629046344483294,
          3.0436785425246335,
          -0.9074672925699476,
          -3.6846117157501475,
          1.373129372464656,
          2.5606555098968333,
          1.6994573957946781,
          1.8834612796331676,
          1.1737680241544173,
          -0.15342993666666874,
          1.8203746732719528,
          0.4257826572544737,
          -3.5537411714143206,
          -5.333464510487807,
          -0.1554303085176319,
          -2.4622811954142625,
          -1.908429526239097,
          4.349666696702121,
          3.586981436614862,
          -0.91885490458611,
          0.09258578004430486,
          -1.4725795188697437,
          -1.0562610246933894,
          1.558326031893772,
          -0.012358128027631785,
          0.4203942652462735,
          1.5256557497952374,
          1.4630702824187767,
          0.7860838747267261,
          2.1019194561485244,
          1.237050604018585,
          -3.09232183403313,
          2.006710041286583,
          -3.203925609005754,
          4.406013385022541,
          0.438346664878512,
          -3.2768250461779456,
          -2.068754786827173,
          0.5258207505023913
         ],
         "z": [
          3.6157877715079576,
          0.6170860406423648,
          -1.1430998424379248,
          -1.432907774291972,
          0.9629936319325471,
          1.9457147027791717,
          0.9280483880168676,
          -0.25780385835219466,
          0.6228438472788674,
          -0.7184162842185823,
          -0.14271166837140586,
          1.1355557548468496,
          -1.7582474644573098,
          -1.822573186399819,
          -2.5517894560839616,
          -0.11588442705462756,
          4.050773626588414,
          3.34719267029736,
          0.09407909667263932,
          1.2945971069387947,
          1.4149037419454353,
          -1.2899003453507176,
          0.9619902904083392,
          -0.7642253404718288,
          -0.5748648007765919,
          0.31988710752070143,
          -1.2746163412351337,
          -0.29767822502880636,
          -0.4270067464732971,
          -1.5482770549472271,
          0.8850773795914291,
          1.4200311465392406,
          -1.2654449027504096,
          -0.1536198893951066,
          -0.9115318358152582,
          1.7673327712364633,
          0.20154854733834046,
          0.4346595179037602,
          -0.6389227122766221,
          -0.8804037204835207,
          -0.19607564044218825,
          2.0598015316872686,
          1.321634817438208,
          2.3172333137440773,
          2.8783473754220785,
          -0.20096624469324448,
          -2.5486391642884354,
          2.1029582530232926,
          1.3825432221298273,
          -2.2770401668139613,
          -0.4492603080116254,
          -0.3269865928912045,
          -1.7107460423387773,
          -0.10448629762985506,
          0.2272280055672475,
          1.0296856492570254,
          1.4581274594713005,
          0.02967652622381251,
          -2.025016882121988,
          -0.11845319991738175,
          -2.797815679539783,
          -0.7163064190677798,
          0.9625001665417673,
          -0.08991161523858135,
          0.21854351919153628
         ]
        },
        {
         "hovertemplate": "cluster=2<br>Darkness=%{x}<br>Purpleness=%{y}<br>Polychromaticity=%{z}<extra></extra>",
         "legendgroup": "2",
         "marker": {
          "color": "#00cc96",
          "opacity": 0.7,
          "symbol": "circle"
         },
         "mode": "markers",
         "name": "2",
         "scene": "scene",
         "showlegend": true,
         "type": "scatter3d",
         "x": [
          -5.922031957562663,
          -4.184665525402641,
          -3.3232707362591873,
          -3.4918839654371627,
          -0.7457997401815397,
          -3.7021920529057355,
          -0.9845295930921879,
          -6.5985821521842665,
          -3.398920750719278,
          -4.199670492666487,
          -4.920985725719103,
          -2.7831953584233267,
          -2.6436374612061013,
          -1.239134688212251,
          0.7592209243125903,
          -5.535979080309777,
          -3.3758069268530053,
          -3.368022577792931,
          -3.202278395541626,
          -0.5059951179772617,
          -0.6635612656191165,
          -2.4510053462947328,
          -4.2677271112434765,
          -4.6531630943044116,
          -1.3527896638428254,
          -1.4303179948433065,
          -0.8328954102447729,
          -6.050705360836413,
          -5.273239551857226,
          -1.3424197088273322,
          -1.0526978125461657,
          -1.4858384490483039,
          -1.1374246523694111,
          -3.542547200021231,
          -6.3661271248113644,
          -5.041938215485743,
          -0.8938202056961544,
          -1.452541726994276,
          -4.623129066909165,
          -3.9509302034271587,
          -4.095626997956301,
          -5.132669084552778,
          -1.7818625767557552,
          -1.9732435623596605,
          -2.1642714453620577,
          -4.775270401571806,
          -4.284554628310434,
          0.09212286904754054
         ],
         "y": [
          0.6316190433151804,
          -0.058973151785292305,
          -3.1583890631053713,
          -0.04939132590180529,
          -1.4894851764399624,
          -2.0618326690285,
          -0.8529270432028841,
          -2.6768632520367657,
          -3.0481750869048905,
          -0.9653392123795604,
          -2.7862569511134234,
          -2.330698854597737,
          -1.3931774734131293,
          -1.1065425768878494,
          -3.7219721018143965,
          -1.613706342358715,
          -2.2919583464101256,
          -3.130547779108964,
          0.06814652669797923,
          -2.473335792533614,
          -2.8625151422033355,
          -1.6184121725475176,
          -1.2478669424190958,
          -4.192111504216523,
          -1.3973153243228498,
          -1.874809775465803,
          -2.6500034063448656,
          -2.3745205905012776,
          -2.7172055874251635,
          -0.628167726517909,
          0.06869221793731427,
          -2.4348890462991295,
          -0.7435173791919076,
          -2.1425477932179278,
          -1.8799321534281603,
          -2.0939115246809408,
          -0.7358382624003752,
          -1.2743798217964528,
          -4.929107986721377,
          -1.511436836742875,
          -2.7842653008956453,
          -2.8814989321284563,
          -2.165317261209029,
          -0.04030650019118205,
          -0.5866102894014047,
          -2.3204062073869967,
          -1.1939248232943143,
          -3.7729923422206144
         ],
         "z": [
          -0.6287268328331879,
          -2.7695799110272943,
          -2.2761872019617737,
          -1.584889734138023,
          -2.881402879377118,
          -2.0398354975251722,
          -1.9341843493258914,
          0.5213270630486955,
          -2.663121380390088,
          1.7468898888572328,
          1.2641995882614556,
          -2.3833442735942354,
          0.6372385851158123,
          0.318642477195009,
          -3.1330146303618216,
          -1.5119198523201973,
          -2.005818958489631,
          -2.6293614011623387,
          -0.8700878461743804,
          -2.9805727018591686,
          1.8081882149586945,
          -2.4759883412659573,
          -2.331555706738059,
          -2.4470401508832746,
          -2.299856523403527,
          -0.5921786197053105,
          -0.43627882907893906,
          -0.7414794538972813,
          -2.0818358898371985,
          -2.0768241887573162,
          -1.94165871695388,
          0.28152740600992104,
          0.0532060305982145,
          -1.9076420053926724,
          -0.33790872698523855,
          -1.228216955662123,
          0.38969593042766604,
          1.0911837348906173,
          -3.1368484165202153,
          -1.3256725145528074,
          1.743650436926062,
          1.4425913732262783,
          2.599654003646312,
          -1.882984837418967,
          -2.0608537423178737,
          -1.5128975601828794,
          0.5769023946839243,
          3.351617305500518
         ]
        }
       ],
       "layout": {
        "legend": {
         "title": {
          "text": "cluster"
         },
         "tracegroupgap": 0
        },
        "margin": {
         "t": 60
        },
        "scene": {
         "domain": {
          "x": [
           0,
           1
          ],
          "y": [
           0,
           1
          ]
         },
         "xaxis": {
          "title": {
           "text": "Darkness"
          }
         },
         "yaxis": {
          "title": {
           "text": "Purpleness"
          }
         },
         "zaxis": {
          "title": {
           "text": "Polychromaticity"
          }
         }
        },
        "template": {
         "data": {
          "bar": [
           {
            "error_x": {
             "color": "#2a3f5f"
            },
            "error_y": {
             "color": "#2a3f5f"
            },
            "marker": {
             "line": {
              "color": "#E5ECF6",
              "width": 0.5
             }
            },
            "type": "bar"
           }
          ],
          "barpolar": [
           {
            "marker": {
             "line": {
              "color": "#E5ECF6",
              "width": 0.5
             }
            },
            "type": "barpolar"
           }
          ],
          "carpet": [
           {
            "aaxis": {
             "endlinecolor": "#2a3f5f",
             "gridcolor": "white",
             "linecolor": "white",
             "minorgridcolor": "white",
             "startlinecolor": "#2a3f5f"
            },
            "baxis": {
             "endlinecolor": "#2a3f5f",
             "gridcolor": "white",
             "linecolor": "white",
             "minorgridcolor": "white",
             "startlinecolor": "#2a3f5f"
            },
            "type": "carpet"
           }
          ],
          "choropleth": [
           {
            "colorbar": {
             "outlinewidth": 0,
             "ticks": ""
            },
            "type": "choropleth"
           }
          ],
          "contour": [
           {
            "colorbar": {
             "outlinewidth": 0,
             "ticks": ""
            },
            "colorscale": [
             [
              0,
              "#0d0887"
             ],
             [
              0.1111111111111111,
              "#46039f"
             ],
             [
              0.2222222222222222,
              "#7201a8"
             ],
             [
              0.3333333333333333,
              "#9c179e"
             ],
             [
              0.4444444444444444,
              "#bd3786"
             ],
             [
              0.5555555555555556,
              "#d8576b"
             ],
             [
              0.6666666666666666,
              "#ed7953"
             ],
             [
              0.7777777777777778,
              "#fb9f3a"
             ],
             [
              0.8888888888888888,
              "#fdca26"
             ],
             [
              1,
              "#f0f921"
             ]
            ],
            "type": "contour"
           }
          ],
          "contourcarpet": [
           {
            "colorbar": {
             "outlinewidth": 0,
             "ticks": ""
            },
            "type": "contourcarpet"
           }
          ],
          "heatmap": [
           {
            "colorbar": {
             "outlinewidth": 0,
             "ticks": ""
            },
            "colorscale": [
             [
              0,
              "#0d0887"
             ],
             [
              0.1111111111111111,
              "#46039f"
             ],
             [
              0.2222222222222222,
              "#7201a8"
             ],
             [
              0.3333333333333333,
              "#9c179e"
             ],
             [
              0.4444444444444444,
              "#bd3786"
             ],
             [
              0.5555555555555556,
              "#d8576b"
             ],
             [
              0.6666666666666666,
              "#ed7953"
             ],
             [
              0.7777777777777778,
              "#fb9f3a"
             ],
             [
              0.8888888888888888,
              "#fdca26"
             ],
             [
              1,
              "#f0f921"
             ]
            ],
            "type": "heatmap"
           }
          ],
          "heatmapgl": [
           {
            "colorbar": {
             "outlinewidth": 0,
             "ticks": ""
            },
            "colorscale": [
             [
              0,
              "#0d0887"
             ],
             [
              0.1111111111111111,
              "#46039f"
             ],
             [
              0.2222222222222222,
              "#7201a8"
             ],
             [
              0.3333333333333333,
              "#9c179e"
             ],
             [
              0.4444444444444444,
              "#bd3786"
             ],
             [
              0.5555555555555556,
              "#d8576b"
             ],
             [
              0.6666666666666666,
              "#ed7953"
             ],
             [
              0.7777777777777778,
              "#fb9f3a"
             ],
             [
              0.8888888888888888,
              "#fdca26"
             ],
             [
              1,
              "#f0f921"
             ]
            ],
            "type": "heatmapgl"
           }
          ],
          "histogram": [
           {
            "marker": {
             "colorbar": {
              "outlinewidth": 0,
              "ticks": ""
             }
            },
            "type": "histogram"
           }
          ],
          "histogram2d": [
           {
            "colorbar": {
             "outlinewidth": 0,
             "ticks": ""
            },
            "colorscale": [
             [
              0,
              "#0d0887"
             ],
             [
              0.1111111111111111,
              "#46039f"
             ],
             [
              0.2222222222222222,
              "#7201a8"
             ],
             [
              0.3333333333333333,
              "#9c179e"
             ],
             [
              0.4444444444444444,
              "#bd3786"
             ],
             [
              0.5555555555555556,
              "#d8576b"
             ],
             [
              0.6666666666666666,
              "#ed7953"
             ],
             [
              0.7777777777777778,
              "#fb9f3a"
             ],
             [
              0.8888888888888888,
              "#fdca26"
             ],
             [
              1,
              "#f0f921"
             ]
            ],
            "type": "histogram2d"
           }
          ],
          "histogram2dcontour": [
           {
            "colorbar": {
             "outlinewidth": 0,
             "ticks": ""
            },
            "colorscale": [
             [
              0,
              "#0d0887"
             ],
             [
              0.1111111111111111,
              "#46039f"
             ],
             [
              0.2222222222222222,
              "#7201a8"
             ],
             [
              0.3333333333333333,
              "#9c179e"
             ],
             [
              0.4444444444444444,
              "#bd3786"
             ],
             [
              0.5555555555555556,
              "#d8576b"
             ],
             [
              0.6666666666666666,
              "#ed7953"
             ],
             [
              0.7777777777777778,
              "#fb9f3a"
             ],
             [
              0.8888888888888888,
              "#fdca26"
             ],
             [
              1,
              "#f0f921"
             ]
            ],
            "type": "histogram2dcontour"
           }
          ],
          "mesh3d": [
           {
            "colorbar": {
             "outlinewidth": 0,
             "ticks": ""
            },
            "type": "mesh3d"
           }
          ],
          "parcoords": [
           {
            "line": {
             "colorbar": {
              "outlinewidth": 0,
              "ticks": ""
             }
            },
            "type": "parcoords"
           }
          ],
          "pie": [
           {
            "automargin": true,
            "type": "pie"
           }
          ],
          "scatter": [
           {
            "marker": {
             "colorbar": {
              "outlinewidth": 0,
              "ticks": ""
             }
            },
            "type": "scatter"
           }
          ],
          "scatter3d": [
           {
            "line": {
             "colorbar": {
              "outlinewidth": 0,
              "ticks": ""
             }
            },
            "marker": {
             "colorbar": {
              "outlinewidth": 0,
              "ticks": ""
             }
            },
            "type": "scatter3d"
           }
          ],
          "scattercarpet": [
           {
            "marker": {
             "colorbar": {
              "outlinewidth": 0,
              "ticks": ""
             }
            },
            "type": "scattercarpet"
           }
          ],
          "scattergeo": [
           {
            "marker": {
             "colorbar": {
              "outlinewidth": 0,
              "ticks": ""
             }
            },
            "type": "scattergeo"
           }
          ],
          "scattergl": [
           {
            "marker": {
             "colorbar": {
              "outlinewidth": 0,
              "ticks": ""
             }
            },
            "type": "scattergl"
           }
          ],
          "scattermapbox": [
           {
            "marker": {
             "colorbar": {
              "outlinewidth": 0,
              "ticks": ""
             }
            },
            "type": "scattermapbox"
           }
          ],
          "scatterpolar": [
           {
            "marker": {
             "colorbar": {
              "outlinewidth": 0,
              "ticks": ""
             }
            },
            "type": "scatterpolar"
           }
          ],
          "scatterpolargl": [
           {
            "marker": {
             "colorbar": {
              "outlinewidth": 0,
              "ticks": ""
             }
            },
            "type": "scatterpolargl"
           }
          ],
          "scatterternary": [
           {
            "marker": {
             "colorbar": {
              "outlinewidth": 0,
              "ticks": ""
             }
            },
            "type": "scatterternary"
           }
          ],
          "surface": [
           {
            "colorbar": {
             "outlinewidth": 0,
             "ticks": ""
            },
            "colorscale": [
             [
              0,
              "#0d0887"
             ],
             [
              0.1111111111111111,
              "#46039f"
             ],
             [
              0.2222222222222222,
              "#7201a8"
             ],
             [
              0.3333333333333333,
              "#9c179e"
             ],
             [
              0.4444444444444444,
              "#bd3786"
             ],
             [
              0.5555555555555556,
              "#d8576b"
             ],
             [
              0.6666666666666666,
              "#ed7953"
             ],
             [
              0.7777777777777778,
              "#fb9f3a"
             ],
             [
              0.8888888888888888,
              "#fdca26"
             ],
             [
              1,
              "#f0f921"
             ]
            ],
            "type": "surface"
           }
          ],
          "table": [
           {
            "cells": {
             "fill": {
              "color": "#EBF0F8"
             },
             "line": {
              "color": "white"
             }
            },
            "header": {
             "fill": {
              "color": "#C8D4E3"
             },
             "line": {
              "color": "white"
             }
            },
            "type": "table"
           }
          ]
         },
         "layout": {
          "annotationdefaults": {
           "arrowcolor": "#2a3f5f",
           "arrowhead": 0,
           "arrowwidth": 1
          },
          "autotypenumbers": "strict",
          "coloraxis": {
           "colorbar": {
            "outlinewidth": 0,
            "ticks": ""
           }
          },
          "colorscale": {
           "diverging": [
            [
             0,
             "#8e0152"
            ],
            [
             0.1,
             "#c51b7d"
            ],
            [
             0.2,
             "#de77ae"
            ],
            [
             0.3,
             "#f1b6da"
            ],
            [
             0.4,
             "#fde0ef"
            ],
            [
             0.5,
             "#f7f7f7"
            ],
            [
             0.6,
             "#e6f5d0"
            ],
            [
             0.7,
             "#b8e186"
            ],
            [
             0.8,
             "#7fbc41"
            ],
            [
             0.9,
             "#4d9221"
            ],
            [
             1,
             "#276419"
            ]
           ],
           "sequential": [
            [
             0,
             "#0d0887"
            ],
            [
             0.1111111111111111,
             "#46039f"
            ],
            [
             0.2222222222222222,
             "#7201a8"
            ],
            [
             0.3333333333333333,
             "#9c179e"
            ],
            [
             0.4444444444444444,
             "#bd3786"
            ],
            [
             0.5555555555555556,
             "#d8576b"
            ],
            [
             0.6666666666666666,
             "#ed7953"
            ],
            [
             0.7777777777777778,
             "#fb9f3a"
            ],
            [
             0.8888888888888888,
             "#fdca26"
            ],
            [
             1,
             "#f0f921"
            ]
           ],
           "sequentialminus": [
            [
             0,
             "#0d0887"
            ],
            [
             0.1111111111111111,
             "#46039f"
            ],
            [
             0.2222222222222222,
             "#7201a8"
            ],
            [
             0.3333333333333333,
             "#9c179e"
            ],
            [
             0.4444444444444444,
             "#bd3786"
            ],
            [
             0.5555555555555556,
             "#d8576b"
            ],
            [
             0.6666666666666666,
             "#ed7953"
            ],
            [
             0.7777777777777778,
             "#fb9f3a"
            ],
            [
             0.8888888888888888,
             "#fdca26"
            ],
            [
             1,
             "#f0f921"
            ]
           ]
          },
          "colorway": [
           "#636efa",
           "#EF553B",
           "#00cc96",
           "#ab63fa",
           "#FFA15A",
           "#19d3f3",
           "#FF6692",
           "#B6E880",
           "#FF97FF",
           "#FECB52"
          ],
          "font": {
           "color": "#2a3f5f"
          },
          "geo": {
           "bgcolor": "white",
           "lakecolor": "white",
           "landcolor": "#E5ECF6",
           "showlakes": true,
           "showland": true,
           "subunitcolor": "white"
          },
          "hoverlabel": {
           "align": "left"
          },
          "hovermode": "closest",
          "mapbox": {
           "style": "light"
          },
          "paper_bgcolor": "white",
          "plot_bgcolor": "#E5ECF6",
          "polar": {
           "angularaxis": {
            "gridcolor": "white",
            "linecolor": "white",
            "ticks": ""
           },
           "bgcolor": "#E5ECF6",
           "radialaxis": {
            "gridcolor": "white",
            "linecolor": "white",
            "ticks": ""
           }
          },
          "scene": {
           "xaxis": {
            "backgroundcolor": "#E5ECF6",
            "gridcolor": "white",
            "gridwidth": 2,
            "linecolor": "white",
            "showbackground": true,
            "ticks": "",
            "zerolinecolor": "white"
           },
           "yaxis": {
            "backgroundcolor": "#E5ECF6",
            "gridcolor": "white",
            "gridwidth": 2,
            "linecolor": "white",
            "showbackground": true,
            "ticks": "",
            "zerolinecolor": "white"
           },
           "zaxis": {
            "backgroundcolor": "#E5ECF6",
            "gridcolor": "white",
            "gridwidth": 2,
            "linecolor": "white",
            "showbackground": true,
            "ticks": "",
            "zerolinecolor": "white"
           }
          },
          "shapedefaults": {
           "line": {
            "color": "#2a3f5f"
           }
          },
          "ternary": {
           "aaxis": {
            "gridcolor": "white",
            "linecolor": "white",
            "ticks": ""
           },
           "baxis": {
            "gridcolor": "white",
            "linecolor": "white",
            "ticks": ""
           },
           "bgcolor": "#E5ECF6",
           "caxis": {
            "gridcolor": "white",
            "linecolor": "white",
            "ticks": ""
           }
          },
          "title": {
           "x": 0.05
          },
          "xaxis": {
           "automargin": true,
           "gridcolor": "white",
           "linecolor": "white",
           "ticks": "",
           "title": {
            "standoff": 15
           },
           "zerolinecolor": "white",
           "zerolinewidth": 2
          },
          "yaxis": {
           "automargin": true,
           "gridcolor": "white",
           "linecolor": "white",
           "ticks": "",
           "title": {
            "standoff": 15
           },
           "zerolinecolor": "white",
           "zerolinewidth": 2
          }
         }
        }
       }
      },
      "text/html": [
       "<div>                            <div id=\"80da1930-4f6c-4ec3-bc63-6123eb805186\" class=\"plotly-graph-div\" style=\"height:525px; width:100%;\"></div>            <script type=\"text/javascript\">                require([\"plotly\"], function(Plotly) {                    window.PLOTLYENV=window.PLOTLYENV || {};                                    if (document.getElementById(\"80da1930-4f6c-4ec3-bc63-6123eb805186\")) {                    Plotly.newPlot(                        \"80da1930-4f6c-4ec3-bc63-6123eb805186\",                        [{\"hovertemplate\": \"cluster=1<br>Darkness=%{x}<br>Purpleness=%{y}<br>Polychromaticity=%{z}<extra></extra>\", \"legendgroup\": \"1\", \"marker\": {\"color\": \"#636efa\", \"opacity\": 0.7, \"symbol\": \"circle\"}, \"mode\": \"markers\", \"name\": \"1\", \"scene\": \"scene\", \"showlegend\": true, \"type\": \"scatter3d\", \"x\": [-4.84161759904805, -3.5424850253738414, -3.614005519273559, 0.25806538638578913, -6.913083872415633, -0.24312194921369912, -3.7162481329189476, -2.5853549535749543, -2.1620693266536315, -0.6124375895333427, -5.344282246220721, -5.1095018526281955, -3.49425211823055, -1.67005619585758, -2.7845032087811075, -1.7592291851090753, -1.9810834567656062, -4.968879514696019, -1.0758147153163853, -2.2273135547203267, -2.2707799270350084, -3.0365818287379436, -2.010565684346796, -0.05260172332557683, -2.3433278571690295, -1.8119777760785212, -3.295499021800521, 0.14023185595248056, 0.026887269669251153, 0.36316033238315276, 0.5198185562981691, -3.075776012466798, -2.2576420200959437, -2.3768260424012957, 0.007565599484268374, -3.181947647214836, -0.1569874062471095, -2.335759773903857, -1.9944356932459153, -2.53958246863114, -1.324301338643765, -3.794284933982792, -1.9739275100971432, -2.2381432137165445, -1.9391495829556404, -1.782745549889739, -3.399118255273221, -0.17144777429528726, -0.09580445499853078, -4.3510372463177855, -4.162923221541716, -3.131344587606633, 1.0126179052188324, -2.916678893380604, -0.696866453379731], \"y\": [2.9015324147396986, 3.92464088948881, 1.0690657461256974, -0.3311392258835231, 1.0989436556834031, 1.1855221563262144, 0.9965433759978393, 0.6923775717364568, 2.444227676250785, 2.8260551877514697, 1.1604990639660997, 0.07755280895797809, -0.4776340574012586, 2.2751674204289656, 2.221499040545529, 3.8116351364032215, 0.742649830484237, 1.436783396328411, 1.0257123958756993, 0.23776120349737934, 2.571340033459247, 3.6075592501641336, 1.589790583900151, -1.550533201974786, 2.061225067564597, 0.8493104428042417, -0.10707941178254766, -0.29566171978212324, 0.12778300130542092, 5.983390132313728, 7.013548113866111, 2.4612136094994397, 2.6897503573424406, 2.3799222709000136, 2.790210991605485, 0.9932915718165647, 3.117477168387409, 2.1928811131794723, 2.0346732702354715, 2.1785673886229877, 0.15917609102902458, 1.4607093030043554, 2.03830164182496, 3.375436977678585, 3.4103755286543707, 2.188055069298697, 0.34662250124445254, 2.1607946533192286, 1.1455582191534142, 5.150988519590477, 4.301817583585912, 3.3566607599196407, 2.4987374449042665, -2.46355941663561, -0.4937087776947036], \"z\": [2.25173798152823, 0.25408130244926524, 3.162120343087736, 2.9146628707166085, 2.711886145702885, 2.137676582860307, 2.6119067965242175, -1.4560251035019003, -1.0580008733477393, 1.9386959270604045, 2.234472410437535, 4.910446205798483, 3.55979567278691, 1.3858177145147998, -0.3507752020370733, -0.5089470821731075, -1.2620490735948529, 1.969512896227821, 0.050868407506476934, -0.7585775114816153, -0.240782032070513, -0.40842495791510414, -1.9405260348684124, 4.2804900563596995, -0.6726338230629657, -1.4522592655243127, 1.5751205640312471, 1.0876082794746935, 0.5480519638021, -3.1287526154544376, -2.3823913801811725, -0.4039382304335047, -0.6862026638857531, -0.6561587157894921, -1.8531774480103966, -0.2880419561803159, -1.6952668634964991, -0.07244644279343534, -1.1015563725596023, -0.5087462462787654, 3.680838656179686, 4.244412091211856, -1.5457120016387929, -1.4572855958207194, -0.9125427512219333, -1.3360689409988482, 0.6499031673890894, -1.8945256626883498, -1.8508978150538526, 4.858874994526963, 3.6075704996880913, 4.042705428906337, 1.005496942831907, 6.2864601794252986, 0.7279999277664078]}, {\"hovertemplate\": \"cluster=0<br>Darkness=%{x}<br>Purpleness=%{y}<br>Polychromaticity=%{z}<extra></extra>\", \"legendgroup\": \"0\", \"marker\": {\"color\": \"#EF553B\", \"opacity\": 0.7, \"symbol\": \"circle\"}, \"mode\": \"markers\", \"name\": \"0\", \"scene\": \"scene\", \"showlegend\": true, \"type\": \"scatter3d\", \"x\": [4.54675530458697, 5.696498832732843, 5.57055316851182, 5.273453684752267, 4.330337260764482, 4.4593811115062705, 6.162175342004795, 6.152180392635482, 4.903519144623087, 3.2353012393883462, 1.4487269859764198, 4.4996762044771055, 3.7678449215984866, 3.2293302498099017, 6.031498967835914, 6.270191149507469, 3.5027805746223017, 2.7197020071504667, 5.2351905325122, 5.92678866791735, 5.306051465060331, 3.881573204763915, 4.447163728372044, 3.245586157933518, 3.8745065402411414, 3.946052200801686, 3.5567944205931816, 3.191264801294224, 1.4728854321208467, 4.170042546160154, 6.512404509619199, 6.088740401077029, 2.465408785542695, 1.4408151273086562, 1.3929104569858861, 4.373310863131126, 3.44019905622847, 3.8267005572364647, 1.710578594417113, 6.4597017793138996, 2.838391374660618, 4.058322274066089, 5.8477490709042685, 3.0775380106037624, 2.5712086552812146, 5.184865451541599, 5.447611640924546, 4.361455689512583, 5.570803385753478, 4.034638470819232, 1.6957175819446524, 2.27774676246541, 10.15612969692899, 2.4252942517908633, 2.8890646899526486, 3.3715621553972914, 3.9277199323773266, 2.4828503928027765, 3.2085942588483345, 2.5679003184718, 4.892173897864297, 4.087761005910895, 3.5620146823369363, 3.319058010880152, 4.761865343741184], \"y\": [-2.376073513559332, -1.3252161785865897, 0.7351884954404978, 0.9173710394059075, 0.2731418398233651, -4.565844861453469, -4.931684143972217, -0.7908220362985522, 1.6396503043376798, -2.0119330118939067, 0.3384213143104606, -0.5687933672358269, 2.7465964589260357, -2.344510042792375, 5.07394152139512, 2.655040310683209, -2.046670989624067, -0.5307996167820501, -4.301929810402094, -4.0372901990305925, -3.9005122038910547, -1.862218385321272, -3.2939351286969427, 2.484670064793537, 1.676906863971518, 1.0171079016274083, 2.9629046344483294, 3.0436785425246335, -0.9074672925699476, -3.6846117157501475, 1.373129372464656, 2.5606555098968333, 1.6994573957946781, 1.8834612796331676, 1.1737680241544173, -0.15342993666666874, 1.8203746732719528, 0.4257826572544737, -3.5537411714143206, -5.333464510487807, -0.1554303085176319, -2.4622811954142625, -1.908429526239097, 4.349666696702121, 3.586981436614862, -0.91885490458611, 0.09258578004430486, -1.4725795188697437, -1.0562610246933894, 1.558326031893772, -0.012358128027631785, 0.4203942652462735, 1.5256557497952374, 1.4630702824187767, 0.7860838747267261, 2.1019194561485244, 1.237050604018585, -3.09232183403313, 2.006710041286583, -3.203925609005754, 4.406013385022541, 0.438346664878512, -3.2768250461779456, -2.068754786827173, 0.5258207505023913], \"z\": [3.6157877715079576, 0.6170860406423648, -1.1430998424379248, -1.432907774291972, 0.9629936319325471, 1.9457147027791717, 0.9280483880168676, -0.25780385835219466, 0.6228438472788674, -0.7184162842185823, -0.14271166837140586, 1.1355557548468496, -1.7582474644573098, -1.822573186399819, -2.5517894560839616, -0.11588442705462756, 4.050773626588414, 3.34719267029736, 0.09407909667263932, 1.2945971069387947, 1.4149037419454353, -1.2899003453507176, 0.9619902904083392, -0.7642253404718288, -0.5748648007765919, 0.31988710752070143, -1.2746163412351337, -0.29767822502880636, -0.4270067464732971, -1.5482770549472271, 0.8850773795914291, 1.4200311465392406, -1.2654449027504096, -0.1536198893951066, -0.9115318358152582, 1.7673327712364633, 0.20154854733834046, 0.4346595179037602, -0.6389227122766221, -0.8804037204835207, -0.19607564044218825, 2.0598015316872686, 1.321634817438208, 2.3172333137440773, 2.8783473754220785, -0.20096624469324448, -2.5486391642884354, 2.1029582530232926, 1.3825432221298273, -2.2770401668139613, -0.4492603080116254, -0.3269865928912045, -1.7107460423387773, -0.10448629762985506, 0.2272280055672475, 1.0296856492570254, 1.4581274594713005, 0.02967652622381251, -2.025016882121988, -0.11845319991738175, -2.797815679539783, -0.7163064190677798, 0.9625001665417673, -0.08991161523858135, 0.21854351919153628]}, {\"hovertemplate\": \"cluster=2<br>Darkness=%{x}<br>Purpleness=%{y}<br>Polychromaticity=%{z}<extra></extra>\", \"legendgroup\": \"2\", \"marker\": {\"color\": \"#00cc96\", \"opacity\": 0.7, \"symbol\": \"circle\"}, \"mode\": \"markers\", \"name\": \"2\", \"scene\": \"scene\", \"showlegend\": true, \"type\": \"scatter3d\", \"x\": [-5.922031957562663, -4.184665525402641, -3.3232707362591873, -3.4918839654371627, -0.7457997401815397, -3.7021920529057355, -0.9845295930921879, -6.5985821521842665, -3.398920750719278, -4.199670492666487, -4.920985725719103, -2.7831953584233267, -2.6436374612061013, -1.239134688212251, 0.7592209243125903, -5.535979080309777, -3.3758069268530053, -3.368022577792931, -3.202278395541626, -0.5059951179772617, -0.6635612656191165, -2.4510053462947328, -4.2677271112434765, -4.6531630943044116, -1.3527896638428254, -1.4303179948433065, -0.8328954102447729, -6.050705360836413, -5.273239551857226, -1.3424197088273322, -1.0526978125461657, -1.4858384490483039, -1.1374246523694111, -3.542547200021231, -6.3661271248113644, -5.041938215485743, -0.8938202056961544, -1.452541726994276, -4.623129066909165, -3.9509302034271587, -4.095626997956301, -5.132669084552778, -1.7818625767557552, -1.9732435623596605, -2.1642714453620577, -4.775270401571806, -4.284554628310434, 0.09212286904754054], \"y\": [0.6316190433151804, -0.058973151785292305, -3.1583890631053713, -0.04939132590180529, -1.4894851764399624, -2.0618326690285, -0.8529270432028841, -2.6768632520367657, -3.0481750869048905, -0.9653392123795604, -2.7862569511134234, -2.330698854597737, -1.3931774734131293, -1.1065425768878494, -3.7219721018143965, -1.613706342358715, -2.2919583464101256, -3.130547779108964, 0.06814652669797923, -2.473335792533614, -2.8625151422033355, -1.6184121725475176, -1.2478669424190958, -4.192111504216523, -1.3973153243228498, -1.874809775465803, -2.6500034063448656, -2.3745205905012776, -2.7172055874251635, -0.628167726517909, 0.06869221793731427, -2.4348890462991295, -0.7435173791919076, -2.1425477932179278, -1.8799321534281603, -2.0939115246809408, -0.7358382624003752, -1.2743798217964528, -4.929107986721377, -1.511436836742875, -2.7842653008956453, -2.8814989321284563, -2.165317261209029, -0.04030650019118205, -0.5866102894014047, -2.3204062073869967, -1.1939248232943143, -3.7729923422206144], \"z\": [-0.6287268328331879, -2.7695799110272943, -2.2761872019617737, -1.584889734138023, -2.881402879377118, -2.0398354975251722, -1.9341843493258914, 0.5213270630486955, -2.663121380390088, 1.7468898888572328, 1.2641995882614556, -2.3833442735942354, 0.6372385851158123, 0.318642477195009, -3.1330146303618216, -1.5119198523201973, -2.005818958489631, -2.6293614011623387, -0.8700878461743804, -2.9805727018591686, 1.8081882149586945, -2.4759883412659573, -2.331555706738059, -2.4470401508832746, -2.299856523403527, -0.5921786197053105, -0.43627882907893906, -0.7414794538972813, -2.0818358898371985, -2.0768241887573162, -1.94165871695388, 0.28152740600992104, 0.0532060305982145, -1.9076420053926724, -0.33790872698523855, -1.228216955662123, 0.38969593042766604, 1.0911837348906173, -3.1368484165202153, -1.3256725145528074, 1.743650436926062, 1.4425913732262783, 2.599654003646312, -1.882984837418967, -2.0608537423178737, -1.5128975601828794, 0.5769023946839243, 3.351617305500518]}],                        {\"legend\": {\"title\": {\"text\": \"cluster\"}, \"tracegroupgap\": 0}, \"margin\": {\"t\": 60}, \"scene\": {\"domain\": {\"x\": [0.0, 1.0], \"y\": [0.0, 1.0]}, \"xaxis\": {\"title\": {\"text\": \"Darkness\"}}, \"yaxis\": {\"title\": {\"text\": \"Purpleness\"}}, \"zaxis\": {\"title\": {\"text\": \"Polychromaticity\"}}}, \"template\": {\"data\": {\"bar\": [{\"error_x\": {\"color\": \"#2a3f5f\"}, \"error_y\": {\"color\": \"#2a3f5f\"}, \"marker\": {\"line\": {\"color\": \"#E5ECF6\", \"width\": 0.5}}, \"type\": \"bar\"}], \"barpolar\": [{\"marker\": {\"line\": {\"color\": \"#E5ECF6\", \"width\": 0.5}}, \"type\": \"barpolar\"}], \"carpet\": [{\"aaxis\": {\"endlinecolor\": \"#2a3f5f\", \"gridcolor\": \"white\", \"linecolor\": \"white\", \"minorgridcolor\": \"white\", \"startlinecolor\": \"#2a3f5f\"}, \"baxis\": {\"endlinecolor\": \"#2a3f5f\", \"gridcolor\": \"white\", \"linecolor\": \"white\", \"minorgridcolor\": \"white\", \"startlinecolor\": \"#2a3f5f\"}, \"type\": \"carpet\"}], \"choropleth\": [{\"colorbar\": {\"outlinewidth\": 0, \"ticks\": \"\"}, \"type\": \"choropleth\"}], \"contour\": [{\"colorbar\": {\"outlinewidth\": 0, \"ticks\": \"\"}, \"colorscale\": [[0.0, \"#0d0887\"], [0.1111111111111111, \"#46039f\"], [0.2222222222222222, \"#7201a8\"], [0.3333333333333333, \"#9c179e\"], [0.4444444444444444, \"#bd3786\"], [0.5555555555555556, \"#d8576b\"], [0.6666666666666666, \"#ed7953\"], [0.7777777777777778, \"#fb9f3a\"], [0.8888888888888888, \"#fdca26\"], [1.0, \"#f0f921\"]], \"type\": \"contour\"}], \"contourcarpet\": [{\"colorbar\": {\"outlinewidth\": 0, \"ticks\": \"\"}, \"type\": \"contourcarpet\"}], \"heatmap\": [{\"colorbar\": {\"outlinewidth\": 0, \"ticks\": \"\"}, \"colorscale\": [[0.0, \"#0d0887\"], [0.1111111111111111, \"#46039f\"], [0.2222222222222222, \"#7201a8\"], [0.3333333333333333, \"#9c179e\"], [0.4444444444444444, \"#bd3786\"], [0.5555555555555556, \"#d8576b\"], [0.6666666666666666, \"#ed7953\"], [0.7777777777777778, \"#fb9f3a\"], [0.8888888888888888, \"#fdca26\"], [1.0, \"#f0f921\"]], \"type\": \"heatmap\"}], \"heatmapgl\": [{\"colorbar\": {\"outlinewidth\": 0, \"ticks\": \"\"}, \"colorscale\": [[0.0, \"#0d0887\"], [0.1111111111111111, \"#46039f\"], [0.2222222222222222, \"#7201a8\"], [0.3333333333333333, \"#9c179e\"], [0.4444444444444444, \"#bd3786\"], [0.5555555555555556, \"#d8576b\"], [0.6666666666666666, \"#ed7953\"], [0.7777777777777778, \"#fb9f3a\"], [0.8888888888888888, \"#fdca26\"], [1.0, \"#f0f921\"]], \"type\": \"heatmapgl\"}], \"histogram\": [{\"marker\": {\"colorbar\": {\"outlinewidth\": 0, \"ticks\": \"\"}}, \"type\": \"histogram\"}], \"histogram2d\": [{\"colorbar\": {\"outlinewidth\": 0, \"ticks\": \"\"}, \"colorscale\": [[0.0, \"#0d0887\"], [0.1111111111111111, \"#46039f\"], [0.2222222222222222, \"#7201a8\"], [0.3333333333333333, \"#9c179e\"], [0.4444444444444444, \"#bd3786\"], [0.5555555555555556, \"#d8576b\"], [0.6666666666666666, \"#ed7953\"], [0.7777777777777778, \"#fb9f3a\"], [0.8888888888888888, \"#fdca26\"], [1.0, \"#f0f921\"]], \"type\": \"histogram2d\"}], \"histogram2dcontour\": [{\"colorbar\": {\"outlinewidth\": 0, \"ticks\": \"\"}, \"colorscale\": [[0.0, \"#0d0887\"], [0.1111111111111111, \"#46039f\"], [0.2222222222222222, \"#7201a8\"], [0.3333333333333333, \"#9c179e\"], [0.4444444444444444, \"#bd3786\"], [0.5555555555555556, \"#d8576b\"], [0.6666666666666666, \"#ed7953\"], [0.7777777777777778, \"#fb9f3a\"], [0.8888888888888888, \"#fdca26\"], [1.0, \"#f0f921\"]], \"type\": \"histogram2dcontour\"}], \"mesh3d\": [{\"colorbar\": {\"outlinewidth\": 0, \"ticks\": \"\"}, \"type\": \"mesh3d\"}], \"parcoords\": [{\"line\": {\"colorbar\": {\"outlinewidth\": 0, \"ticks\": \"\"}}, \"type\": \"parcoords\"}], \"pie\": [{\"automargin\": true, \"type\": \"pie\"}], \"scatter\": [{\"marker\": {\"colorbar\": {\"outlinewidth\": 0, \"ticks\": \"\"}}, \"type\": \"scatter\"}], \"scatter3d\": [{\"line\": {\"colorbar\": {\"outlinewidth\": 0, \"ticks\": \"\"}}, \"marker\": {\"colorbar\": {\"outlinewidth\": 0, \"ticks\": \"\"}}, \"type\": \"scatter3d\"}], \"scattercarpet\": [{\"marker\": {\"colorbar\": {\"outlinewidth\": 0, \"ticks\": \"\"}}, \"type\": \"scattercarpet\"}], \"scattergeo\": [{\"marker\": {\"colorbar\": {\"outlinewidth\": 0, \"ticks\": \"\"}}, \"type\": \"scattergeo\"}], \"scattergl\": [{\"marker\": {\"colorbar\": {\"outlinewidth\": 0, \"ticks\": \"\"}}, \"type\": \"scattergl\"}], \"scattermapbox\": [{\"marker\": {\"colorbar\": {\"outlinewidth\": 0, \"ticks\": \"\"}}, \"type\": \"scattermapbox\"}], \"scatterpolar\": [{\"marker\": {\"colorbar\": {\"outlinewidth\": 0, \"ticks\": \"\"}}, \"type\": \"scatterpolar\"}], \"scatterpolargl\": [{\"marker\": {\"colorbar\": {\"outlinewidth\": 0, \"ticks\": \"\"}}, \"type\": \"scatterpolargl\"}], \"scatterternary\": [{\"marker\": {\"colorbar\": {\"outlinewidth\": 0, \"ticks\": \"\"}}, \"type\": \"scatterternary\"}], \"surface\": [{\"colorbar\": {\"outlinewidth\": 0, \"ticks\": \"\"}, \"colorscale\": [[0.0, \"#0d0887\"], [0.1111111111111111, \"#46039f\"], [0.2222222222222222, \"#7201a8\"], [0.3333333333333333, \"#9c179e\"], [0.4444444444444444, \"#bd3786\"], [0.5555555555555556, \"#d8576b\"], [0.6666666666666666, \"#ed7953\"], [0.7777777777777778, \"#fb9f3a\"], [0.8888888888888888, \"#fdca26\"], [1.0, \"#f0f921\"]], \"type\": \"surface\"}], \"table\": [{\"cells\": {\"fill\": {\"color\": \"#EBF0F8\"}, \"line\": {\"color\": \"white\"}}, \"header\": {\"fill\": {\"color\": \"#C8D4E3\"}, \"line\": {\"color\": \"white\"}}, \"type\": \"table\"}]}, \"layout\": {\"annotationdefaults\": {\"arrowcolor\": \"#2a3f5f\", \"arrowhead\": 0, \"arrowwidth\": 1}, \"autotypenumbers\": \"strict\", \"coloraxis\": {\"colorbar\": {\"outlinewidth\": 0, \"ticks\": \"\"}}, \"colorscale\": {\"diverging\": [[0, \"#8e0152\"], [0.1, \"#c51b7d\"], [0.2, \"#de77ae\"], [0.3, \"#f1b6da\"], [0.4, \"#fde0ef\"], [0.5, \"#f7f7f7\"], [0.6, \"#e6f5d0\"], [0.7, \"#b8e186\"], [0.8, \"#7fbc41\"], [0.9, \"#4d9221\"], [1, \"#276419\"]], \"sequential\": [[0.0, \"#0d0887\"], [0.1111111111111111, \"#46039f\"], [0.2222222222222222, \"#7201a8\"], [0.3333333333333333, \"#9c179e\"], [0.4444444444444444, \"#bd3786\"], [0.5555555555555556, \"#d8576b\"], [0.6666666666666666, \"#ed7953\"], [0.7777777777777778, \"#fb9f3a\"], [0.8888888888888888, \"#fdca26\"], [1.0, \"#f0f921\"]], \"sequentialminus\": [[0.0, \"#0d0887\"], [0.1111111111111111, \"#46039f\"], [0.2222222222222222, \"#7201a8\"], [0.3333333333333333, \"#9c179e\"], [0.4444444444444444, \"#bd3786\"], [0.5555555555555556, \"#d8576b\"], [0.6666666666666666, \"#ed7953\"], [0.7777777777777778, \"#fb9f3a\"], [0.8888888888888888, \"#fdca26\"], [1.0, \"#f0f921\"]]}, \"colorway\": [\"#636efa\", \"#EF553B\", \"#00cc96\", \"#ab63fa\", \"#FFA15A\", \"#19d3f3\", \"#FF6692\", \"#B6E880\", \"#FF97FF\", \"#FECB52\"], \"font\": {\"color\": \"#2a3f5f\"}, \"geo\": {\"bgcolor\": \"white\", \"lakecolor\": \"white\", \"landcolor\": \"#E5ECF6\", \"showlakes\": true, \"showland\": true, \"subunitcolor\": \"white\"}, \"hoverlabel\": {\"align\": \"left\"}, \"hovermode\": \"closest\", \"mapbox\": {\"style\": \"light\"}, \"paper_bgcolor\": \"white\", \"plot_bgcolor\": \"#E5ECF6\", \"polar\": {\"angularaxis\": {\"gridcolor\": \"white\", \"linecolor\": \"white\", \"ticks\": \"\"}, \"bgcolor\": \"#E5ECF6\", \"radialaxis\": {\"gridcolor\": \"white\", \"linecolor\": \"white\", \"ticks\": \"\"}}, \"scene\": {\"xaxis\": {\"backgroundcolor\": \"#E5ECF6\", \"gridcolor\": \"white\", \"gridwidth\": 2, \"linecolor\": \"white\", \"showbackground\": true, \"ticks\": \"\", \"zerolinecolor\": \"white\"}, \"yaxis\": {\"backgroundcolor\": \"#E5ECF6\", \"gridcolor\": \"white\", \"gridwidth\": 2, \"linecolor\": \"white\", \"showbackground\": true, \"ticks\": \"\", \"zerolinecolor\": \"white\"}, \"zaxis\": {\"backgroundcolor\": \"#E5ECF6\", \"gridcolor\": \"white\", \"gridwidth\": 2, \"linecolor\": \"white\", \"showbackground\": true, \"ticks\": \"\", \"zerolinecolor\": \"white\"}}, \"shapedefaults\": {\"line\": {\"color\": \"#2a3f5f\"}}, \"ternary\": {\"aaxis\": {\"gridcolor\": \"white\", \"linecolor\": \"white\", \"ticks\": \"\"}, \"baxis\": {\"gridcolor\": \"white\", \"linecolor\": \"white\", \"ticks\": \"\"}, \"bgcolor\": \"#E5ECF6\", \"caxis\": {\"gridcolor\": \"white\", \"linecolor\": \"white\", \"ticks\": \"\"}}, \"title\": {\"x\": 0.05}, \"xaxis\": {\"automargin\": true, \"gridcolor\": \"white\", \"linecolor\": \"white\", \"ticks\": \"\", \"title\": {\"standoff\": 15}, \"zerolinecolor\": \"white\", \"zerolinewidth\": 2}, \"yaxis\": {\"automargin\": true, \"gridcolor\": \"white\", \"linecolor\": \"white\", \"ticks\": \"\", \"title\": {\"standoff\": 15}, \"zerolinecolor\": \"white\", \"zerolinewidth\": 2}}}},                        {\"responsive\": true}                    ).then(function(){\n",
       "                            \n",
       "var gd = document.getElementById('80da1930-4f6c-4ec3-bc63-6123eb805186');\n",
       "var x = new MutationObserver(function (mutations, observer) {{\n",
       "        var display = window.getComputedStyle(gd).display;\n",
       "        if (!display || display === 'none') {{\n",
       "            console.log([gd, 'removed!']);\n",
       "            Plotly.purge(gd);\n",
       "            observer.disconnect();\n",
       "        }}\n",
       "}});\n",
       "\n",
       "// Listen for the removal of the full notebook cells\n",
       "var notebookContainer = gd.closest('#notebook-container');\n",
       "if (notebookContainer) {{\n",
       "    x.observe(notebookContainer, {childList: true});\n",
       "}}\n",
       "\n",
       "// Listen for the clearing of the current output cell\n",
       "var outputEl = gd.closest('.output');\n",
       "if (outputEl) {{\n",
       "    x.observe(outputEl, {childList: true});\n",
       "}}\n",
       "\n",
       "                        })                };                });            </script>        </div>"
      ]
     },
     "metadata": {},
     "output_type": "display_data"
    }
   ],
   "source": [
    "pc1label = \"Darkness\"\n",
    "pc2label = \"Purpleness\"\n",
    "pc3label = \"Polychromaticity\"\n",
    "\n",
    "scatterPlots()"
   ]
  },
  {
   "cell_type": "markdown",
   "metadata": {
    "kernel": "SoS"
   },
   "source": [
    "# Check contribution of features in PCA components"
   ]
  },
  {
   "cell_type": "code",
   "execution_count": 15,
   "metadata": {
    "kernel": "SoS",
    "scrolled": false
   },
   "outputs": [
    {
     "name": "stdout",
     "output_type": "stream",
     "text": [
      "[0.10504714202815718, 0.14940688443066752, -0.02259179637230256, 0.010077944893689893, -0.05034870367550559, -0.03570061149440428, -0.024029067673500097, 0.053798473339259016, 0.06935388353484649, 0.05885145367547895, -0.053240626529379026, -0.03667769640009628, -0.024502353146541703, 0.020970228802464436, 0.02187359392305852, 0.018592177805054434, -0.03982213900315446, -0.0005043034109050872, -0.00662480138117773, 0.094369761921657, -0.0011278847496028522, -0.00023742333552929313, -0.04144453403056421, -0.0024204812567264014, -0.008300380294442907, 0.036444210713838486, -0.01000121496962829, -0.003640227208366998]\n"
     ]
    },
    {
     "data": {
      "text/plain": [
       "<matplotlib.legend.Legend at 0x7f971a32a9d0>"
      ]
     },
     "execution_count": 15,
     "metadata": {},
     "output_type": "execute_result"
    },
    {
     "data": {
      "image/png": "[encoded data removed]",
      "text/plain": [
       "<Figure size 1080x1080 with 1 Axes>"
      ]
     },
     "metadata": {
      "needs_background": "light"
     },
     "output_type": "display_data"
    }
   ],
   "source": [
    "contri_features = pd.DataFrame(pca.components_[0:3, :],columns=features)\n",
    "pca1_contribution = contribution(contri_features.iloc[0].values)\n",
    "pca2_contribution = contribution(contri_features.iloc[1].values)\n",
    "pca3_contribution = contribution(contri_features.iloc[2].values)\n",
    "\n",
    "print(pca3_contribution)\n",
    "\n",
    "x = np.arange(len(pca1_contribution))\n",
    "\n",
    "width = 0.25\n",
    "\n",
    "#plot contribution\n",
    "fig, ax = plt.subplots(figsize=(15,15))\n",
    "pca1_plot = ax.bar(x - width, pca1_contribution, width/2, label='PCA1', color=\"black\")\n",
    "pca2_plot = ax.bar(x, pca2_contribution, width/2, label='PCA2', color=\"gray\")\n",
    "pca3_plot = ax.bar(x + width, pca3_contribution, width/2, label='PCA3', color=\"purple\")\n",
    "\n",
    "# Add some text for labels, title and custom x-axis tick labels, etc.\n",
    "ax.set_ylabel('Contribution')\n",
    "ax.set_title('Feature contribution')\n",
    "ax.set_xticks(x)\n",
    "ax.legend()"
   ]
  },
  {
   "cell_type": "markdown",
   "metadata": {
    "kernel": "SoS"
   },
   "source": [
    "A brief explanation of each varialbe:\n",
    "* label: generated using the date provided and the colony ID\n",
    "* sample: file name given to the plate\n",
    "* ID: colony ID generated by plate# and colony#\n",
    "* centroid(1,2): x-y coordenates of the colony center in the plate\n",
    "* peaks: number of identations along the perimeter of the colony\n",
    "* height_peaks: length (height) of the identations from the colony center\n",
    "* circularity: the closest to 1 the more circulare the object\n",
    "* eccentricity: the closest to 1 the more rectangular the object\n",
    "* RGB_mean: mean values of the whole area. 1=red, 2=green, 3=blue\n",
    "* RGB_std: standard deviation values of the whole area\n",
    "* RGBt_mean: mean values of a rectangular area across a colony\n",
    "* RGBt_std: standard deviation values of a rectangular area across a colony\n",
    "* Lab is a different color space: L=brightness(1), a=red-green(2), b=blue-yellow(3)."
   ]
  },
  {
   "cell_type": "code",
   "execution_count": 16,
   "metadata": {
    "kernel": "SoS"
   },
   "outputs": [
    {
     "name": "stdout",
     "output_type": "stream",
     "text": [
      "PCA1 most important components:  [('RGB_mean_1', -0.06), ('RGB_mean_2', -0.06), ('RGB_mean_3', -0.06), ('RGBt_mean_2', -0.06), ('RGBt_mean_3', -0.06), ('RGBt_std_2', -0.06), ('RGBt_std_3', -0.06), ('Lab_mean_1', -0.06), ('Labt_mean_1', -0.06), ('RGB_std_2', -0.05), ('RGB_std_3', -0.05), ('RGBt_mean_1', -0.05), ('RGBt_std_1', -0.05), ('Labt_std_1', -0.05), ('RGB_std_1', -0.04)]\n",
      "PCA2 most important components:  [('Lab_std_3', 0.13), ('Lab_std_2', 0.12), ('Labt_std_3', 0.12), ('Labt_mean_2', 0.11), ('Labt_std_2', 0.11), ('Lab_mean_2', 0.1), ('Labt_mean_3', 0.1), ('Lab_mean_3', 0.09), ('RGBt_std_1', 0.03), ('RGB_std_1', 0.02), ('circularity', -0.01), ('eccentricity', 0.01), ('RGB_mean_1', 0.01), ('RGB_mean_3', -0.01), ('RGB_std_2', 0.01)]\n",
      "PCA3 most important components:  [('height_peaks', 0.15), ('peaks', 0.11), ('Lab_std_1', 0.09), ('RGB_std_2', 0.07), ('RGB_std_3', 0.06), ('RGB_mean_1', -0.05), ('RGB_std_1', 0.05), ('RGBt_mean_1', -0.05), ('RGB_mean_2', -0.04), ('RGBt_mean_2', -0.04), ('Lab_mean_1', -0.04), ('Labt_mean_1', -0.04), ('Labt_std_1', 0.04), ('circularity', -0.02), ('RGB_mean_3', -0.02)]\n"
     ]
    }
   ],
   "source": [
    "pca1_features = [(feature, round(pca1, 2)) for feature, pca1 \n",
    "                       in zip(features, pca1_contribution)]\n",
    "pca1_features_contribution = sorted(pca1_features, key = lambda x: abs(x[1]), reverse = True)\n",
    "pca2_features = [(feature, round(pca2, 2)) for feature, pca2 \n",
    "                       in zip(features, pca2_contribution)]\n",
    "pca2_features_contribution = sorted(pca2_features, key = lambda x: abs(x[1]), reverse = True)\n",
    "pca3_features = [(feature, round(pca3, 2)) for feature, pca3 \n",
    "                       in zip(features, pca3_contribution)]\n",
    "pca3_features_contribution = sorted(pca3_features, key = lambda x: abs(x[1]), reverse = True)\n",
    "print('PCA1 most important components: ', pca1_features_contribution[0:15])\n",
    "print('PCA2 most important components: ', pca2_features_contribution[0:15])\n",
    "print('PCA3 most important components: ', pca3_features_contribution[0:15])"
   ]
  },
  {
   "cell_type": "markdown",
   "metadata": {
    "kernel": "SoS"
   },
   "source": [
    "# Predicting bioactivity"
   ]
  },
  {
   "cell_type": "markdown",
   "metadata": {},
   "source": [
    "In this section you can use a support vector machine to predict the bioactivity of a new colony based on data on the previous data."
   ]
  },
  {
   "cell_type": "code",
   "execution_count": 17,
   "metadata": {
    "scrolled": true
   },
   "outputs": [
    {
     "data": {
      "image/png": "[encoded data removed]",
      "text/plain": [
       "<Figure size 432x288 with 1 Axes>"
      ]
     },
     "metadata": {},
     "output_type": "display_data"
    },
    {
     "ename": "KeyboardInterrupt",
     "evalue": "",
     "output_type": "error",
     "traceback": [
      "\u001b[0;31m---------------------------------------------------------------------------\u001b[0m",
      "\u001b[0;31mKeyboardInterrupt\u001b[0m                         Traceback (most recent call last)",
      "\u001b[0;32m<ipython-input-17-cc9e9097d004>\u001b[0m in \u001b[0;36m<module>\u001b[0;34m\u001b[0m\n\u001b[1;32m     59\u001b[0m \u001b[0;34m\u001b[0m\u001b[0m\n\u001b[1;32m     60\u001b[0m     \u001b[0;31m# Fit model\u001b[0m\u001b[0;34m\u001b[0m\u001b[0;34m\u001b[0m\u001b[0;34m\u001b[0m\u001b[0m\n\u001b[0;32m---> 61\u001b[0;31m     \u001b[0mmodel\u001b[0m\u001b[0;34m.\u001b[0m\u001b[0mfit\u001b[0m\u001b[0;34m(\u001b[0m\u001b[0mX_train\u001b[0m\u001b[0;34m,\u001b[0m\u001b[0my_train\u001b[0m\u001b[0;34m)\u001b[0m\u001b[0;34m\u001b[0m\u001b[0;34m\u001b[0m\u001b[0m\n\u001b[0m\u001b[1;32m     62\u001b[0m \u001b[0;34m\u001b[0m\u001b[0m\n\u001b[1;32m     63\u001b[0m     \u001b[0;31m#Plot model\u001b[0m\u001b[0;34m\u001b[0m\u001b[0;34m\u001b[0m\u001b[0;34m\u001b[0m\u001b[0m\n",
      "\u001b[0;32m~/opt/anaconda3/lib/python3.7/site-packages/sklearn/svm/_base.py\u001b[0m in \u001b[0;36mfit\u001b[0;34m(self, X, y, sample_weight)\u001b[0m\n\u001b[1;32m    197\u001b[0m \u001b[0;34m\u001b[0m\u001b[0m\n\u001b[1;32m    198\u001b[0m         \u001b[0mseed\u001b[0m \u001b[0;34m=\u001b[0m \u001b[0mrnd\u001b[0m\u001b[0;34m.\u001b[0m\u001b[0mrandint\u001b[0m\u001b[0;34m(\u001b[0m\u001b[0mnp\u001b[0m\u001b[0;34m.\u001b[0m\u001b[0miinfo\u001b[0m\u001b[0;34m(\u001b[0m\u001b[0;34m'i'\u001b[0m\u001b[0;34m)\u001b[0m\u001b[0;34m.\u001b[0m\u001b[0mmax\u001b[0m\u001b[0;34m)\u001b[0m\u001b[0;34m\u001b[0m\u001b[0;34m\u001b[0m\u001b[0m\n\u001b[0;32m--> 199\u001b[0;31m         \u001b[0mfit\u001b[0m\u001b[0;34m(\u001b[0m\u001b[0mX\u001b[0m\u001b[0;34m,\u001b[0m \u001b[0my\u001b[0m\u001b[0;34m,\u001b[0m \u001b[0msample_weight\u001b[0m\u001b[0;34m,\u001b[0m \u001b[0msolver_type\u001b[0m\u001b[0;34m,\u001b[0m \u001b[0mkernel\u001b[0m\u001b[0;34m,\u001b[0m \u001b[0mrandom_seed\u001b[0m\u001b[0;34m=\u001b[0m\u001b[0mseed\u001b[0m\u001b[0;34m)\u001b[0m\u001b[0;34m\u001b[0m\u001b[0;34m\u001b[0m\u001b[0m\n\u001b[0m\u001b[1;32m    200\u001b[0m         \u001b[0;31m# see comment on the other call to np.iinfo in this file\u001b[0m\u001b[0;34m\u001b[0m\u001b[0;34m\u001b[0m\u001b[0;34m\u001b[0m\u001b[0m\n\u001b[1;32m    201\u001b[0m \u001b[0;34m\u001b[0m\u001b[0m\n",
      "\u001b[0;32m~/opt/anaconda3/lib/python3.7/site-packages/sklearn/svm/_base.py\u001b[0m in \u001b[0;36m_dense_fit\u001b[0;34m(self, X, y, sample_weight, solver_type, kernel, random_seed)\u001b[0m\n\u001b[1;32m    256\u001b[0m                 \u001b[0mcache_size\u001b[0m\u001b[0;34m=\u001b[0m\u001b[0mself\u001b[0m\u001b[0;34m.\u001b[0m\u001b[0mcache_size\u001b[0m\u001b[0;34m,\u001b[0m \u001b[0mcoef0\u001b[0m\u001b[0;34m=\u001b[0m\u001b[0mself\u001b[0m\u001b[0;34m.\u001b[0m\u001b[0mcoef0\u001b[0m\u001b[0;34m,\u001b[0m\u001b[0;34m\u001b[0m\u001b[0;34m\u001b[0m\u001b[0m\n\u001b[1;32m    257\u001b[0m                 \u001b[0mgamma\u001b[0m\u001b[0;34m=\u001b[0m\u001b[0mself\u001b[0m\u001b[0;34m.\u001b[0m\u001b[0m_gamma\u001b[0m\u001b[0;34m,\u001b[0m \u001b[0mepsilon\u001b[0m\u001b[0;34m=\u001b[0m\u001b[0mself\u001b[0m\u001b[0;34m.\u001b[0m\u001b[0mepsilon\u001b[0m\u001b[0;34m,\u001b[0m\u001b[0;34m\u001b[0m\u001b[0;34m\u001b[0m\u001b[0m\n\u001b[0;32m--> 258\u001b[0;31m                 max_iter=self.max_iter, random_seed=random_seed)\n\u001b[0m\u001b[1;32m    259\u001b[0m \u001b[0;34m\u001b[0m\u001b[0m\n\u001b[1;32m    260\u001b[0m         \u001b[0mself\u001b[0m\u001b[0;34m.\u001b[0m\u001b[0m_warn_from_fit_status\u001b[0m\u001b[0;34m(\u001b[0m\u001b[0;34m)\u001b[0m\u001b[0;34m\u001b[0m\u001b[0;34m\u001b[0m\u001b[0m\n",
      "\u001b[0;31mKeyboardInterrupt\u001b[0m: "
     ]
    }
   ],
   "source": [
    "import math\n",
    "from sklearn import svm\n",
    "from sklearn import metrics\n",
    "from sklearn.model_selection import cross_val_score\n",
    "from sklearn.neural_network import MLPClassifier\n",
    "import matplotlib.pyplot as plt\n",
    "from scipy import stats\n",
    "\n",
    "#Plot Descisionboundary\n",
    "def make_meshgrid(x, y, h=.02):\n",
    "    x_min, x_max = x.min() - 1, x.max() + 1\n",
    "    y_min, y_max = y.min() - 1, y.max() + 1\n",
    "    xx, yy = np.meshgrid(np.arange(x_min, x_max, h), np.arange(y_min, y_max, h))\n",
    "    return xx, yy\n",
    "\n",
    "#Plot Descisionboundary\n",
    "def plot_contours(ax, clf, xx, yy, **params):\n",
    "    Z = clf.predict(np.c_[xx.ravel(), yy.ravel()])\n",
    "    Z = Z.reshape(xx.shape)\n",
    "    out = ax.contourf(xx, yy, Z, **params)\n",
    "    return out\n",
    "\n",
    "#Tranfsforms data into format suitable for SVM\n",
    "def get_bioactivity_data(dims,timestamp,labels):\n",
    "    def bioactivity(samples):\n",
    "        return [(sample[0:len(sample) if not ' ' in sample else sample.index(' ')] in labels) for sample in samples]\n",
    "    raw_data = pd.read_excel('regression_'+timestamp+'.xls') \n",
    "    raw_data.reset_index(drop=True, inplace=True)\n",
    "    \n",
    "    extracted_data = raw_data.loc[:,features]\n",
    "    \n",
    "    scaled_data = StandardScaler().fit_transform(extracted_data)\n",
    "    \n",
    "    X = pca.transform(scaled_data)[:,0:dims]\n",
    "    \n",
    "    y = bioactivity(raw_data['sample'])\n",
    "    \n",
    "    return X, y, raw_data\n",
    "\n",
    "\n",
    "Saureus = ['S. aureus', ['100-2-1', '100-2-11', '100-2-14', '100-2-17', '100-3-1', '100-3-6', '20-2-1', '20-2-4', '20-3-7', '20-3-8', '20-4-1', '20-4-4', '20-4-5', '20-5-3', '20-5-5', '40-1-6', '40-2-1', '40-2-2', '40-3-4', '40-3-9', '40-4-10', '40-4-11', '40-4-17', '40-4-9', '40-5-1', '40-5-6', '40-5-7', 'HavSE8', 'Hav55', 'ISP2-15', 'ISP2-10', 'ISP2-6', 'ISP2-9', 'ISP2-3', 'ISP2-1', 'ISP2-7']]\n",
    "Ecoli   = ['E. coli', ['Hav55', 'ISP2-4', 'ISP2-12', 'ISP2-9', 'ISP2-14']]\n",
    "\n",
    "\n",
    "# Settings for model\n",
    "num = 10000\n",
    "dims = 2\n",
    "bacteria = Saureus\n",
    "test_set = 0.30\n",
    "\n",
    "# Initialize and fit model\n",
    "model = svm.SVC(probability=True)\n",
    "scores = []\n",
    "X,y,raw_data = get_bioactivity_data(dims,'2021_05_04_16_38_25',bacteria[1])\n",
    "k = test_set * len(y)\n",
    "for i in range(num):\n",
    "    # Split data into test data and train data\n",
    "    X_train, X_test, y_train, y_test, raw_data_train, raw_data_test = train_test_split(X, y, raw_data, test_size=test_set)\n",
    "\n",
    "    # Fit model\n",
    "    model.fit(X_train,y_train)\n",
    "\n",
    "    #Plot model \n",
    "    if i==0 and dims == 2:\n",
    "        fig, ax = plt.subplots()\n",
    "        # title for the plots\n",
    "        title = ('Decision boundary for SVM predicting bioactivity against '+bacteria[0])\n",
    "        # Set-up grid for plotting.\n",
    "        X0, X1 = X[:, 0], X[:, 1]\n",
    "        xx, yy = make_meshgrid(X0, X1)\n",
    "\n",
    "        plot_contours(ax, model, xx, yy, cmap=plt.cm.Reds, alpha=0.6)\n",
    "        ax.scatter(X0, X1, c=y, cmap=plt.cm.Reds, alpha=0.8, s=20, edgecolors='k')\n",
    "        ax.set_ylabel('Purpleness')\n",
    "        ax.set_xlabel('Darkness')\n",
    "        ax.set_xticks(())\n",
    "        ax.set_yticks(())\n",
    "        ax.set_title(title)\n",
    "        plt.show()\n",
    "\n",
    "    # Evaluate model on test data\n",
    "    score = model.score(X_test, y_test)\n",
    "    scores.append(score)\n",
    "\n",
    "accuracy = sum(scores)/len(scores)\n",
    "pvalue = stats.binom_test((accuracy)*k, n=k, p=max(1-sum(y)/len(y), sum(y)/len(y)))\n",
    "\n",
    "print('Output of SVM classifier on '+bacteria[0])\n",
    "print('#principal components: ',dims)\n",
    "print('E_out', accuracy)\n",
    "print('pvalue (in %)', pvalue*100)\n",
    "print('This is ' + ('significant. We REJECT the hypothesis that it is no better than guessing the same for all.' if pvalue < 0.05 else 'NOT significant. We CANNOT REJECT the hypothesis that our model is no better than guessing the same for all.'))\n",
    "\n",
    "# blå = bioaktivitet\n",
    "# rød = ingen bioaktivitet"
   ]
  },
  {
   "cell_type": "markdown",
   "metadata": {},
   "source": [
    "# Phylogenetic analysis"
   ]
  },
  {
   "cell_type": "code",
   "execution_count": 18,
   "metadata": {},
   "outputs": [],
   "source": [
    "from Bio import Phylo\n",
    "from Bio.Phylo import PhyloXML as PX\n",
    "import matplotlib\n",
    "import matplotlib.pyplot as plt"
   ]
  },
  {
   "cell_type": "code",
   "execution_count": 19,
   "metadata": {},
   "outputs": [
    {
     "data": {
      "image/png": "[encoded data removed]",
      "text/plain": [
       "<Figure size 800x800 with 1 Axes>"
      ]
     },
     "metadata": {
      "needs_background": "light"
     },
     "output_type": "display_data"
    }
   ],
   "source": [
    "day = ''\n",
    "\n",
    "toCluster = True\n",
    "\n",
    "method = 'raxml'\n",
    "\n",
    "tree = Phylo.read(\"tree_\"+method+\".txt\", \"newick\")\n",
    "labels = [\"○\", \"▵\", \"□\", \"☆\", \"◇\", \"▦\"]\n",
    "\n",
    "tree.root_at_midpoint()\n",
    "tree.ladderize()\n",
    "for clade in tree.find_clades():\n",
    "    for i in range(len(dataAll)):\n",
    "        lbl = dataAll['sample'][i]\n",
    "        if toCluster:\n",
    "            if clade.name != None and clade.name.replace(\" \",\"\").replace(\"-\",\"\") in lbl.replace(\" \",\"\").replace(\"-\",\"\") :\n",
    "                cluster = clustersNum.loc[i].item()\n",
    "                clade.name += \" \"+labels[cluster]\n",
    "\n",
    "fig = plt.figure(figsize=(8, 8), dpi=100)\n",
    "axes = fig.add_subplot(1, 1, 1)\n",
    "fig.text(1,1,'○ Cluster 1\\n▵ Cluster 2\\n□ Cluster 3\\n☆ Cluster 4')\n",
    "Phylo.draw(tree, axes=axes)"
   ]
  },
  {
   "cell_type": "code",
   "execution_count": null,
   "metadata": {},
   "outputs": [],
   "source": []
  },
  {
   "cell_type": "code",
   "execution_count": null,
   "metadata": {},
   "outputs": [],
   "source": []
  },
  {
   "cell_type": "code",
   "execution_count": null,
   "metadata": {},
   "outputs": [],
   "source": []
  }
 ],
 "metadata": {
  "kernelspec": {
   "display_name": "Python 3",
   "language": "python",
   "name": "python3"
  },
  "language_info": {
   "codemirror_mode": {
    "name": "ipython",
    "version": 3
   },
   "file_extension": ".py",
   "mimetype": "text/x-python",
   "name": "python",
   "nbconvert_exporter": "python",
   "pygments_lexer": "ipython3",
   "version": "3.7.6"
  },
  "sos": {
   "kernels": [
    [
     "R",
     "ir",
     "R",
     "#DCDCDA",
     "r"
    ],
    [
     "SoS",
     "sos",
     "",
     "",
     "sos"
    ]
   ],
   "panel": {
    "displayed": false,
    "height": 0
   },
   "version": "0.21.21"
  },
  "toc": {
   "base_numbering": 1,
   "nav_menu": {},
   "number_sections": true,
   "sideBar": true,
   "skip_h1_title": false,
   "title_cell": "Table of Contents",
   "title_sidebar": "Contents",
   "toc_cell": false,
   "toc_position": {
    "height": "calc(100% - 180px)",
    "left": "10px",
    "top": "150px",
    "width": "191.594px"
   },
   "toc_section_display": true,
   "toc_window_display": false
  }
 },
 "nbformat": 4,
 "nbformat_minor": 2
}
